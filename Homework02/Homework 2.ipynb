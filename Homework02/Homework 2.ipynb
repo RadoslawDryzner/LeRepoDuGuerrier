{
 "cells": [
  {
   "cell_type": "markdown",
   "metadata": {},
   "source": [
    "First, we import all the needed librairies."
   ]
  },
  {
   "cell_type": "code",
   "execution_count": null,
   "metadata": {},
   "outputs": [],
   "source": [
    "# Import libraries\n",
    "import requests\n",
    "from bs4 import BeautifulSoup\n",
    "import json"
   ]
  },
  {
   "cell_type": "markdown",
   "metadata": {},
   "source": [
    "We noticed that the actual data from topuniversities is not directly on the webpage, but on a separate text file, which contains json information.\n",
    "Thus, we first get this json, parse it, and take the first 200 entries in it.\n",
    "We noticed that the univertsity with rank 199 is actually the 198th entry, and thus the last 3 universities needs to have their rank corrected."
   ]
  },
  {
   "cell_type": "code",
   "execution_count": null,
   "metadata": {},
   "outputs": [],
   "source": [
    "r = requests.get('https://www.topuniversities.com/sites/default/files/qs-rankings-data/357051.txt?_=1508259845358')\n",
    "raw_data = json.loads(r.text)['data'][:200]"
   ]
  },
  {
   "cell_type": "markdown",
   "metadata": {},
   "source": [
    "We can print the first entry of the data to see how the informations are represented."
   ]
  },
  {
   "cell_type": "code",
   "execution_count": null,
   "metadata": {},
   "outputs": [],
   "source": [
    "raw_data[0]"
   ]
  },
  {
   "cell_type": "markdown",
   "metadata": {},
   "source": [
    "We can now define functions that will help us during the processing of this json."
   ]
  },
  {
   "cell_type": "markdown",
   "metadata": {},
   "source": [
    "First, process_university takes as input the raw json of a particular uni, and outputs a dictionnary containing the name, rank, country, region, number of faculty members (international and total) and number of students (international and total) for that given uni.\n",
    "\n",
    "It uses other functions defined below."
   ]
  },
  {
   "cell_type": "code",
   "execution_count": null,
   "metadata": {},
   "outputs": [],
   "source": [
    "def process_university(uni):\n",
    "    name = uni['title']\n",
    "    rank = get_rank(uni['rank_display'])\n",
    "    country = uni['country']\n",
    "    region = uni['region']\n",
    "    \n",
    "    numbers = get_numbers(uni['url'])\n",
    "    info = {'name' : name, 'rank' : rank, 'country' : country, 'region' : region}\n",
    "    info.update(numbers)\n",
    "    return info"
   ]
  },
  {
   "cell_type": "markdown",
   "metadata": {},
   "source": [
    "As there can be ties in rank, the displayed rank is not always a integer. Furthermore, as said above, the last 3 unis have incorrect ranks and need to be fixed."
   ]
  },
  {
   "cell_type": "code",
   "execution_count": null,
   "metadata": {},
   "outputs": [],
   "source": [
    "def get_rank(rank_display):\n",
    "    rank = int(rank_display.replace(\"=\", \"\"))\n",
    "    if rank >= 199:\n",
    "        rank -= 1\n",
    "    return rank\n",
    "    "
   ]
  },
  {
   "cell_type": "markdown",
   "metadata": {},
   "source": [
    "To get the number of faculty members (international and total) and number of students (international and total), we need to get another request, and this time, we will need to parse the webpage using BeautifulSoup.\n",
    "\n",
    "By inspecting the webpage, we noticed the classes of the elements where the numbers are contained. Once we get these elements, we further need to parse its content, to get the value as an integer."
   ]
  },
  {
   "cell_type": "code",
   "execution_count": null,
   "metadata": {},
   "outputs": [],
   "source": [
    "def get_numbers(url):\n",
    "    r = requests.get(\"https://www.topuniversities.com/\" + url)\n",
    "    soup = BeautifulSoup(r.text, 'html.parser')\n",
    "    \n",
    "    faculty_info = soup.select(\".text .number\")\n",
    "    total_faculty = parse_int(faculty_info[0].decode_contents(formatter=\"html\"))\n",
    "    international_faculty = parse_int(faculty_info[1].decode_contents(formatter=\"html\"))\n",
    "    \n",
    "    student_info = soup.select(\".barp .number\")\n",
    "    total_student = parse_int(student_info[0].decode_contents(formatter=\"html\"))\n",
    "    international_student = parse_int(student_info[1].decode_contents(formatter=\"html\"))\n",
    "    return {'total_faculty' : total_faculty, 'international_faculty' : international_faculty, 'total_student' : total_student, 'international_student' : international_student}"
   ]
  },
  {
   "cell_type": "code",
   "execution_count": null,
   "metadata": {},
   "outputs": [],
   "source": [
    "def parse_int(str):\n",
    "    return int(str.replace(\"\\n\", \"\").replace(\" \", \"\").replace(\",\", \"\"))"
   ]
  },
  {
   "cell_type": "code",
   "execution_count": null,
   "metadata": {},
   "outputs": [],
   "source": [
    "for uni in raw_data:\n",
    "    print(process_university(uni))"
   ]
  },
  {
   "cell_type": "code",
   "execution_count": null,
   "metadata": {},
   "outputs": [],
   "source": [
    "#TODO : save final json to avoid doing all the requests again"
   ]
  },
  {
   "cell_type": "code",
   "execution_count": null,
   "metadata": {},
   "outputs": [],
   "source": []
  },
  {
   "cell_type": "code",
   "execution_count": null,
   "metadata": {},
   "outputs": [],
   "source": []
  }
 ],
 "metadata": {
  "kernelspec": {
   "display_name": "Python 3",
   "language": "python",
   "name": "python3"
  },
  "language_info": {
   "codemirror_mode": {
    "name": "ipython",
    "version": 3
   },
   "file_extension": ".py",
   "mimetype": "text/x-python",
   "name": "python",
   "nbconvert_exporter": "python",
   "pygments_lexer": "ipython3",
   "version": "3.5.2"
  }
 },
 "nbformat": 4,
 "nbformat_minor": 2
}
