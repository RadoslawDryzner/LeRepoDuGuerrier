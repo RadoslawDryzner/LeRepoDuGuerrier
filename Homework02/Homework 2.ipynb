{
 "cells": [
  {
   "cell_type": "markdown",
   "metadata": {},
   "source": [
    "First, we import all the needed librairies."
   ]
  },
  {
   "cell_type": "code",
   "execution_count": null,
   "metadata": {},
   "outputs": [],
   "source": [
    "# Import libraries\n",
    "import requests\n",
    "from bs4 import BeautifulSoup\n",
    "import json\n",
    "import math\n",
    "import time\n",
    "import pandas as pd\n",
    "%matplotlib inline\n",
    "import matplotlib.pyplot as plt\n",
    "import seaborn as sns"
   ]
  },
  {
   "cell_type": "markdown",
   "metadata": {},
   "source": [
    "We noticed that the actual data from topuniversities is not directly on the webpage, but on a separate text file, which contains json information.\n",
    "Thus, we first get this json, parse it, and take the first 200 entries in it.\n",
    "We noticed that the univertsity with rank 199 is actually the 198th entry, and thus the last 3 universities needs to have their rank corrected."
   ]
  },
  {
   "cell_type": "code",
   "execution_count": null,
   "metadata": {},
   "outputs": [],
   "source": [
    "r = requests.get('https://www.topuniversities.com/sites/default/files/qs-rankings-data/357051.txt?_=1508259845358')\n",
    "raw_data = json.loads(r.text)['data'][:200]"
   ]
  },
  {
   "cell_type": "markdown",
   "metadata": {},
   "source": [
    "We can print the first entry of the data to see how the informations are represented."
   ]
  },
  {
   "cell_type": "code",
   "execution_count": null,
   "metadata": {},
   "outputs": [],
   "source": [
    "raw_data[0]"
   ]
  },
  {
   "cell_type": "markdown",
   "metadata": {},
   "source": [
    "We can now define functions that will help us during the processing of this json."
   ]
  },
  {
   "cell_type": "markdown",
   "metadata": {},
   "source": [
    "First, process_university takes as input the raw json of a particular uni, and outputs a dictionnary containing the name, rank, country, region, number of faculty members (international and total) and number of students (international and total) for that given uni.\n",
    "\n",
    "It uses other functions defined below."
   ]
  },
  {
   "cell_type": "code",
   "execution_count": null,
   "metadata": {},
   "outputs": [],
   "source": [
    "def process_university(uni):\n",
    "    name = uni['title']\n",
    "    rank = get_rank(uni['rank_display'])\n",
    "    country = uni['country']\n",
    "    region = uni['region']\n",
    "    \n",
    "    numbers = get_numbers(uni['url'])\n",
    "    info = {'name' : name, 'rank' : rank, 'country' : country, 'region' : region}\n",
    "    info.update(numbers)\n",
    "    return info"
   ]
  },
  {
   "cell_type": "markdown",
   "metadata": {},
   "source": [
    "As there can be ties in rank, the displayed rank is not always a integer. Furthermore, as said above, the last 3 unis have incorrect ranks and need to be fixed."
   ]
  },
  {
   "cell_type": "code",
   "execution_count": null,
   "metadata": {},
   "outputs": [],
   "source": [
    "def get_rank(rank_display):\n",
    "    rank = int(rank_display.replace(\"=\", \"\"))\n",
    "    if rank >= 199:\n",
    "        rank -= 1\n",
    "    return rank"
   ]
  },
  {
   "cell_type": "markdown",
   "metadata": {},
   "source": [
    "To get the number of faculty members (international and total) and number of students (international and total), we need to get another request, and this time, we will need to parse the webpage using BeautifulSoup.\n",
    "\n",
    "By inspecting the webpage, we noticed the classes of the elements where the numbers are contained. Once we get these elements, we further need to parse its content, to get the value as an integer.\n",
    "\n",
    "During the parsing, we noticed that one university (NYU) did not have the same template as the others, and so its number of students is unknown. "
   ]
  },
  {
   "cell_type": "code",
   "execution_count": null,
   "metadata": {},
   "outputs": [],
   "source": [
    "def get_numbers(url):\n",
    "    r = requests.get(\"https://www.topuniversities.com/\" + url)\n",
    "    soup = BeautifulSoup(r.text, 'html.parser')\n",
    "    \n",
    "    faculty_info = soup.select(\".text .number\")\n",
    "    if len(faculty_info) >= 2:\n",
    "        total_faculty = parse_int(faculty_info[0].decode_contents(formatter=\"html\"))\n",
    "        international_faculty = parse_int(faculty_info[1].decode_contents(formatter=\"html\"))\n",
    "    else:\n",
    "        total_faculty = math.nan\n",
    "        international_faculty = math.nan\n",
    "    \n",
    "    student_info = soup.select(\".barp .number\")\n",
    "    if len(faculty_info) >= 2:\n",
    "        total_student = parse_int(student_info[0].decode_contents(formatter=\"html\"))\n",
    "        international_student = parse_int(student_info[1].decode_contents(formatter=\"html\"))\n",
    "    else:\n",
    "        total_student = math.nan\n",
    "        international_student = math.nan\n",
    "    return {'total_faculty' : total_faculty, 'international_faculty' : international_faculty, 'total_student' : total_student, 'international_student' : international_student}"
   ]
  },
  {
   "cell_type": "code",
   "execution_count": null,
   "metadata": {},
   "outputs": [],
   "source": [
    "def parse_int(str):\n",
    "    return int(str.replace(\"\\n\", \"\").replace(\" \", \"\").replace(\",\", \"\"))"
   ]
  },
  {
   "cell_type": "code",
   "execution_count": null,
   "metadata": {},
   "outputs": [],
   "source": [
    "#Only run this if you want to regenerate the .json\n",
    "\"\"\"all_unis = []\n",
    "for uni in raw_data:\n",
    "    all_unis.append(process_university(uni))\n",
    "    \n",
    "with open('data1.json', 'w') as f:\n",
    "    json.dump(all_unis, f)\"\"\""
   ]
  },
  {
   "cell_type": "code",
   "execution_count": null,
   "metadata": {},
   "outputs": [],
   "source": [
    "with open('data1.json', 'r') as f:\n",
    "    all_unis = json.load(f)"
   ]
  },
  {
   "cell_type": "code",
   "execution_count": null,
   "metadata": {},
   "outputs": [],
   "source": [
    "df = pd.DataFrame(all_unis)\n",
    "df"
   ]
  },
  {
   "cell_type": "code",
   "execution_count": null,
   "metadata": {},
   "outputs": [],
   "source": [
    "#df_staff_student = df.copy()\n",
    "df['staff_student_ratio'] = df['total_faculty'] / df['total_student']\n",
    "df.sort_values(['staff_student_ratio'], ascending=[False])[['name', 'rank', 'staff_student_ratio']]"
   ]
  },
  {
   "cell_type": "code",
   "execution_count": null,
   "metadata": {},
   "outputs": [],
   "source": [
    "#df_int_student = df.copy()\n",
    "df['international_student_ratio'] = df['international_student'] / df['total_student']\n",
    "df.sort_values(['international_student_ratio'], ascending=[False])[['name', 'rank', 'staff_student_ratio']]"
   ]
  },
  {
   "cell_type": "code",
   "execution_count": null,
   "metadata": {},
   "outputs": [],
   "source": [
    "df_staff_country = df.groupby('country').mean().sort_values('staff_student_ratio', ascending=False)[['staff_student_ratio']]\n",
    "df_staff_country"
   ]
  },
  {
   "cell_type": "code",
   "execution_count": null,
   "metadata": {},
   "outputs": [],
   "source": [
    "df_staff_region = df.groupby('region').mean().sort_values('staff_student_ratio', ascending=False)[['staff_student_ratio']]\n",
    "df_staff_region"
   ]
  },
  {
   "cell_type": "code",
   "execution_count": null,
   "metadata": {},
   "outputs": [],
   "source": [
    "df_int_country = df.groupby('country').mean().sort_values('international_student_ratio', ascending=False)[['international_student_ratio']]\n",
    "df_int_country"
   ]
  },
  {
   "cell_type": "code",
   "execution_count": null,
   "metadata": {},
   "outputs": [],
   "source": [
    "df_int_region = df.groupby('region').mean().sort_values('international_student_ratio', ascending=False)[['international_student_ratio']]\n",
    "df_int_region"
   ]
  },
  {
   "cell_type": "code",
   "execution_count": null,
   "metadata": {},
   "outputs": [],
   "source": [
    "df.sort_values('rank')['staff_student_ratio'].plot(kind='bar')"
   ]
  },
  {
   "cell_type": "code",
   "execution_count": null,
   "metadata": {},
   "outputs": [],
   "source": [
    "df.sort_values('rank')['international_student_ratio'].plot(kind='bar')"
   ]
  },
  {
   "cell_type": "code",
   "execution_count": null,
   "metadata": {},
   "outputs": [],
   "source": [
    "df_staff_country['staff_student_ratio'].plot(kind='bar')"
   ]
  },
  {
   "cell_type": "code",
   "execution_count": null,
   "metadata": {},
   "outputs": [],
   "source": [
    "df_staff_region['staff_student_ratio'].plot(kind='bar')"
   ]
  },
  {
   "cell_type": "code",
   "execution_count": null,
   "metadata": {},
   "outputs": [],
   "source": [
    "df_int_country['international_student_ratio'].plot(kind='bar')"
   ]
  },
  {
   "cell_type": "code",
   "execution_count": null,
   "metadata": {},
   "outputs": [],
   "source": [
    "df_int_region['international_student_ratio'].plot(kind='bar')"
   ]
  },
  {
   "cell_type": "code",
   "execution_count": null,
   "metadata": {},
   "outputs": [],
   "source": [
    "country_region = dict(df[['country', 'region']].groupby(['country', 'region']).groups.keys())"
   ]
  },
  {
   "cell_type": "code",
   "execution_count": null,
   "metadata": {},
   "outputs": [],
   "source": [
    "r2 = requests.get('https://www.timeshighereducation.com/sites/default/files/the_data_rankings/world_university_rankings_2018_limit0_369a9045a203e176392b9fb8f8c1cb2a.json')\n",
    "raw_data2 = json.loads(r2.text)['data'][:200]"
   ]
  },
  {
   "cell_type": "code",
   "execution_count": null,
   "metadata": {},
   "outputs": [],
   "source": [
    "unis2 = []\n",
    "for uni in raw_data2:\n",
    "    name = uni['name']\n",
    "    rank = uni['rank'].replace('=', '')\n",
    "    country = uni['location']\n",
    "    if country == 'Russian Federation':\n",
    "        country = 'Russia'\n",
    "    int_students = uni['stats_pc_intl_students'].replace('%', '')\n",
    "    staff_student = uni['stats_student_staff_ratio']\n",
    "    \n",
    "    #numbers = get_numbers(uni['url'])\n",
    "    info = {'name' : name, 'rank': rank, 'country': country, 'region' : country_region.get(country, 'Europe'),\n",
    "            'international_student_ratio' : int(int_students) / 100.0, 'staff_student_ratio': 1 / float(staff_student)}\n",
    "    #info.update(numbers)\n",
    "    unis2.append(info)\n",
    "df2 = pd.DataFrame(unis2)\n",
    "df2"
   ]
  },
  {
   "cell_type": "code",
   "execution_count": null,
   "metadata": {},
   "outputs": [],
   "source": [
    "df_staff_country2 = df2.groupby('country').mean().sort_values('staff_student_ratio', ascending=False)[['staff_student_ratio']]\n",
    "df_staff_country2"
   ]
  },
  {
   "cell_type": "code",
   "execution_count": null,
   "metadata": {},
   "outputs": [],
   "source": [
    "df_staff_region2 = df2.groupby('region').mean().sort_values('staff_student_ratio', ascending=False)[['staff_student_ratio']]\n",
    "df_staff_region2"
   ]
  },
  {
   "cell_type": "code",
   "execution_count": null,
   "metadata": {},
   "outputs": [],
   "source": [
    "df_int_country2 = df2.groupby('country').mean().sort_values('international_student_ratio', ascending=False)[['international_student_ratio']]\n",
    "df_int_country2"
   ]
  },
  {
   "cell_type": "code",
   "execution_count": null,
   "metadata": {},
   "outputs": [],
   "source": [
    "df_int_region2 = df2.groupby('region').mean().sort_values('international_student_ratio', ascending=False)[['international_student_ratio']]\n",
    "df_int_region2"
   ]
  },
  {
   "cell_type": "code",
   "execution_count": null,
   "metadata": {},
   "outputs": [],
   "source": [
    "df2.sort_values('rank')['staff_student_ratio'].plot(kind='bar')"
   ]
  },
  {
   "cell_type": "code",
   "execution_count": null,
   "metadata": {},
   "outputs": [],
   "source": [
    "df2.sort_values('rank')['staff_student_ratio'].plot(kind='bar')"
   ]
  },
  {
   "cell_type": "code",
   "execution_count": null,
   "metadata": {},
   "outputs": [],
   "source": [
    "df_staff_country2['staff_student_ratio'].plot(kind='bar')"
   ]
  },
  {
   "cell_type": "code",
   "execution_count": null,
   "metadata": {},
   "outputs": [],
   "source": [
    "df_staff_region2['staff_student_ratio'].plot(kind='bar')"
   ]
  },
  {
   "cell_type": "code",
   "execution_count": null,
   "metadata": {},
   "outputs": [],
   "source": [
    "df_int_country2['international_student_ratio'].plot(kind='bar')"
   ]
  },
  {
   "cell_type": "code",
   "execution_count": null,
   "metadata": {},
   "outputs": [],
   "source": [
    "df_int_region2['international_student_ratio'].plot(kind='bar')"
   ]
  },
  {
   "cell_type": "code",
   "execution_count": null,
   "metadata": {},
   "outputs": [],
   "source": [
    "#mapping = {}\n",
    "with open('mapping.json', 'r') as f:\n",
    "    mapping = json.load(f)"
   ]
  },
  {
   "cell_type": "code",
   "execution_count": null,
   "metadata": {},
   "outputs": [],
   "source": [
    "def get_identifier(name):\n",
    "    if not(name in mapping):\n",
    "        mapping[name] = get_url(name)\n",
    "        \n",
    "    print(name + \" => \" + mapping[name])\n",
    "    return mapping[name]\n"
   ]
  },
  {
   "cell_type": "code",
   "execution_count": null,
   "metadata": {
    "scrolled": false
   },
   "outputs": [],
   "source": [
    "names1 = pd.DataFrame(df['name'].apply(get_identifier))\n",
    "\n",
    "names1['test1'] = 1\n",
    "#names1.set_index(['name'])\n",
    "names2 = pd.DataFrame(df2['name'].apply(get_identifier))\n",
    "names2['test2'] = 1\n",
    "#names2.set_index(['name'])\n",
    "names1.merge(names2, how='outer').to_csv('test.csv')\n"
   ]
  },
  {
   "cell_type": "code",
   "execution_count": null,
   "metadata": {},
   "outputs": [],
   "source": [
    "def get_url(name):\n",
    "    r = requests.get('https://encrypted.google.com/search?q=' + name.replace(' ', '+'))\n",
    "    soup = BeautifulSoup(r.text, 'html.parser')\n",
    "    google_url = soup.select('.g a')[0]['href']\n",
    "    url = google_url[google_url.find(\"://\")+3:google_url.find(\"&\")]\n",
    "    \n",
    "    if url.endswith(\"/\"):\n",
    "        url = url[0:-1]\n",
    "    \n",
    "    time.sleep(5)\n",
    "    return url"
   ]
  },
  {
   "cell_type": "code",
   "execution_count": null,
   "metadata": {},
   "outputs": [],
   "source": [
    "with open('mapping.json', 'w') as f:\n",
    "    json.dump(mapping, f)\n",
    "    \n",
    "mapping"
   ]
  },
  {
   "cell_type": "code",
   "execution_count": null,
   "metadata": {},
   "outputs": [],
   "source": []
  }
 ],
 "metadata": {
  "kernelspec": {
   "display_name": "Python 3",
   "language": "python",
   "name": "python3"
  },
  "language_info": {
   "codemirror_mode": {
    "name": "ipython",
    "version": 3
   },
   "file_extension": ".py",
   "mimetype": "text/x-python",
   "name": "python",
   "nbconvert_exporter": "python",
   "pygments_lexer": "ipython3",
   "version": "3.5.2"
  }
 },
 "nbformat": 4,
 "nbformat_minor": 2
}
