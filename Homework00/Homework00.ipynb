{
 "cells": [
  {
   "cell_type": "markdown",
   "metadata": {},
   "source": [
    "### Generating data"
   ]
  },
  {
   "cell_type": "code",
   "execution_count": 6,
   "metadata": {},
   "outputs": [],
   "source": [
    "deaths_data_path = \"./data/interactive_data.csv\"\n",
    "\n",
    "deaths_file = open(deaths_data_path, \"r\")\n",
    "next(deaths_file)\n",
    "deaths = []\n",
    "for line in deaths_file:\n",
    "    parts = line.split(',')\n",
    "    deaths.append({'intent' : parts[1], 'gender' : parts[2], 'age' : parts[3], 'race' : parts[4], 'deaths' : parts[5]})"
   ]
  },
  {
   "cell_type": "markdown",
   "metadata": {},
   "source": [
    "### Getting the correct parts of deaths"
   ]
  },
  {
   "cell_type": "code",
   "execution_count": 18,
   "metadata": {},
   "outputs": [],
   "source": [
    "def get_deaths(intent='\"None selected\"', gender='\"None selected\"', age='\"None selected\"', race='\"None selected\"'):\n",
    "    found = None\n",
    "    for death in deaths:\n",
    "        if death['intent'] == intent and death['gender'] == gender and death['age'] == age and death['race'] == race:\n",
    "            found = death\n",
    "    if found:\n",
    "        return found['deaths']\n",
    "    else:\n",
    "        return 0"
   ]
  },
  {
   "cell_type": "code",
   "execution_count": 23,
   "metadata": {},
   "outputs": [
    {
     "data": {
      "text/plain": [
       "'131'"
      ]
     },
     "execution_count": 23,
     "metadata": {},
     "output_type": "execute_result"
    }
   ],
   "source": [
    "get_deaths('\"Homicide\"', '\"Female\"', '\"15 - 34\"', '\"Hispanic\"')"
   ]
  },
  {
   "cell_type": "code",
   "execution_count": null,
   "metadata": {},
   "outputs": [],
   "source": []
  }
 ],
 "metadata": {
  "kernelspec": {
   "display_name": "Python 3",
   "language": "python",
   "name": "python3"
  },
  "language_info": {
   "codemirror_mode": {
    "name": "ipython",
    "version": 3
   },
   "file_extension": ".py",
   "mimetype": "text/x-python",
   "name": "python",
   "nbconvert_exporter": "python",
   "pygments_lexer": "ipython3",
   "version": "3.6.2"
  }
 },
 "nbformat": 4,
 "nbformat_minor": 2
}
