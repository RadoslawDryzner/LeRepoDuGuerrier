{
 "cells": [
  {
   "cell_type": "code",
   "execution_count": null,
   "metadata": {},
   "outputs": [],
   "source": [
    "#As always, we import everything\n",
    "import pandas as pd\n",
    "import os\n",
    "import re\n",
    "import hdf5_getters as getters\n",
    "import requests\n",
    "from bs4 import BeautifulSoup\n",
    "import numpy as np\n",
    "from collections import OrderedDict\n",
    "from tqdm import tqdm\n",
    "\n",
    "import nltk\n",
    "from nltk import word_tokenize\n",
    "from nltk.corpus import stopwords as stop_words\n",
    "from textblob import Word\n",
    "import pycountry\n",
    "from textblob import TextBlob\n",
    "from textblob.sentiments import NaiveBayesAnalyzer\n",
    "from gensim import corpora, models\n",
    "\n",
    "import json"
   ]
  },
  {
   "cell_type": "markdown",
   "metadata": {},
   "source": [
    "# Introduction"
   ]
  },
  {
   "cell_type": "markdown",
   "metadata": {},
   "source": [
    "Our project consists of exploring the lyrics of many songs and finding themes and the usage of the words used in these songs over time. We use the Million Song dataset to find information about the song as well as various other datasets and sources to find lyrics data."
   ]
  },
  {
   "cell_type": "markdown",
   "metadata": {},
   "source": [
    "# Data Collection and Descriptive Analysis"
   ]
  },
  {
   "cell_type": "markdown",
   "metadata": {},
   "source": [
    "We begin by getting a list of all the files from our dataset. The Million Song dataset organises the dataset in multiple files and directories. The following code snippet gets all these files and prints the number of the files found."
   ]
  },
  {
   "cell_type": "code",
   "execution_count": null,
   "metadata": {
    "collapsed": true,
    "scrolled": true
   },
   "outputs": [],
   "source": [
    "# Explore the Million Song Dataset directory structure to grab the filenames of the songs\n",
    "all_files = []\n",
    "for (dirpath, dirnames, filenames) in os.walk(\"million-song/data\"):\n",
    "    all_files.extend([dirpath + \"/\" + filename for filename in filenames if filename.endswith(\".h5\")])\n",
    "all_files_num = len(all_files)\n",
    "all_files_num"
   ]
  },
  {
   "cell_type": "markdown",
   "metadata": {},
   "source": [
    "The Million Song dataset is not given in simple text but encoded using the [Hierarchical Data Format](https://en.wikipedia.org/wiki/Hierarchical_Data_Format). The following functions are used to get the relevant data from a file. Each file is a single record of the dataset, a single song described with multiple fields. These functions simply call the getter functions provided with the dataset to access the data. Since we only need a few fields, we simply take the track id, title, artist name and year. This fields will be relevant later on for our analysis and vizualisation.\n",
    "\n",
    "The track id will obviously identify the track in our analysis while the title and the artist will help us find the lyrics of the song. The year will be used for our vizualisation tool to see the evolution of the vocabulary and themes used in the songs over time."
   ]
  },
  {
   "cell_type": "code",
   "execution_count": null,
   "metadata": {},
   "outputs": [],
   "source": [
    "def get_num_songs(filename):\n",
    "    \"\"\"\n",
    "    Wrapper around getter method provided with the dataset.\n",
    "    \"\"\"\n",
    "    h5 = getters.open_h5_file_read(filename)\n",
    "    track_id = getters.get_num_songs(h5)\n",
    "    h5.close()\n",
    "    return track_id"
   ]
  },
  {
   "cell_type": "code",
   "execution_count": null,
   "metadata": {},
   "outputs": [],
   "source": [
    "def get_track_id(filename):\n",
    "    \"\"\"\n",
    "    Wrapper around getter method provided with the dataset.\n",
    "    \"\"\"\n",
    "    h5 = getters.open_h5_file_read(filename)\n",
    "    track_id = getters.get_track_id(h5)\n",
    "    h5.close()\n",
    "    return track_id"
   ]
  },
  {
   "cell_type": "code",
   "execution_count": null,
   "metadata": {},
   "outputs": [],
   "source": [
    "def get_title(filename):\n",
    "    \"\"\"\n",
    "    Wrapper around getter method provided with the dataset.\n",
    "    \"\"\"\n",
    "    h5 = getters.open_h5_file_read(filename)\n",
    "    title = getters.get_title(h5).decode()\n",
    "    h5.close()\n",
    "    return title"
   ]
  },
  {
   "cell_type": "code",
   "execution_count": null,
   "metadata": {},
   "outputs": [],
   "source": [
    "def get_artist_name(filename):\n",
    "    \"\"\"\n",
    "    Wrapper around getter method provided with the dataset.\n",
    "    \"\"\"\n",
    "    h5 = getters.open_h5_file_read(filename)\n",
    "    artist_name = getters.get_artist_name(h5).decode()\n",
    "    h5.close()\n",
    "    return artist_name"
   ]
  },
  {
   "cell_type": "code",
   "execution_count": null,
   "metadata": {},
   "outputs": [],
   "source": [
    "def get_year(filename):\n",
    "    \"\"\"\n",
    "    Wrapper around getter method provided with the dataset.\n",
    "    \"\"\"\n",
    "    h5 = getters.open_h5_file_read(filename)\n",
    "    year = getters.get_year(h5)\n",
    "    h5.close()\n",
    "    return year"
   ]
  },
  {
   "cell_type": "markdown",
   "metadata": {},
   "source": [
    "The Million Song dataset does not contain information about the genre of the songs. However, there is an additional dataset from the same source that contains this information. Unfortunetely, it's not present for all the tracks of the Million Song dataset. We read this genre dataset here and will later link the genres with the data we obtain from the main dataset.\n",
    "\n",
    "Note that the file read here is not the one directly obtained from the source but the one where we only take the genre and the track id, since these are the only ones we need.\n",
    "\n",
    "The genre dataset only has around 60000 tracks which is substantially smaller than the Million Song in its entirety. However we believe this amount of tracks will be enough for our data analysis and visualisation."
   ]
  },
  {
   "cell_type": "code",
   "execution_count": null,
   "metadata": {
    "collapsed": true
   },
   "outputs": [],
   "source": [
    "# We save the dataframe created by linking the genres for convenience.\n",
    "#df = pd.read_csv('MillionSongSubset/msd_genre_dataset.txt')\n",
    "#genre_dataset = df[['genre', 'track_id']].set_index('track_id')\n",
    "#genre_dataset.to_csv('MillionSongSubset/genre_dataset.txt')\n",
    "genre_dataset = pd.read_csv('MillionSongSubset/genre_dataset.txt').set_index('track_id')"
   ]
  },
  {
   "cell_type": "markdown",
   "metadata": {},
   "source": [
    "This function links gets the genres for a single track given its id."
   ]
  },
  {
   "cell_type": "code",
   "execution_count": null,
   "metadata": {},
   "outputs": [],
   "source": [
    "def get_song_genres(track_id):\n",
    "    \"\"\"\n",
    "    Get's the genres of a song given it's ID in a single string, separated by &.\n",
    "    \"\"\"\n",
    "    if track_id in genre_dataset.index:\n",
    "        return \"&\".join(genre_dataset.loc[[track_id]].values[0][0].split(' and '))\n",
    "    else:\n",
    "        return None"
   ]
  },
  {
   "cell_type": "markdown",
   "metadata": {},
   "source": [
    "Before starting our data collection, we make sure that all files correspond to only one song as they should."
   ]
  },
  {
   "cell_type": "code",
   "execution_count": null,
   "metadata": {
    "collapsed": true
   },
   "outputs": [],
   "source": [
    "for filename in tqdm(all_files): # tqdm for a nice progress barr\n",
    "    assert get_num_songs(filename) == 1 # check whether each file correctly corresponds to a single song."
   ]
  },
  {
   "cell_type": "markdown",
   "metadata": {},
   "source": [
    "The following snippet reads the Million Song dataset in its entirety and uses the genre dataset to link the two. It gets all the fields we need as we discussed above and also gets the genres of each track. This information is then put into a dataframe. \n",
    "\n",
    "For convenience, we save this data in a new `.csv` file."
   ]
  },
  {
   "cell_type": "code",
   "execution_count": null,
   "metadata": {},
   "outputs": [],
   "source": [
    "# The dataframe is saved into a file for convenience.\n",
    "\"\"\"\n",
    "data = pd.DataFrame([])\n",
    "\n",
    "for filename in tqdm(all_files):\n",
    "    track_id = get_track_id(filename).decode()\n",
    "    genres = get_song_genres(track_id)\n",
    "    if genres:\n",
    "        to_add = [('track_id', track_id), ('genres', genres), ('artist_name', get_artist_name(filename)), ('title', get_title(filename)), ('year', get_year(filename)), ('lyrics', \"\")]\n",
    "        data = data.append(pd.DataFrame(OrderedDict(to_add), index=[0]))\n",
    "\n",
    "data.set_index('track_id', inplace=True)\n",
    "data.to_csv('data/data.csv')\n",
    "\"\"\"\n",
    "\n",
    "data = pd.read_csv('data/data.csv').set_index('track_id')"
   ]
  },
  {
   "cell_type": "markdown",
   "metadata": {},
   "source": [
    "Finally, we need to obtain lyrics data for our tracks. For this, we have found two datasets. Both of these contain artist, track title and lyrics data which we read in the following code snippets. We try to get the lyrics from both datasets, but it's possible that neither of them contains the lyrics for some on our tracks. For this reason, we will also look at genius.com which is a website containing many lyrics."
   ]
  },
  {
   "cell_type": "code",
   "execution_count": null,
   "metadata": {},
   "outputs": [],
   "source": [
    "lyrics_df1 = pd.read_csv('lyrics/songdata1.csv')\n",
    "lyrics_df1.set_index(['artist', 'song'], inplace=True)"
   ]
  },
  {
   "cell_type": "code",
   "execution_count": null,
   "metadata": {},
   "outputs": [],
   "source": [
    "lyrics_df2_raw = pd.read_csv('lyrics/songdata2.csv', na_filter=False)\n",
    "lyrics_df2 = lyrics_df2_raw[['song', 'artist', 'lyrics']].set_index(['artist', 'song'])"
   ]
  },
  {
   "cell_type": "code",
   "execution_count": null,
   "metadata": {},
   "outputs": [],
   "source": [
    "def get_lyrics_csv1(artist_name, title):\n",
    "    \"\"\"\n",
    "    Gets lyrics for an artist and title pair from the first dataset.\n",
    "    \"\"\"\n",
    "    if (artist_name, title) in lyrics_df1.index:\n",
    "        return lyrics_df1.loc[artist_name, title].values[0][1]\n",
    "    else:\n",
    "        return None"
   ]
  },
  {
   "cell_type": "code",
   "execution_count": null,
   "metadata": {},
   "outputs": [],
   "source": [
    "def get_lyrics_csv2(artist_name, title):\n",
    "    \"\"\"\n",
    "    Gets lyrics for an artist and title pair from the second dataset.\n",
    "    In this file, the artist and title fields have hyphens instead of spaces\n",
    "    and are exclusively in lower case, so we change our data to match this\n",
    "    format when looking for songs.\n",
    "    \"\"\"\n",
    "    index_artist_name = artist_name.lower().replace(' ', '-')\n",
    "    index_title = title.lower().replace(' ', '-')\n",
    "    if (index_artist_name, index_title) in lyrics_df2.index:\n",
    "        lyrics = lyrics_df2.loc[index_artist_name, index_title].values[0][0]\n",
    "        if len(lyrics) == 0:\n",
    "            return None\n",
    "        else:\n",
    "            return lyrics\n",
    "    else:\n",
    "        return None"
   ]
  },
  {
   "cell_type": "code",
   "execution_count": null,
   "metadata": {},
   "outputs": [],
   "source": [
    "def get_lyrics(artist_name, title):\n",
    "    \"\"\"\n",
    "    Gets the lyrics for an artist name and title from both datasets.\n",
    "    If lyrics are not found in either of them, returns an empty string.\n",
    "    \"\"\"\n",
    "    lyrics = get_lyrics_csv1(artist_name, title)\n",
    "    if lyrics:\n",
    "        return lyrics\n",
    "    \n",
    "    lyrics = get_lyrics_csv2(artist_name, title)\n",
    "    if lyrics:\n",
    "        return lyrics\n",
    "    \n",
    "    return \"\""
   ]
  },
  {
   "cell_type": "markdown",
   "metadata": {},
   "source": [
    "We make a new dataframe that contains lyrics information for our previous data. If the lyrics are not found in either of the lyrics datasets, we generate the genius.com url to search for that song's lyrics."
   ]
  },
  {
   "cell_type": "code",
   "execution_count": null,
   "metadata": {},
   "outputs": [],
   "source": [
    "#Match lyrics\n",
    "data_lyrics = data.copy()\n",
    "urls = {}\n",
    "i = 1\n",
    "for index, row in data.iterrows():\n",
    "    lyrics = get_lyrics(row['artist_name'], row['title'])\n",
    "    \n",
    "    # We generate an URL to lookup in Genius if we haven't found any lyrics\n",
    "    # in the first two datasets.\n",
    "    if lyrics == \"\":\n",
    "        # To create the URL to find the song on genius, the title and artist names\n",
    "        # need to be processed to match the general format of Genius' songs URL.\n",
    "        # For instance, spaces are replaced by hyphens and additional information\n",
    "        # between parenthesis is removed.\n",
    "        url = (row['artist_name'].lower().replace(' ', '-') + '-' + re.sub(r'\\([^)]*\\)', '', row['title']).rstrip().lower().replace(' ', '-') + '-lyrics').capitalize().replace(\"'\", '')\n",
    "        urls[index] = 'https://genius.com/' + url\n",
    "        \n",
    "    print(i, end='\\r')\n",
    "    i += 1\n",
    "    data_lyrics.loc[index, 'lyrics'] = re.sub(r'[\\[].*?[\\]]', '', lyrics.replace('\\n', ' '))"
   ]
  },
  {
   "cell_type": "markdown",
   "metadata": {},
   "source": [
    "The genius.com URLs are collected in a file so that they can be fed into a scrapper."
   ]
  },
  {
   "cell_type": "code",
   "execution_count": null,
   "metadata": {},
   "outputs": [],
   "source": [
    "with open('data/urls', 'w') as urls_files:\n",
    "    for index, url in urls.items():\n",
    "        print(index, url, file=urls_files)"
   ]
  },
  {
   "cell_type": "markdown",
   "metadata": {},
   "source": [
    "At this point, we run our scrapper which is using `scrapy`. This is not done in this notebook but instead you can find the scrapper code in the `scrapper` folder in this repository. We obtain a file that contains the track ids as well as their lyrics found on genius.com.\n",
    "\n",
    "The resulting file is then read and its data is added to our data."
   ]
  },
  {
   "cell_type": "code",
   "execution_count": null,
   "metadata": {},
   "outputs": [],
   "source": [
    "import json\n",
    "with open('data/missing_lyrics.json') as lyrics_file:\n",
    "    lyrics_json = json.load(lyrics_file)\n",
    "    for item in lyrics_json:\n",
    "        for index, lyrics in item.items():\n",
    "            # Returned lyrics are modified to remove newline cahracters as well as some\n",
    "            # special lyrics structures as we have seen before.\n",
    "            data_lyrics.loc[index, 'lyrics'] = re.sub(r'[\\[].*?[\\]]', '', lyrics.replace('\\n', ' '))"
   ]
  },
  {
   "cell_type": "markdown",
   "metadata": {},
   "source": [
    "We then detect the language of the lyrics if any. It is possible that some of the lyrics do not contain any features that allow language detection, in this case we do not assign a language to that lyrics."
   ]
  },
  {
   "cell_type": "code",
   "execution_count": null,
   "metadata": {},
   "outputs": [],
   "source": [
    "#Find the corresponding language for the lyrics\n",
    "from langdetect import detect\n",
    "\n",
    "for index, row in data_lyrics.iterrows():\n",
    "    lyrics = data_lyrics.loc[index, 'lyrics']\n",
    "    language = None\n",
    "    if lyrics.strip() != \"\":\n",
    "        try:\n",
    "            language = detect(lyrics)\n",
    "        except:\n",
    "            language = \"\"\n",
    "    if language != \"\":\n",
    "        data_lyrics.loc[index, 'lang'] = language"
   ]
  },
  {
   "cell_type": "markdown",
   "metadata": {},
   "source": [
    "Now let's see how many songs are there with lyrics in the Million Song Subset."
   ]
  },
  {
   "cell_type": "code",
   "execution_count": null,
   "metadata": {},
   "outputs": [],
   "source": [
    "data_lyrics = data_lyrics[data_lyrics.lyrics != '']"
   ]
  },
  {
   "cell_type": "code",
   "execution_count": null,
   "metadata": {},
   "outputs": [],
   "source": [
    "data_lyrics.shape"
   ]
  },
  {
   "cell_type": "code",
   "execution_count": null,
   "metadata": {},
   "outputs": [],
   "source": [
    "data_lyrics"
   ]
  },
  {
   "cell_type": "markdown",
   "metadata": {},
   "source": [
    "We save the resulting data in a file for convenience. This is the final state of our data and contains verything we need."
   ]
  },
  {
   "cell_type": "code",
   "execution_count": null,
   "metadata": {},
   "outputs": [],
   "source": [
    "data_lyrics.to_csv('data/data_lyrics.csv')"
   ]
  },
  {
   "cell_type": "markdown",
   "metadata": {},
   "source": [
    "# Analysis"
   ]
  },
  {
   "cell_type": "markdown",
   "metadata": {},
   "source": [
    "To obtain our analysis, we will follow the following steps."
   ]
  },
  {
   "cell_type": "markdown",
   "metadata": {},
   "source": [
    "### Lyrics Processing"
   ]
  },
  {
   "cell_type": "markdown",
   "metadata": {},
   "source": [
    "We would like to be able to extract different themes from our lyrics. Other than being able to see the evolution of some words over time and depending of the genres of the song, it's interesting to see the themes or sentiments that the song's lyrics portray. For this, we will use Natural Language Processing (NLP) libraries to extract this information about each track."
   ]
  },
  {
   "cell_type": "markdown",
   "metadata": {},
   "source": [
    "From the lyrics that we have, we apply the bag-of-words model and only keep the interesting (meaningful) words. That is, we remove the stop words and lemmatize each word to avoid, for instance, having both 'sleep' and 'sleeping'."
   ]
  },
  {
   "cell_type": "markdown",
   "metadata": {},
   "source": [
    "We start by downloading `nltk` packages that will be of use for us. [ntlk](http://www.nltk.org/) is a well known framework for natural language processing in Python."
   ]
  },
  {
   "cell_type": "code",
   "execution_count": null,
   "metadata": {
    "collapsed": true
   },
   "outputs": [],
   "source": [
    "nltk.download('stopwords')\n",
    "nltk.download('punkt')\n",
    "nltk.download('averaged_perceptron_tagger')\n",
    "nltk.download('wordnet')"
   ]
  },
  {
   "cell_type": "markdown",
   "metadata": {},
   "source": [
    "Now, we define a few functions to do all our natural language analysis steps."
   ]
  },
  {
   "cell_type": "markdown",
   "metadata": {},
   "source": [
    "First, we define a function that tokenizes lyrics. As we have seen in class, working on a list of tokens instead of a string of characters is much better for machine learning and natural language processing techniques that we will use. For this we use TextBlob which we will also use later on for sentiment analysis since it gives a nice way to obtain tagged tokens."
   ]
  },
  {
   "cell_type": "code",
   "execution_count": null,
   "metadata": {},
   "outputs": [],
   "source": [
    "def tokenize(text):\n",
    "    return TextBlob(text)"
   ]
  },
  {
   "cell_type": "markdown",
   "metadata": {},
   "source": [
    "Next we will define a function that removes stopwords from our tokens. This function uses standard stop words list from `nltk`."
   ]
  },
  {
   "cell_type": "code",
   "execution_count": null,
   "metadata": {},
   "outputs": [],
   "source": [
    "def get_language_full_name(isocode):\n",
    "    return pycountry.languages.get(alpha_2=isocode).name.lower()"
   ]
  },
  {
   "cell_type": "code",
   "execution_count": null,
   "metadata": {
    "collapsed": true
   },
   "outputs": [],
   "source": [
    "stop_words_languages = {}\n",
    "# Other than the stopwords for a given language which we obtain from\n",
    "# nltk, we also add a list of common first names which we remove from\n",
    "# the lyrics to ease topic detection later on. This list was found in\n",
    "# https://www.cs.cmu.edu/Groups/AI/areas/nlp/corpora/names/.\n",
    "names_pd = pd.read_csv('data/common_names.csv')\n",
    "\n",
    "names = []\n",
    "for name in names_pd.values:\n",
    "    names.append(name[0])"
   ]
  },
  {
   "cell_type": "code",
   "execution_count": null,
   "metadata": {},
   "outputs": [],
   "source": [
    "def remove_stopwords(blob, language):\n",
    "    if language not in stop_words_languages:\n",
    "        stop_words_languages[language] = set(stop_words.words(get_language_full_name(language)))\n",
    "        if language == 'en':\n",
    "            # Additional stopwords not caught by nltk's list.\n",
    "            stop_words_languages[language] |= set(['na', 'gon', 'la', 'nt', 'i', '', \"'\"])\n",
    "            stop_words_languages[language] |= set(names)\n",
    "        \n",
    "    tokens = []\n",
    "    for word, tag in blob.tags:\n",
    "        lower = word.lower().replace(\"'\", '')\n",
    "        if lower not in stop_words_languages[language]:\n",
    "            tokens.append((lower, tag))\n",
    "    return tokens"
   ]
  },
  {
   "cell_type": "markdown",
   "metadata": {},
   "source": [
    "In the next function, we lemmatize the tokens that are left so that words that variants of words that are essentially the same (conjugated verbs for examples) are counted as the same token."
   ]
  },
  {
   "cell_type": "code",
   "execution_count": null,
   "metadata": {},
   "outputs": [],
   "source": [
    "def lemmatize(tokens):\n",
    "    lemmas = []\n",
    "    lemma = None\n",
    "    for token, tag in tokens:\n",
    "        if tag[0] == \"V\": #if the word is a verb\n",
    "            lemma = Word(token).lemmatize(\"v\")\n",
    "        else:\n",
    "            lemma = Word(token).lemmatize()\n",
    "        lemmas.append(lemma)\n",
    "    return lemmas"
   ]
  },
  {
   "cell_type": "markdown",
   "metadata": {},
   "source": [
    "The next function combines the functions defined above to get the final tokens that we will consider for our topic detection task."
   ]
  },
  {
   "cell_type": "code",
   "execution_count": null,
   "metadata": {},
   "outputs": [],
   "source": [
    "def get_final_tokens(lyrics):\n",
    "    \"\"\"\n",
    "    Combines our functions to get the final list of tokens.\n",
    "    \"\"\"\n",
    "    texts = []\n",
    "    for lyric in lyrics:\n",
    "        texts.append(lemmatize(remove_stopwords(tokenize(lyric), 'en')))\n",
    "    return texts"
   ]
  },
  {
   "cell_type": "markdown",
   "metadata": {},
   "source": [
    "For our data visualisation, we also need to have raw frequencies of the words that we use. While later on we will use different ways to obtain such information for our ML techniques, here for the visualisation we want a quick and simple count of the appearence of our tokens over the whole corpus passed as parameters. This way we can easily obtain the frequency of words appearing in all the lyrics for a given genre in a given year for example. The function defined below does precisely that."
   ]
  },
  {
   "cell_type": "code",
   "execution_count": null,
   "metadata": {},
   "outputs": [],
   "source": [
    "def get_word_freq(texts):\n",
    "    \"\"\"\n",
    "    Gets the raw word count of each word appearing in\n",
    "    the lyrics given by texts.\n",
    "    \"\"\"\n",
    "    word_count = {}\n",
    "    for text in texts:\n",
    "        for token in text:\n",
    "            if token not in word_count:\n",
    "                word_count[token] = 1\n",
    "            else:\n",
    "                word_count[token] += 1\n",
    "    return word_count"
   ]
  },
  {
   "cell_type": "markdown",
   "metadata": {},
   "source": [
    "To find the general sentiment of a song's lyrics, we use [TextBlob](https://textblob.readthedocs.io/en/dev/). This library has already a built-in sentiment analyser, which gives us inforation whether the song is 'positive' or 'negative'. The following function is used to do just that and takes as parameter a single lyrics string."
   ]
  },
  {
   "cell_type": "code",
   "execution_count": null,
   "metadata": {},
   "outputs": [],
   "source": [
    "def get_sentiment(lyrics):\n",
    "    \"\"\"\n",
    "    Gets the sentiment polarity of a lyrics given as string.\n",
    "    \"\"\"\n",
    "    blob = TextBlob(lyrics)\n",
    "    return blob.sentiment.polarity"
   ]
  },
  {
   "cell_type": "markdown",
   "metadata": {},
   "source": [
    "Now that we have everything needed defined, we begin by getting our data (from the file written to in the previous section) into a dataframe. We only keep the lyrics that we detected to be in english since all our NLP and ML techniques wouldn't work on lyrics from different languages.\n",
    "\n",
    "We construct a genres list that will be used later in our data visualisation as well as a dictionary that links the genres to a list of indices of particular songs."
   ]
  },
  {
   "cell_type": "code",
   "execution_count": null,
   "metadata": {},
   "outputs": [],
   "source": [
    "lyrics_df = pd.read_csv('data/data_lyrics.csv')\n",
    "lyrics_df.set_index(['track_id'], inplace=True)\n",
    "\n",
    "lyrics_df = lyrics_df[lyrics_df.lang == 'en']\n",
    "genres_list = ['all'] # Added a special genre, 'all' which will capture all songs\n",
    "genres_indices = {}\n",
    "for index, row in lyrics_df.iterrows():\n",
    "    genre = row['genres']\n",
    "    genre = genre.replace('&', ',') # Replaced for later on when we use it in HTML\n",
    "    genres_indices.setdefault(genre, []).append(index)\n",
    "    genres_indices.setdefault('all', []).append(index)\n",
    "    if genre not in genres_list:\n",
    "        genres_list.append(genre)"
   ]
  },
  {
   "cell_type": "markdown",
   "metadata": {},
   "source": [
    "We call our functions on the lyrics of each song and insert these tokens as a new column in the dataframe."
   ]
  },
  {
   "cell_type": "code",
   "execution_count": null,
   "metadata": {
    "collapsed": true
   },
   "outputs": [],
   "source": [
    "lyrics_df['tokens'] = get_final_tokens(lyrics_df.lyrics.values)"
   ]
  },
  {
   "cell_type": "markdown",
   "metadata": {},
   "source": [
    "Now we add yet another column that is the sentiment of the lyrics of a particular song, obtained using the method described above. We scale the sentiment between 0 and 1 for our final visualisation. "
   ]
  },
  {
   "cell_type": "code",
   "execution_count": null,
   "metadata": {},
   "outputs": [],
   "source": [
    "all_lyrics = lyrics_df.lyrics.values\n",
    "sentiments = []\n",
    "for lyric in all_lyrics:\n",
    "    sentiment = get_sentiment(lyric)\n",
    "    sentiment = (sentiment + 1) / 2.0\n",
    "    sentiments.append(sentiment)\n",
    "lyrics_df['sentiment'] = sentiments"
   ]
  },
  {
   "cell_type": "markdown",
   "metadata": {},
   "source": [
    "Now we collect all our remaining data and output it into files that we will use for our visualisation. We first begin by aggregating the word frequencies by genre and year of release (songs without a year of release are dropped). Each word results in a file where each datapoint corresponds to a year and the frequency of the word in the particular genre and the particular year.\n",
    "\n",
    "The sentiment files are done in the same way, except that there is one file per genre.\n",
    "\n",
    "Moreover, a list of all words appearing for every genre is also created for our final data visualisation."
   ]
  },
  {
   "cell_type": "code",
   "execution_count": null,
   "metadata": {},
   "outputs": [],
   "source": [
    "genres_words = {}\n",
    "to_save = {}\n",
    "for genre, indices in genres_indices.items():\n",
    "    curr_df = lyrics_df.loc[indices]\n",
    "    freqs = get_word_freq(curr_df.tokens.values)\n",
    "    genres_words[genre] = []\n",
    "    \n",
    "    directory = 'data/final_data/words/' + genre\n",
    "    if not os.path.exists(directory):\n",
    "        os.makedirs(directory)\n",
    "    \n",
    "    directory2 = 'data/final_data/sentiments'\n",
    "    if not os.path.exists(directory2):\n",
    "        os.makedirs(directory2)\n",
    "    \n",
    "    for year in curr_df[curr_df.year != 0].year.sort_values().unique():\n",
    "        curr_year_df = curr_df[curr_df.year == year]\n",
    "        freqs = get_word_freq(curr_year_df.tokens.values)\n",
    "        word_count = sum(freqs.values())\n",
    "        \n",
    "        sentiments = curr_year_df.sentiment.values\n",
    "        sentiment_avg = sum(sentiments) / float(len(sentiments))\n",
    "        filepath = 'data/final_data/sentiments/' + genre + '.csv'\n",
    "        if not os.path.exists(filepath):\n",
    "            with open(filepath, 'a') as output_file:\n",
    "                print('year,value', file=output_file)\n",
    "        with open(filepath, 'a') as output_file:\n",
    "            print(str(year) + ',' + str(sentiment_avg), file=output_file)\n",
    "            \n",
    "        for word, freq in freqs.items():\n",
    "            # remove undesirable characters from filenames\n",
    "            for ch in ['/', '*', '\"', ':', '\\\\']:\n",
    "                word = word.replace(ch, '-')\n",
    "            if word != \"\":\n",
    "                filepath = directory + '/' + word + '.csv'\n",
    "                to_save.setdefault((filepath, word, genre), []).append(str(year) + ',' + str(freq/float(word_count)))\n",
    "\n",
    "for filepath_word, lines in to_save.items():\n",
    "    filepath, word, genre = filepath_word\n",
    "    if len(lines) > 1:\n",
    "        if word not in genres_words[genre]:\n",
    "            genres_words[genre].append(word)\n",
    "        with open(filepath, 'w') as output_file:\n",
    "            print('year,value', file=output_file)\n",
    "            for line in lines:\n",
    "                print(line, file=output_file)"
   ]
  },
  {
   "cell_type": "markdown",
   "metadata": {},
   "source": [
    "Finnaly, the list of genres that we created earlier will be of use for our data visualisation as an auto-complete feature when searching for genres. The same is the case for the lists of words per genre. This information is saved in files as defined below."
   ]
  },
  {
   "cell_type": "code",
   "execution_count": null,
   "metadata": {},
   "outputs": [],
   "source": [
    "for genre, words in genres_words.items():\n",
    "    with open('data/final_data/words/' + genre + '/allWords.json', 'w') as output_file:\n",
    "        json.dump(words, output_file)"
   ]
  },
  {
   "cell_type": "code",
   "execution_count": null,
   "metadata": {},
   "outputs": [],
   "source": [
    "with open('data/final_data/allGenres.json', 'w') as output_file:\n",
    "    json.dump(genres_list, output_file)"
   ]
  },
  {
   "cell_type": "markdown",
   "metadata": {},
   "source": [
    "### Topics Analysis"
   ]
  },
  {
   "cell_type": "markdown",
   "metadata": {},
   "source": [
    "And finally, to find the topics of our songs we use [Mallet](http://mallet.cs.umass.edu/topics.php).\n",
    "\n",
    "This method doesn't create a list of themes with clear names, but rather assumes that a topic is a collection of words, thus we will need to manually assign a name for each topic.\n",
    "\n",
    "The LDA model will output, for each song, a list of topics with different weights.\n",
    "\n",
    "The following code just outputs the collection of tokens with corresponding track ids."
   ]
  },
  {
   "cell_type": "code",
   "execution_count": null,
   "metadata": {},
   "outputs": [],
   "source": [
    "path = r'mallet/lyrics' \n",
    "if not os.path.exists(path):\n",
    "    os.makedirs(path)"
   ]
  },
  {
   "cell_type": "code",
   "execution_count": null,
   "metadata": {},
   "outputs": [],
   "source": [
    "for index, row in lyrics_df.iterrows():\n",
    "    with open(path + '/' + index + '.txt', \"w\") as text_file:\n",
    "        tokens = ''\n",
    "        for token in row.tokens:\n",
    "            tokens += token + ' '\n",
    "        text_file.write(tokens)"
   ]
  },
  {
   "cell_type": "markdown",
   "metadata": {},
   "source": [
    "To process the output, just run the following command in Mallet's directory:\n",
    "\n",
    "`bin/mallet import-dir --input mallet/* --output lyrics.mallet --remove-stopwords --keep-sequence`\n",
    "\n",
    "We keep the `--remove-stopwords` just to be sure to remove all the stopwords."
   ]
  },
  {
   "cell_type": "markdown",
   "metadata": {},
   "source": [
    "And then this command :\n",
    "\n",
    "\n",
    "`bin/mallet train-topics --input lyrics.mallet --num-topics 40 --num-iterations 1000 --optimize-interval 10 --output-topic-keys topics_composition.txt --output-doc-topics songs_composition.txt?`\n",
    "\n",
    "The output should be in the folder `data` for the next operations."
   ]
  },
  {
   "cell_type": "markdown",
   "metadata": {},
   "source": [
    "We then load the prediction of the LDA model on the lyrics and add it to the lyrics dataset."
   ]
  },
  {
   "cell_type": "code",
   "execution_count": null,
   "metadata": {},
   "outputs": [],
   "source": [
    "songs_composition = pd.read_csv('data/songs_composition.txt', header=None, sep='\\t')"
   ]
  },
  {
   "cell_type": "code",
   "execution_count": null,
   "metadata": {},
   "outputs": [],
   "source": [
    "def df_get_id(filenames):\n",
    "    \"\"\"\n",
    "    Get the id of a song from the corresponding filename.\n",
    "    We need this because Mallet outputs the filepath and not the original ID.\n",
    "    \"\"\"\n",
    "    ids = []\n",
    "    for filename in filenames:\n",
    "        id_ = filename[1].split('/')[-1].split('.')[0]\n",
    "        ids.append(id_)\n",
    "    return ids\n",
    "\n",
    "def df_get_topics(df_topics):\n",
    "    \"\"\"\n",
    "    Get a single list of topics from the topics columns from\n",
    "    Mallets output file.\n",
    "    \"\"\"\n",
    "    list_topics = []\n",
    "    for row in df_topics:\n",
    "        topics = {}\n",
    "        for i in range(20):\n",
    "            topics[i] = row[i + 2]\n",
    "        list_topics.append(topics)\n",
    "    return list_topics"
   ]
  },
  {
   "cell_type": "code",
   "execution_count": null,
   "metadata": {
    "collapsed": true,
    "scrolled": true
   },
   "outputs": [],
   "source": [
    "songs_composition['track_id'] = df_get_id(songs_composition.values)\n",
    "songs_composition['topics'] = df_get_topics(songs_composition.values)\n",
    "id_topics = songs_composition[['track_id', 'topics']]\n",
    "\n",
    "id_topics = id_topics.set_index('track_id')\n",
    "# We add the topics column to the lyrics dataset and name it result\n",
    "result = pd.concat([id_topics, lyrics_df], axis=1, join='inner')"
   ]
  },
  {
   "cell_type": "markdown",
   "metadata": {},
   "source": [
    "Now that we have the topics coefficient for each song, we can retrieve interesting information.\n",
    "The goal is to have for a given genre, the coefficient of a given topic for a given year.\n",
    "For instance to kown what is the importance of the Gangsta topics in the pop genre in the year 2007."
   ]
  },
  {
   "cell_type": "code",
   "execution_count": null,
   "metadata": {
    "collapsed": true,
    "scrolled": true
   },
   "outputs": [],
   "source": [
    "topics_genres = {}\n",
    "topics_all = {}\n",
    "\n",
    "# We iterate through the dataset\n",
    "for index, row in result.iterrows():\n",
    "    genre = row['genres']\n",
    "    genre = genre.replace('&', ',')\n",
    "    topics = row['topics']\n",
    "    year = row['year']\n",
    "    \n",
    "    # Add genre if not in topics_genres\n",
    "    if genre not in  topics_genres:\n",
    "        topics_genres[genre] = {}\n",
    "    \n",
    "    for topic in topics:\n",
    "        # Add topic if not in topics_genres[genres]\n",
    "        # This is where we add the topic value for a given genre\n",
    "        if not topic in topics_genres[genre]:\n",
    "            topics_genres[genre][topic] = {}\n",
    "        # Add year for this topic and initialize it\n",
    "        if not year in topics_genres[genre][topic]:\n",
    "            topics_genres[genre][topic][year] = []\n",
    "            topics_genres[genre][topic][year].append(0)\n",
    "            topics_genres[genre][topic][year].append(0)\n",
    "        # Sum the topic of this song for this year\n",
    "        topics_genres[genre][topic][year][0] += topics[topic]\n",
    "        # Increase the number of songs for this genre/topic/year \n",
    "        # in order to have a mean \n",
    "        topics_genres[genre][topic][year][1] += 1\n",
    "        \n",
    "        # Same as before but for all genre (special case)\n",
    "        if topic not in topics_all:\n",
    "            topics_all[topic] = {}\n",
    "        \n",
    "        if not year in topics_all[topic]:\n",
    "            topics_all[topic][year] = []\n",
    "            topics_all[topic][year].append(0)\n",
    "            topics_all[topic][year].append(0)\n",
    "        topics_all[topic][year][0] += topics[topic]\n",
    "        topics_all[topic][year][1] += 1"
   ]
  },
  {
   "cell_type": "code",
   "execution_count": null,
   "metadata": {},
   "outputs": [],
   "source": [
    "# Compute the mean for this genre/topic/year combination\n",
    "results = {}\n",
    "for genre in topics_genres:\n",
    "    results[genre] = {}\n",
    "    for topic in topics_genres[genre]:\n",
    "        results[genre][topic] = {}\n",
    "        for year in topics_genres[genre][topic]:\n",
    "            if year:\n",
    "                mean = topics_genres[genre][topic][year][0] / topics_genres[genre][topic][year][1] \n",
    "                results[genre][topic][year] = mean\n",
    "results\n",
    "\n",
    "# Same as above\n",
    "results_all = {}\n",
    "for topic in topics_all:\n",
    "    results_all[topic] = {}\n",
    "    for year in topics_all[topic]:\n",
    "        if year:\n",
    "            mean = topics_all[topic][year][0] / topics_all[topic][year][1] \n",
    "            results_all[topic][year] = mean"
   ]
  },
  {
   "cell_type": "code",
   "execution_count": null,
   "metadata": {},
   "outputs": [],
   "source": [
    "# Save the final result\n",
    "path = 'data/final_data/topics'\n",
    "for genre in results:\n",
    "    for topic in results[genre]:\n",
    "        directory = path + '/' + genre + '/'\n",
    "        if not os.path.exists(directory):\n",
    "            os.makedirs(directory)\n",
    "        with open((directory + str(topic) + '.csv'), 'w') as csvfile:\n",
    "            print('year,value', file=csvfile)\n",
    "            for year in sorted(results[genre][topic].keys()):\n",
    "                csvfile.write(str(year) + ',' + str(results[genre][topic][year]) + '\\n')\n",
    "\n",
    "path = 'data/final_data/topics'\n",
    "directory = path + '/' + 'all' + '/'\n",
    "if not os.path.exists(directory):\n",
    "    os.makedirs(directory)\n",
    "    \n",
    "for topic in results_all:\n",
    "    with open((directory + str(topic) + '.csv'), 'w') as csvfile:\n",
    "        print('year,value', file=csvfile)\n",
    "        for year in sorted(results_all[topic].keys()):\n",
    "            csvfile.write(str(year) + ',' + str(results_all[topic][year]) + '\\n')"
   ]
  },
  {
   "cell_type": "markdown",
   "metadata": {},
   "source": [
    "# Visualization"
   ]
  },
  {
   "cell_type": "markdown",
   "metadata": {},
   "source": [
    "As we have planned, we have a data visualisation website that displays our data as plots over the time of different distributions of topics, words or sentiments, separated by genre or not. The visualisation is available at the end of our data story [here](http://adelamare.eu/ADA/Project/). It is also available standalone [here](http://adelamare.eu/ADA/Project/fullViz.html)."
   ]
  }
 ],
 "metadata": {
  "kernelspec": {
   "display_name": "Python 3",
   "language": "python",
   "name": "python3"
  },
  "language_info": {
   "codemirror_mode": {
    "name": "ipython",
    "version": 3
   },
   "file_extension": ".py",
   "mimetype": "text/x-python",
   "name": "python",
   "nbconvert_exporter": "python",
   "pygments_lexer": "ipython3",
   "version": "3.6.3"
  }
 },
 "nbformat": 4,
 "nbformat_minor": 2
}
