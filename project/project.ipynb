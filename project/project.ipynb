{
 "cells": [
  {
   "cell_type": "code",
   "execution_count": null,
   "metadata": {},
   "outputs": [],
   "source": [
    "#As always, we import everything\n",
    "import pandas as pd\n",
    "import os\n",
    "import re\n",
    "import hdf5_getters as getters\n",
    "import requests\n",
    "from bs4 import BeautifulSoup\n",
    "import numpy as np"
   ]
  },
  {
   "cell_type": "code",
   "execution_count": null,
   "metadata": {
    "scrolled": true
   },
   "outputs": [],
   "source": [
    "all_files = []\n",
    "for (dirpath, dirnames, filenames) in os.walk(\"million-song/data\"):\n",
    "    all_files.extend([dirpath + \"/\" + filename for filename in filenames if filename.endswith(\".h5\")])\n",
    "all_files_num = len(all_files)\n",
    "all_files_num"
   ]
  },
  {
   "cell_type": "code",
   "execution_count": null,
   "metadata": {},
   "outputs": [],
   "source": [
    "def get_track_id(filename):\n",
    "    h5 = getters.open_h5_file_read(filename)\n",
    "    track_id = getters.get_track_id(h5)\n",
    "    h5.close()\n",
    "    return track_id"
   ]
  },
  {
   "cell_type": "code",
   "execution_count": null,
   "metadata": {},
   "outputs": [],
   "source": [
    "def get_title(filename):\n",
    "    h5 = getters.open_h5_file_read(filename)\n",
    "    title = getters.get_title(h5).decode()\n",
    "    h5.close()\n",
    "    return title"
   ]
  },
  {
   "cell_type": "code",
   "execution_count": null,
   "metadata": {},
   "outputs": [],
   "source": [
    "def get_artist_name(filename):\n",
    "    h5 = getters.open_h5_file_read(filename)\n",
    "    artist_name = getters.get_artist_name(h5).decode()\n",
    "    h5.close()\n",
    "    return artist_name"
   ]
  },
  {
   "cell_type": "code",
   "execution_count": null,
   "metadata": {},
   "outputs": [],
   "source": [
    "def get_year(filename):\n",
    "    h5 = getters.open_h5_file_read(filename)\n",
    "    year = getters.get_year(h5)\n",
    "    h5.close()\n",
    "    return year"
   ]
  },
  {
   "cell_type": "code",
   "execution_count": null,
   "metadata": {},
   "outputs": [],
   "source": [
    "#df = pd.read_csv('MillionSongSubset/msd_genre_dataset.txt')\n",
    "#genre_dataset = df[['genre', 'track_id']].set_index('track_id')\n",
    "#genre_dataset.to_csv('MillionSongSubset/genre_dataset.txt')\n",
    "genre_dataset = pd.read_csv('MillionSongSubset/genre_dataset.txt').set_index('track_id')"
   ]
  },
  {
   "cell_type": "code",
   "execution_count": null,
   "metadata": {},
   "outputs": [],
   "source": [
    "def get_song_genres(track_id):\n",
    "    if track_id in genre_dataset.index:\n",
    "        return \"&\".join(genre_dataset.loc[[track_id]].values[0][0].split(' and '))\n",
    "    else:\n",
    "        return None"
   ]
  },
  {
   "cell_type": "code",
   "execution_count": null,
   "metadata": {},
   "outputs": [],
   "source": [
    "data = pd.DataFrame([])\n",
    "\n",
    "i = 0\n",
    "curr_percent = -1\n",
    "for filename in all_files:\n",
    "    percent = int(100 * i / float(all_files_num))\n",
    "    if percent != curr_percent:\n",
    "        curr_percent = percent\n",
    "        print(curr_percent, \"%\", end='\\r')\n",
    "    \n",
    "    track_id = get_track_id(filename).decode()\n",
    "    genres = get_song_genres(track_id)\n",
    "    if genres:\n",
    "        data = data.append(pd.DataFrame({'track_id': track_id, 'genres': genres, 'artist_name' : get_artist_name(filename), 'title' : get_title(filename), 'year' : get_year(filename), 'lyrics' : \"\"}, index=[0]))\n",
    "    i += 1\n",
    "\n",
    "data.set_index('track_id', inplace=True)\n",
    "data.to_csv('data/data.csv')\n",
    "\n",
    "#data = pd.read_csv('data/data.csv').set_index('track_id')"
   ]
  },
  {
   "cell_type": "markdown",
   "metadata": {},
   "source": [
    "# DONT RUN PAST THIS POINT"
   ]
  },
  {
   "cell_type": "code",
   "execution_count": null,
   "metadata": {},
   "outputs": [],
   "source": [
    "lyrics_df1 = pd.read_csv('lyrics/songdata1.csv')\n",
    "lyrics_df1.set_index(['artist', 'song'], inplace=True)"
   ]
  },
  {
   "cell_type": "code",
   "execution_count": null,
   "metadata": {},
   "outputs": [],
   "source": [
    "lyrics_df2_raw = pd.read_csv('lyrics/songdata2.csv', na_filter=False)\n",
    "lyrics_df2 = lyrics_df2_raw[['song', 'artist', 'lyrics']].set_index(['artist', 'song'])"
   ]
  },
  {
   "cell_type": "code",
   "execution_count": null,
   "metadata": {},
   "outputs": [],
   "source": [
    "def get_lyrics_csv1(artist_name, title):\n",
    "    if (artist_name, title) in lyrics_df1.index:\n",
    "        return lyrics_df1.loc[artist_name, title].values[0][1]\n",
    "    else:\n",
    "        return None"
   ]
  },
  {
   "cell_type": "code",
   "execution_count": null,
   "metadata": {},
   "outputs": [],
   "source": [
    "def get_lyrics_csv2(artist_name, title):\n",
    "    index_artist_name = artist_name.lower().replace(' ', '-')\n",
    "    index_title = title.lower().replace(' ', '-')\n",
    "    if (index_artist_name, index_title) in lyrics_df2.index:\n",
    "        lyrics = lyrics_df2.loc[index_artist_name, index_title].values[0][0]\n",
    "        if len(lyrics) == 0:\n",
    "            return None\n",
    "        else:\n",
    "            return lyrics\n",
    "    else:\n",
    "        return None"
   ]
  },
  {
   "cell_type": "code",
   "execution_count": null,
   "metadata": {},
   "outputs": [],
   "source": [
    "def get_lyrics_genius(artist_name, title):\n",
    "    url = (artist_name.lower().replace(' ', '-') + '-' + re.sub(r'\\([^)]*\\)', '', title).rstrip().lower().replace(' ', '-') + '-lyrics').capitalize().replace(\"'\", '')\n",
    "    r = requests.get(\"https://genius.com/\" + url)\n",
    "    soup = BeautifulSoup(r.text, 'html.parser')\n",
    "    \n",
    "    if len(soup.select(\".render_404-headline\")) > 0:\n",
    "        return None\n",
    "    \n",
    "    return soup.select(\".lyrics\")[0].text"
   ]
  },
  {
   "cell_type": "code",
   "execution_count": null,
   "metadata": {},
   "outputs": [],
   "source": [
    "def get_lyrics(artist_name, title):\n",
    "    lyrics = get_lyrics_csv1(artist_name, title)\n",
    "    if lyrics:\n",
    "        return lyrics\n",
    "    \n",
    "    lyrics = get_lyrics_csv2(artist_name, title)\n",
    "    if lyrics:\n",
    "        return lyrics\n",
    "    \n",
    "    lyrics = get_lyrics_genius(artist_name, title)\n",
    "    if lyrics:\n",
    "        return lyrics\n",
    "    \n",
    "    return \"\""
   ]
  },
  {
   "cell_type": "code",
   "execution_count": null,
   "metadata": {
    "scrolled": true
   },
   "outputs": [],
   "source": [
    "#Match lyrics\n",
    "data_lyrics = data.copy()\n",
    "i = 1\n",
    "for index, row in data.iterrows():\n",
    "    lyrics = get_lyrics(row['artist_name'], row['title'])\n",
    "    \"\"\"\n",
    "    if len(lyrics) > 0:\n",
    "        print(index + \" found\")\n",
    "    else:\n",
    "        print(row['artist_name'] + \" \" + row['title'] + \" not found\")\n",
    "    \"\"\"\n",
    "    print(i, '/', data.shape[0])\n",
    "    i += 1\n",
    "    data_lyrics.loc[index, 'lyrics'] = lyrics"
   ]
  },
  {
   "cell_type": "code",
   "execution_count": null,
   "metadata": {},
   "outputs": [],
   "source": [
    "data.shape"
   ]
  },
  {
   "cell_type": "code",
   "execution_count": null,
   "metadata": {},
   "outputs": [],
   "source": [
    "data_lyrics.to_csv('data/data_lyrics.csv')"
   ]
  },
  {
   "cell_type": "code",
   "execution_count": null,
   "metadata": {},
   "outputs": [],
   "source": [
    "data_lyrics = data_lyrics[data_lyrics.lyrics != '']"
   ]
  },
  {
   "cell_type": "code",
   "execution_count": null,
   "metadata": {},
   "outputs": [],
   "source": [
    "data_lyrics.shape"
   ]
  },
  {
   "cell_type": "code",
   "execution_count": null,
   "metadata": {},
   "outputs": [],
   "source": [
    "data_lyrics"
   ]
  },
  {
   "cell_type": "code",
   "execution_count": null,
   "metadata": {},
   "outputs": [],
   "source": []
  }
 ],
 "metadata": {
  "kernelspec": {
   "display_name": "Python 3",
   "language": "python",
   "name": "python3"
  },
  "language_info": {
   "codemirror_mode": {
    "name": "ipython",
    "version": 3
   },
   "file_extension": ".py",
   "mimetype": "text/x-python",
   "name": "python",
   "nbconvert_exporter": "python",
   "pygments_lexer": "ipython3",
   "version": "3.6.3"
  }
 },
 "nbformat": 4,
 "nbformat_minor": 2
}
