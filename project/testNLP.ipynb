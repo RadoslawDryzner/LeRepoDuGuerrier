{
 "cells": [
  {
   "cell_type": "markdown",
   "metadata": {},
   "source": [
    "In this notebook, we show some of the functions that we will use later on all lyrics."
   ]
  },
  {
   "cell_type": "code",
   "execution_count": 1,
   "metadata": {
    "scrolled": true
   },
   "outputs": [
    {
     "name": "stdout",
     "output_type": "stream",
     "text": [
      "[nltk_data] Downloading package stopwords to /home/arnaud/nltk_data...\n",
      "[nltk_data]   Package stopwords is already up-to-date!\n"
     ]
    },
    {
     "data": {
      "text/plain": [
       "True"
      ]
     },
     "execution_count": 1,
     "metadata": {},
     "output_type": "execute_result"
    }
   ],
   "source": [
    "from textblob import TextBlob\n",
    "from textblob.sentiments import NaiveBayesAnalyzer\n",
    "import nltk\n",
    "nltk.download('stopwords')"
   ]
  },
  {
   "cell_type": "markdown",
   "metadata": {},
   "source": [
    "We first define write some lyrics of famous songs."
   ]
  },
  {
   "cell_type": "code",
   "execution_count": 2,
   "metadata": {},
   "outputs": [],
   "source": [
    "lyrics1 = \"\"\"Hello darkness, my old friend \n",
    "I've come to talk with you again \n",
    "Because a vision softly creeping \n",
    "Left its seeds while I was sleeping \n",
    "And the vision that was planted in my brain \n",
    "Still remains \n",
    "Within the sound of silence \n",
    "\n",
    "In restless dreams I walked alone \n",
    "Narrow streets of cobblestone \n",
    "'Neath the halo of a street lamp \n",
    "I turned my collar to the cold and damp \n",
    "When my eyes were stabbed by the flash of a neon light \n",
    "That split the night \n",
    "And touched the sound of silence \n",
    "\n",
    "And in the naked light I saw \n",
    "Ten thousand people maybe more \n",
    "People talking without speaking \n",
    "People hearing without listening \n",
    "People writing songs that voices never shared \n",
    "No one dared \n",
    "Disturb the sound of silence \n",
    "\n",
    "\"Fools,\" said I, \"you do not know \n",
    "Silence like a cancer grows \n",
    "Hear my words that I might teach you \n",
    "Take my arms that I might reach you\" \n",
    "But my words like silent raindrops fell \n",
    "And echoed in the wells of silence \n",
    "\n",
    "And the people bowed and prayed \n",
    "To the neon god they made \n",
    "And the sign flashed out its warning \n",
    "In the words that it was forming \n",
    "And the sign said \"The words of the prophets are written on the subway walls \n",
    "And tenement halls \n",
    "And whispered in the sound of silence\"\"\"\n",
    "\n",
    "lyrics2 = \"\"\"It might seem crazy what I am about to say\n",
    "Sunshine she's here, you can take a break\n",
    "I'm a hot air balloon that could go to space\n",
    "With the air, like I don't care, baby, by the way\n",
    "\n",
    "(Because I'm happy)\n",
    "Clap along if you feel like a room without a roof\n",
    "(Because I'm happy)\n",
    "Clap along if you feel like happiness is the truth\n",
    "(Because I'm happy)\n",
    "Clap along if you know what happiness is to you\n",
    "(Because I'm happy)\n",
    "Clap along if you feel like that's what you wanna do\n",
    "\n",
    "Here come bad news, talking this and that (Yeah!)\n",
    "Well, give me all you got, don't hold it back (Yeah!)\n",
    "Well, I should probably warn ya, I'll be just fine (Yeah!)\n",
    "No offense to you, don’t waste your time\n",
    "Here's why...\n",
    "\n",
    "(Because I'm happy)\n",
    "Clap along if you feel like a room without a roof\n",
    "(Because I'm happy)\n",
    "Clap along if you feel like happiness is the truth\n",
    "(Because I'm happy)\n",
    "Clap along if you know what happiness is to you\n",
    "(Because I'm happy)\n",
    "Clap along if you feel like that's what you wanna do\n",
    "\n",
    "(Happy)\n",
    "Bring me down… can't nothing…\n",
    "(Happy)\n",
    "Bring me down… my love is too high…\n",
    "(Happy)\n",
    "Bring me down… can't nothing…\n",
    "(Happy)\n",
    "Bring me down, I said\n",
    "\n",
    "(Happy, happy, happy, happy)\n",
    "Bring me down…can't nothing…\n",
    "(Happy, happy, happy, happy)\n",
    "Bring me down… my love is too high…\n",
    "(Happy, happy, happy, happy)\n",
    "Bring me down… can't nothing…\n",
    "(Happy, happy, happy, happy)\n",
    "Bring me down, I said\n",
    "\n",
    "(Because I'm happy)\n",
    "Clap along if you feel like a room without a roof\n",
    "(Because I'm happy)\n",
    "Clap along if you feel like happiness is the truth\n",
    "(Because I'm happy)\n",
    "Clap along if you know what happiness is to you\n",
    "(Because I'm happy)\n",
    "Clap along if you feel like that's what you wanna do\n",
    "[x2]\n",
    "\n",
    "(Happy, happy, happy, happy)\n",
    "Bring me down… can't nothing…\n",
    "(Happy, happy, happy, happy)\n",
    "Bring me down… my love is too high…\n",
    "(Happy, happy, happy, happy)\n",
    "Bring me down… can't nothing…\n",
    "(Happy, happy, happy, happy)\n",
    "Bring me down, I said\n",
    "\n",
    "(Because I'm happy)\n",
    "Clap along if you feel like a room without a roof\n",
    "(Because I'm happy)\n",
    "Clap along if you feel like happiness is the truth\n",
    "(Because I'm happy)\n",
    "Clap along if you know what happiness is to you\n",
    "(Because I'm happy)\n",
    "Clap along if you feel like that's what you wanna do\n",
    "[x2]\n",
    "\n",
    "Come on!\"\"\"\n",
    "\n",
    "lyrics3 = \"\"\"Imagine me and you I do\n",
    "I think about you day and night \n",
    "It's only right \n",
    "To think about the girl you love \n",
    "And hold her tight \n",
    "So happy together \n",
    "\n",
    "If I should call you up invest a dime \n",
    "And you say you belong to me\n",
    "And ease my mind \n",
    "Imagine how the world could be\n",
    "So very fine \n",
    "So happy together \n",
    "\n",
    "I can see me lovin' nobody but you\n",
    "For all my life \n",
    "When you're with me baby the skies'll be blue \n",
    "For all my life \n",
    "\n",
    "Me and you and you and me\n",
    "No matter how they toss the dice \n",
    "It had to be\n",
    "The only one for me is you\n",
    "And you for me\n",
    "So happy together \n",
    "\n",
    "I can see me lovin' nobody but you\n",
    "For all my life \n",
    "When you're with me baby the skies'll be blue \n",
    "For all my life \n",
    "\n",
    "Me and you and you and me\n",
    "No matter how they toss the dice \n",
    "It had to be\n",
    "The only one for me is you\n",
    "And you for me\n",
    "So happy together \n",
    "\n",
    "Me and you and you and me\n",
    "No matter how they toss the dice \n",
    "It had to be\n",
    "The only one for me is you\n",
    "And you for me\n",
    "\n",
    "So happy together \n",
    "So happy together \n",
    "How is the weather \n",
    "So happy together \n",
    "We're happy together \n",
    "So happy together \n",
    "Happy together \n",
    "So happy together \n",
    "So happy together\"\"\"\n",
    "\n",
    "lyrics4 =\"\"\"Hear that lonesome whippoorwill \n",
    "He sounds too blue to fly\n",
    "That means he's lost the will to live \n",
    "I'm so lonesome I could cry\n",
    "Did you ever see a night so slow \n",
    "As time goes draggin' by\n",
    "The moon just went behind the clouds\n",
    "To hide its face and cry\n",
    "The silence of a falling star \n",
    "Lights up a purple sky\n",
    "And as I wonder where you are \n",
    "I'm so lonesome I could cry\n",
    "I'm so lonesome I could cry \n",
    "I'm so lonesome I could cry\"\"\""
   ]
  },
  {
   "cell_type": "markdown",
   "metadata": {},
   "source": [
    "As NLP is dependent on the language, and as some of the settings of the languages require their full name and not their isocode, we need the following function."
   ]
  },
  {
   "cell_type": "code",
   "execution_count": 3,
   "metadata": {},
   "outputs": [],
   "source": [
    "import pycountry\n",
    "\n",
    "def get_language_full_name(isocode):\n",
    "    return pycountry.languages.get(alpha_2=isocode).name.lower()"
   ]
  },
  {
   "cell_type": "markdown",
   "metadata": {},
   "source": [
    "`stop_words_languages` is a dictionnary that will contain, for each language, its corresponding stop words."
   ]
  },
  {
   "cell_type": "code",
   "execution_count": 4,
   "metadata": {},
   "outputs": [],
   "source": [
    "from nltk import word_tokenize\n",
    "from nltk.corpus import stopwords as stop_words\n",
    "\n",
    "stop_words_languages = {}"
   ]
  },
  {
   "cell_type": "markdown",
   "metadata": {},
   "source": [
    "We can now define the function that will return the bag of words, given a text (in our case lyrics)."
   ]
  },
  {
   "cell_type": "code",
   "execution_count": 5,
   "metadata": {
    "scrolled": true
   },
   "outputs": [],
   "source": [
    "from textblob import Word\n",
    "\n",
    "def get_bag_of_words(lyrics, language):\n",
    "    count = {}\n",
    "    \n",
    "    if not language in stop_words_languages:\n",
    "        stop_words_languages[language] = set(stop_words.words(get_language_full_name(language)))\n",
    "    \n",
    "    blob = TextBlob(lyrics)\n",
    "    for word, tag in blob.tags:\n",
    "        word = word.lower()\n",
    "        if not word in stop_words_languages[language]: #checks if the word is a stop word (eg : is, the, a, ...)\n",
    "            lemma = None\n",
    "            if tag[0] == \"V\": #if the word is a verb\n",
    "                lemma = Word(word).lemmatize(\"v\") #we lemmatize it accordingly (for instance, removes -ing or -ed)\n",
    "            else:\n",
    "                lemma = Word(word).lemmatize()\n",
    "\n",
    "            if lemma:\n",
    "                if lemma in count:\n",
    "                    count[lemma] += 1\n",
    "                else:\n",
    "                    count[lemma] = 1\n",
    "                    \n",
    "    return count"
   ]
  },
  {
   "cell_type": "markdown",
   "metadata": {},
   "source": [
    "We can now run our bag-of-words function for the first lyrics."
   ]
  },
  {
   "cell_type": "code",
   "execution_count": 6,
   "metadata": {},
   "outputs": [
    {
     "data": {
      "text/plain": [
       "{\"'ve\": 1,\n",
       " 'alone': 1,\n",
       " 'arm': 1,\n",
       " 'bow': 1,\n",
       " 'brain': 1,\n",
       " 'cancer': 1,\n",
       " 'cobblestone': 1,\n",
       " 'cold': 1,\n",
       " 'collar': 1,\n",
       " 'come': 1,\n",
       " 'creep': 1,\n",
       " 'damp': 1,\n",
       " 'dare': 1,\n",
       " 'darkness': 1,\n",
       " 'disturb': 1,\n",
       " 'dream': 1,\n",
       " 'echoed': 1,\n",
       " 'eye': 1,\n",
       " 'fell': 1,\n",
       " 'flash': 2,\n",
       " 'fool': 1,\n",
       " 'form': 1,\n",
       " 'friend': 1,\n",
       " 'god': 1,\n",
       " 'grow': 1,\n",
       " 'hall': 1,\n",
       " 'halo': 1,\n",
       " 'hear': 2,\n",
       " 'hello': 1,\n",
       " 'know': 1,\n",
       " 'lamp': 1,\n",
       " 'left': 1,\n",
       " 'light': 2,\n",
       " 'like': 2,\n",
       " 'listen': 1,\n",
       " 'make': 1,\n",
       " 'maybe': 1,\n",
       " 'might': 2,\n",
       " 'naked': 1,\n",
       " 'narrow': 1,\n",
       " 'neon': 2,\n",
       " 'never': 1,\n",
       " 'night': 1,\n",
       " 'old': 1,\n",
       " 'one': 1,\n",
       " 'people': 5,\n",
       " 'plant': 1,\n",
       " 'pray': 1,\n",
       " 'prophet': 1,\n",
       " 'raindrop': 1,\n",
       " 'reach': 1,\n",
       " 'remain': 1,\n",
       " 'restless': 1,\n",
       " 'saw': 1,\n",
       " 'say': 2,\n",
       " 'seed': 1,\n",
       " 'share': 1,\n",
       " 'sign': 2,\n",
       " 'silence': 6,\n",
       " 'silent': 1,\n",
       " 'sleep': 1,\n",
       " 'softly': 1,\n",
       " 'song': 1,\n",
       " 'sound': 4,\n",
       " 'speak': 1,\n",
       " 'split': 1,\n",
       " 'stab': 1,\n",
       " 'still': 1,\n",
       " 'street': 2,\n",
       " 'subway': 1,\n",
       " 'take': 1,\n",
       " 'talk': 2,\n",
       " 'teach': 1,\n",
       " 'ten': 1,\n",
       " 'tenement': 1,\n",
       " 'thousand': 1,\n",
       " 'touch': 1,\n",
       " 'turn': 1,\n",
       " 'vision': 2,\n",
       " 'voice': 1,\n",
       " 'walk': 1,\n",
       " 'wall': 1,\n",
       " 'warning': 1,\n",
       " 'well': 1,\n",
       " 'whisper': 1,\n",
       " 'within': 1,\n",
       " 'without': 2,\n",
       " 'word': 4,\n",
       " 'write': 2}"
      ]
     },
     "execution_count": 6,
     "metadata": {},
     "output_type": "execute_result"
    }
   ],
   "source": [
    "get_bag_of_words(lyrics1, \"en\")"
   ]
  },
  {
   "cell_type": "markdown",
   "metadata": {},
   "source": [
    "Another further step would be to get the overall 'sentiment' of the lyrics (eg. positive or negative). We get this by using the `sentiment` function of TextBlob. The `polarity` field gives us what we need."
   ]
  },
  {
   "cell_type": "code",
   "execution_count": 7,
   "metadata": {},
   "outputs": [],
   "source": [
    "def get_sentiment(lyrics):\n",
    "    blob = TextBlob(lyrics)\n",
    "    return blob.sentiment.polarity"
   ]
  },
  {
   "cell_type": "markdown",
   "metadata": {},
   "source": [
    "We can test it with our lyrics :"
   ]
  },
  {
   "cell_type": "code",
   "execution_count": 11,
   "metadata": {},
   "outputs": [
    {
     "name": "stdout",
     "output_type": "stream",
     "text": [
      "0.15333333333333332\n",
      "0.6601273148148146\n",
      "0.4885822510822511\n",
      "0.047272727272727265\n"
     ]
    }
   ],
   "source": [
    "print(get_sentiment(lyrics1)) #the sound of silence\n",
    "print(get_sentiment(lyrics2)) #happy\n",
    "print(get_sentiment(lyrics3)) #happy together\n",
    "print(get_sentiment(lyrics4)) #I'm so lonesome I could cry"
   ]
  },
  {
   "cell_type": "markdown",
   "metadata": {},
   "source": [
    "We can see that \"Happy\" has a much higher score than \"The sound of silence\" or \"I'm so lonesome I could cry\", which agrees with our intuition."
   ]
  }
 ],
 "metadata": {
  "kernelspec": {
   "display_name": "Python 3",
   "language": "python",
   "name": "python3"
  },
  "language_info": {
   "codemirror_mode": {
    "name": "ipython",
    "version": 3
   },
   "file_extension": ".py",
   "mimetype": "text/x-python",
   "name": "python",
   "nbconvert_exporter": "python",
   "pygments_lexer": "ipython3",
   "version": "3.5.2"
  }
 },
 "nbformat": 4,
 "nbformat_minor": 2
}
