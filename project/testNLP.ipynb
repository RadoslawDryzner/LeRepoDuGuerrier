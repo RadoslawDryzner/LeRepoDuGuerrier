{
 "cells": [
  {
   "cell_type": "code",
   "execution_count": 1,
   "metadata": {
    "scrolled": true
   },
   "outputs": [
    {
     "name": "stdout",
     "output_type": "stream",
     "text": [
      "[nltk_data] Downloading package stopwords to /home/arnaud/nltk_data...\n",
      "[nltk_data]   Package stopwords is already up-to-date!\n"
     ]
    },
    {
     "data": {
      "text/plain": [
       "True"
      ]
     },
     "execution_count": 1,
     "metadata": {},
     "output_type": "execute_result"
    }
   ],
   "source": [
    "from textblob import TextBlob\n",
    "from textblob.sentiments import NaiveBayesAnalyzer\n",
    "import nltk\n",
    "nltk.download('stopwords')"
   ]
  },
  {
   "cell_type": "code",
   "execution_count": 3,
   "metadata": {},
   "outputs": [],
   "source": [
    "lyrics1 = \"\"\"Hello darkness, my old friend \n",
    "I've come to talk with you again \n",
    "Because a vision softly creeping \n",
    "Left its seeds while I was sleeping \n",
    "And the vision that was planted in my brain \n",
    "Still remains \n",
    "Within the sound of silence \n",
    "\n",
    "In restless dreams I walked alone \n",
    "Narrow streets of cobblestone \n",
    "'Neath the halo of a street lamp \n",
    "I turned my collar to the cold and damp \n",
    "When my eyes were stabbed by the flash of a neon light \n",
    "That split the night \n",
    "And touched the sound of silence \n",
    "\n",
    "And in the naked light I saw \n",
    "Ten thousand people maybe more \n",
    "People talking without speaking \n",
    "People hearing without listening \n",
    "People writing songs that voices never shared \n",
    "No one dared \n",
    "Disturb the sound of silence \n",
    "\n",
    "\"Fools,\" said I, \"you do not know \n",
    "Silence like a cancer grows \n",
    "Hear my words that I might teach you \n",
    "Take my arms that I might reach you\" \n",
    "But my words like silent raindrops fell \n",
    "And echoed in the wells of silence \n",
    "\n",
    "And the people bowed and prayed \n",
    "To the neon god they made \n",
    "And the sign flashed out its warning \n",
    "In the words that it was forming \n",
    "And the sign said \"The words of the prophets are written on the subway walls \n",
    "And tenement halls \n",
    "And whispered in the sound of silence\"\"\"\n",
    "\n",
    "lyrics2 = \"\"\"It might seem crazy what I am about to say\n",
    "Sunshine she's here, you can take a break\n",
    "I'm a hot air balloon that could go to space\n",
    "With the air, like I don't care, baby, by the way\n",
    "\n",
    "(Because I'm happy)\n",
    "Clap along if you feel like a room without a roof\n",
    "(Because I'm happy)\n",
    "Clap along if you feel like happiness is the truth\n",
    "(Because I'm happy)\n",
    "Clap along if you know what happiness is to you\n",
    "(Because I'm happy)\n",
    "Clap along if you feel like that's what you wanna do\n",
    "\n",
    "Here come bad news, talking this and that (Yeah!)\n",
    "Well, give me all you got, don't hold it back (Yeah!)\n",
    "Well, I should probably warn ya, I'll be just fine (Yeah!)\n",
    "No offense to you, don’t waste your time\n",
    "Here's why...\n",
    "\n",
    "(Because I'm happy)\n",
    "Clap along if you feel like a room without a roof\n",
    "(Because I'm happy)\n",
    "Clap along if you feel like happiness is the truth\n",
    "(Because I'm happy)\n",
    "Clap along if you know what happiness is to you\n",
    "(Because I'm happy)\n",
    "Clap along if you feel like that's what you wanna do\n",
    "\n",
    "(Happy)\n",
    "Bring me down… can't nothing…\n",
    "(Happy)\n",
    "Bring me down… my love is too high…\n",
    "(Happy)\n",
    "Bring me down… can't nothing…\n",
    "(Happy)\n",
    "Bring me down, I said\n",
    "\n",
    "(Happy, happy, happy, happy)\n",
    "Bring me down…can't nothing…\n",
    "(Happy, happy, happy, happy)\n",
    "Bring me down… my love is too high…\n",
    "(Happy, happy, happy, happy)\n",
    "Bring me down… can't nothing…\n",
    "(Happy, happy, happy, happy)\n",
    "Bring me down, I said\n",
    "\n",
    "(Because I'm happy)\n",
    "Clap along if you feel like a room without a roof\n",
    "(Because I'm happy)\n",
    "Clap along if you feel like happiness is the truth\n",
    "(Because I'm happy)\n",
    "Clap along if you know what happiness is to you\n",
    "(Because I'm happy)\n",
    "Clap along if you feel like that's what you wanna do\n",
    "[x2]\n",
    "\n",
    "(Happy, happy, happy, happy)\n",
    "Bring me down… can't nothing…\n",
    "(Happy, happy, happy, happy)\n",
    "Bring me down… my love is too high…\n",
    "(Happy, happy, happy, happy)\n",
    "Bring me down… can't nothing…\n",
    "(Happy, happy, happy, happy)\n",
    "Bring me down, I said\n",
    "\n",
    "(Because I'm happy)\n",
    "Clap along if you feel like a room without a roof\n",
    "(Because I'm happy)\n",
    "Clap along if you feel like happiness is the truth\n",
    "(Because I'm happy)\n",
    "Clap along if you know what happiness is to you\n",
    "(Because I'm happy)\n",
    "Clap along if you feel like that's what you wanna do\n",
    "[x2]\n",
    "\n",
    "Come on!\"\"\"\n",
    "\n",
    "lyrics3 = \"\"\"Imagine me and you I do\n",
    "I think about you day and night \n",
    "It's only right \n",
    "To think about the girl you love \n",
    "And hold her tight \n",
    "So happy together \n",
    "\n",
    "If I should call you up invest a dime \n",
    "And you say you belong to me\n",
    "And ease my mind \n",
    "Imagine how the world could be\n",
    "So very fine \n",
    "So happy together \n",
    "\n",
    "I can see me lovin' nobody but you\n",
    "For all my life \n",
    "When you're with me baby the skies'll be blue \n",
    "For all my life \n",
    "\n",
    "Me and you and you and me\n",
    "No matter how they toss the dice \n",
    "It had to be\n",
    "The only one for me is you\n",
    "And you for me\n",
    "So happy together \n",
    "\n",
    "I can see me lovin' nobody but you\n",
    "For all my life \n",
    "When you're with me baby the skies'll be blue \n",
    "For all my life \n",
    "\n",
    "Me and you and you and me\n",
    "No matter how they toss the dice \n",
    "It had to be\n",
    "The only one for me is you\n",
    "And you for me\n",
    "So happy together \n",
    "\n",
    "Me and you and you and me\n",
    "No matter how they toss the dice \n",
    "It had to be\n",
    "The only one for me is you\n",
    "And you for me\n",
    "\n",
    "So happy together \n",
    "So happy together \n",
    "How is the weather \n",
    "So happy together \n",
    "We're happy together \n",
    "So happy together \n",
    "Happy together \n",
    "So happy together \n",
    "So happy together\"\"\"\n",
    "\n",
    "lyrics4 =\"\"\"Hear that lonesome whippoorwill \n",
    "He sounds too blue to fly\n",
    "That means he's lost the will to live \n",
    "I'm so lonesome I could cry\n",
    "Did you ever see a night so slow \n",
    "As time goes draggin' by\n",
    "The moon just went behind the clouds\n",
    "To hide its face and cry\n",
    "The silence of a falling star \n",
    "Lights up a purple sky\n",
    "And as I wonder where you are \n",
    "I'm so lonesome I could cry\n",
    "I'm so lonesome I could cry \n",
    "I'm so lonesome I could cry\"\"\""
   ]
  },
  {
   "cell_type": "code",
   "execution_count": 4,
   "metadata": {},
   "outputs": [],
   "source": [
    "import pycountry\n",
    "\n",
    "def get_language_full_name(isocode):\n",
    "    return pycountry.languages.get(alpha_2=isocode).name.lower()"
   ]
  },
  {
   "cell_type": "code",
   "execution_count": 5,
   "metadata": {},
   "outputs": [],
   "source": [
    "from nltk import word_tokenize\n",
    "from nltk.corpus import stopwords as stop_words\n",
    "\n",
    "stop_words_languages = {}"
   ]
  },
  {
   "cell_type": "code",
   "execution_count": 8,
   "metadata": {
    "scrolled": true
   },
   "outputs": [],
   "source": [
    "from textblob import Word\n",
    "\n",
    "def get_bag_of_words(lyrics, language):\n",
    "    count = {}\n",
    "    \n",
    "    if not language in stop_words_languages:\n",
    "        stop_words_languages[language] = set(stop_words.words(get_language_full_name(language)))\n",
    "    \n",
    "    blob = TextBlob(lyrics)\n",
    "    for word, tag in blob.tags:\n",
    "        word = word.lower()\n",
    "        if not word in stop_words_languages[language]:\n",
    "            lemma = None\n",
    "            if tag[0] == \"V\":\n",
    "                lemma = Word(word).lemmatize(\"v\")\n",
    "            else:\n",
    "                lemma = Word(word).lemmatize()\n",
    "\n",
    "            if lemma:\n",
    "                if lemma in count:\n",
    "                    count[lemma] += 1\n",
    "                else:\n",
    "                    count[lemma] = 1\n",
    "                    \n",
    "    return count"
   ]
  },
  {
   "cell_type": "code",
   "execution_count": 9,
   "metadata": {},
   "outputs": [
    {
     "data": {
      "text/plain": [
       "{\"'ll\": 2,\n",
       " \"'re\": 3,\n",
       " \"'s\": 1,\n",
       " 'baby': 2,\n",
       " 'belong': 1,\n",
       " 'blue': 2,\n",
       " 'call': 1,\n",
       " 'could': 1,\n",
       " 'day': 1,\n",
       " 'dice': 3,\n",
       " 'dime': 1,\n",
       " 'ease': 1,\n",
       " 'fine': 1,\n",
       " 'girl': 1,\n",
       " 'happy': 12,\n",
       " 'hold': 1,\n",
       " 'imagine': 2,\n",
       " 'invest': 1,\n",
       " 'life': 4,\n",
       " 'love': 1,\n",
       " 'lovin': 2,\n",
       " 'matter': 3,\n",
       " 'mind': 1,\n",
       " 'night': 1,\n",
       " 'nobody': 2,\n",
       " 'one': 3,\n",
       " 'right': 1,\n",
       " 'say': 1,\n",
       " 'see': 2,\n",
       " 'sky': 2,\n",
       " 'think': 2,\n",
       " 'tight': 1,\n",
       " 'together': 12,\n",
       " 'toss': 3,\n",
       " 'weather': 1,\n",
       " 'world': 1}"
      ]
     },
     "execution_count": 9,
     "metadata": {},
     "output_type": "execute_result"
    }
   ],
   "source": [
    "get_bag_of_words(text3, \"en\")"
   ]
  },
  {
   "cell_type": "code",
   "execution_count": 10,
   "metadata": {},
   "outputs": [],
   "source": [
    "def get_sentiment(lyrics):\n",
    "    blob = TextBlob(lyrics)\n",
    "    return blob.sentiment.polarity"
   ]
  },
  {
   "cell_type": "code",
   "execution_count": 13,
   "metadata": {},
   "outputs": [
    {
     "data": {
      "text/plain": [
       "0.15333333333333332"
      ]
     },
     "execution_count": 13,
     "metadata": {},
     "output_type": "execute_result"
    }
   ],
   "source": [
    "get_sentiment(text)"
   ]
  },
  {
   "cell_type": "code",
   "execution_count": 64,
   "metadata": {},
   "outputs": [
    {
     "data": {
      "text/plain": [
       "'en'"
      ]
     },
     "execution_count": 64,
     "metadata": {},
     "output_type": "execute_result"
    }
   ],
   "source": [
    "from langdetect import detect\n",
    "detect(lyrics)"
   ]
  }
 ],
 "metadata": {
  "kernelspec": {
   "display_name": "Python 3",
   "language": "python",
   "name": "python3"
  },
  "language_info": {
   "codemirror_mode": {
    "name": "ipython",
    "version": 3
   },
   "file_extension": ".py",
   "mimetype": "text/x-python",
   "name": "python",
   "nbconvert_exporter": "python",
   "pygments_lexer": "ipython3",
   "version": "3.5.2"
  }
 },
 "nbformat": 4,
 "nbformat_minor": 2
}
