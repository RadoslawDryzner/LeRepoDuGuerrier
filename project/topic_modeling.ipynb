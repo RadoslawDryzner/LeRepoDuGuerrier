{
 "cells": [
  {
   "cell_type": "code",
   "execution_count": 40,
   "metadata": {},
   "outputs": [
    {
     "name": "stderr",
     "output_type": "stream",
     "text": [
      "/usr/lib/python3.6/site-packages/ipykernel_launcher.py:29: PerformanceWarning: indexing past lexsort depth may impact performance.\n"
     ]
    },
    {
     "name": "stdout",
     "output_type": "stream",
     "text": [
      "0\n",
      "[['look', 'face', 'wonder', 'face', 'mean', 'someth', 'special', 'look', 'way', 'smile', 'see', 'lucki', 'can', 'one', 'fellow', 'just', 'kind', 'girl', 'make', 'feel', 'fine', 'ever', 'believ', 'mine', 'just', 'kind', 'girl', 'without', 'm', 'blue', 'ever', 'leav', 'go', 'walk', 'park', 'hold', 'squeez', 'hand', 'll', 'go', 'walk', 'hour', 'talk', 'thing', 'plan', 'just', 'kind', 'girl', 'make', 'feel', 'fine', 'ever', 'believ', 'mine', 'just', 'kind', 'girl', 'without', 'm', 'blue', 'ever', 'leav']]\n",
      "[(0, '0.051*\"ever\" + 0.051*\"kind\" + 0.051*\"just\"')]\n"
     ]
    }
   ],
   "source": [
    "from nltk.tokenize import RegexpTokenizer\n",
    "from nltk.tokenize import TweetTokenizer\n",
    "\n",
    "from nltk.stem.porter import PorterStemmer\n",
    "from stop_words import get_stop_words\n",
    "from gensim import corpora, models\n",
    "import gensim\n",
    "import pandas as pd\n",
    "\n",
    "tokenizer = RegexpTokenizer(r'\\w+|\\w+\\'\\w+')\n",
    "# tokenizer = RegexpTokenizer('\\n')\n",
    "# tokenizer = TweetTokenizer()\n",
    "\n",
    "language = 'en'\n",
    "\n",
    "p_stemmer = PorterStemmer()\n",
    "en_stop = get_stop_words('en')\n",
    "en_stop.append(['s', 'm', 't'])\n",
    "\n",
    "# only use simplewiki in this tutorial (fewer documents)\n",
    "# the full wiki dump is exactly the same format, but largerl\n",
    "\n",
    "lyrics_df1 = pd.read_csv('lyrics/songdata1.csv')\n",
    "lyrics_df1.set_index(['artist', 'song'], inplace=True)\n",
    "\n",
    "lyrics = []\n",
    "i = 1\n",
    "for (artist_name, title) in lyrics_df1.index:\n",
    "    lyrics.append(lyrics_df1.loc[artist_name, title].values[0][1])\n",
    "    i -=1\n",
    "    print(i)\n",
    "    if i <= 0:\n",
    "        break\n",
    "\n",
    "\n",
    "tokens = []\n",
    "for lyric in lyrics:\n",
    "    raw = lyric.lower()\n",
    "    tokens.append(tokenizer.tokenize(raw))\n",
    "\n",
    "stopped_tokens = []\n",
    "for l_token in tokens:\n",
    "    stopped_tokens.append([i for i in l_token if not i in en_stop])\n",
    "\n",
    "texts = []\n",
    "for l_stopped_token in stopped_tokens:\n",
    "    texts.append([p_stemmer.stem(i) for i in l_stopped_token])\n",
    "\n",
    "dictionary = corpora.Dictionary(texts)\n",
    "corpus = [dictionary.doc2bow(text) for text in texts]\n",
    "\n",
    "ldamodel = gensim.models.ldamodel.LdaModel(corpus, num_topics=1, id2word = dictionary, passes=100)\n",
    "print(texts)\n",
    "\n",
    "print(ldamodel.print_topics(num_topics = 1, num_words = 3 ))"
   ]
  },
  {
   "cell_type": "code",
   "execution_count": null,
   "metadata": {
    "collapsed": true
   },
   "outputs": [],
   "source": []
  },
  {
   "cell_type": "code",
   "execution_count": null,
   "metadata": {
    "collapsed": true
   },
   "outputs": [],
   "source": []
  }
 ],
 "metadata": {
  "kernelspec": {
   "display_name": "Python 3",
   "language": "python",
   "name": "python3"
  },
  "language_info": {
   "codemirror_mode": {
    "name": "ipython",
    "version": 3
   },
   "file_extension": ".py",
   "mimetype": "text/x-python",
   "name": "python",
   "nbconvert_exporter": "python",
   "pygments_lexer": "ipython3",
   "version": "3.6.3"
  }
 },
 "nbformat": 4,
 "nbformat_minor": 2
}
