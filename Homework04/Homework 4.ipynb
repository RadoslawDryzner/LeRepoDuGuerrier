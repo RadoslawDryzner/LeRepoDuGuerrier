{
 "cells": [
  {
   "cell_type": "code",
   "execution_count": null,
   "metadata": {},
   "outputs": [],
   "source": [
    "#As always, we import everything\n",
    "import pandas as pd\n",
    "%matplotlib inline\n",
    "import matplotlib.pyplot as plt"
   ]
  },
  {
   "cell_type": "markdown",
   "metadata": {},
   "source": [
    "### 1. A naive analysis"
   ]
  },
  {
   "cell_type": "code",
   "execution_count": null,
   "metadata": {
    "scrolled": false
   },
   "outputs": [],
   "source": [
    "data = pd.read_csv('lalonde.csv')\n",
    "data"
   ]
  },
  {
   "cell_type": "code",
   "execution_count": null,
   "metadata": {},
   "outputs": [],
   "source": [
    "data_non_treatment = data[data.treat == 0][['re78']].values\n",
    "data_treatment = data[data.treat == 1][['re78']].values\n",
    "\n",
    "non_treatment_count = len(data_non_treatment)\n",
    "treatment_count = len(data_treatment)"
   ]
  },
  {
   "cell_type": "code",
   "execution_count": null,
   "metadata": {
    "scrolled": true
   },
   "outputs": [],
   "source": [
    "plt.hist(data_non_treatment, range=[0, 40000])\n",
    "plt.title(\"Histogram of revenue for non-treatment\")\n",
    "plt.xlabel(\"Revenue in 1978\")\n",
    "plt.ylabel(\"Frequency\")\n",
    "plt.show()"
   ]
  },
  {
   "cell_type": "code",
   "execution_count": null,
   "metadata": {
    "scrolled": true
   },
   "outputs": [],
   "source": [
    "plt.hist(data_treatment, range=[0, 40000])\n",
    "plt.title(\"Histogram of revenue for treatment\")\n",
    "plt.xlabel(\"Revenue in 1978\")\n",
    "plt.ylabel(\"Frequency\")\n",
    "plt.show()"
   ]
  },
  {
   "cell_type": "code",
   "execution_count": null,
   "metadata": {
    "scrolled": true
   },
   "outputs": [],
   "source": [
    "plt.boxplot([data_non_treatment, data_treatment])\n",
    "plt.xticks([1, 2], ['non-treatment', 'treatment'])\n",
    "plt.show()"
   ]
  },
  {
   "cell_type": "markdown",
   "metadata": {},
   "source": [
    "As we can see from those basic histograms and the box plot, the 'treatment' population has a lower income (except for a few outliers).\n",
    "A naïve researcher could conclude that the treatment is not only inneficient, but also diminishes the potential income of the participant."
   ]
  },
  {
   "cell_type": "markdown",
   "metadata": {},
   "source": [
    "### 2. A closer look at the data"
   ]
  },
  {
   "cell_type": "markdown",
   "metadata": {},
   "source": [
    "Now, let's look at each variable to see if there is differences between the two groups."
   ]
  },
  {
   "cell_type": "code",
   "execution_count": null,
   "metadata": {
    "scrolled": true
   },
   "outputs": [],
   "source": [
    "age_non_treatment = data[data.treat == 0][['age']].values\n",
    "age_treatment = data[data.treat == 1][['age']].values\n",
    "\n",
    "plt.boxplot([age_non_treatment, age_treatment])\n",
    "plt.xticks([1, 2], ['non-treatment', 'treatment'])\n",
    "plt.show()"
   ]
  },
  {
   "cell_type": "markdown",
   "metadata": {},
   "source": [
    "First, we can see that the treated group is generally younger."
   ]
  },
  {
   "cell_type": "code",
   "execution_count": null,
   "metadata": {
    "scrolled": true
   },
   "outputs": [],
   "source": [
    "educ_non_treatment = data[data.treat == 0][['educ']].values\n",
    "educ_treatment = data[data.treat == 1][['educ']].values\n",
    "\n",
    "plt.boxplot([educ_non_treatment, educ_treatment])\n",
    "plt.xticks([1, 2], ['non-treatment', 'treatment'])\n",
    "plt.show()"
   ]
  },
  {
   "cell_type": "markdown",
   "metadata": {},
   "source": [
    "For the education, the two groups are very similar, except for a few outliers."
   ]
  },
  {
   "cell_type": "code",
   "execution_count": null,
   "metadata": {},
   "outputs": [],
   "source": [
    "black_non_treatment = len(data[(data.treat == 0) & (data.black == 1)])\n",
    "hispan_non_treatment = len(data[(data.treat == 0) & (data.hispan == 1)])\n",
    "white_non_treatment = non_treatment_count - black_non_treatment - hispan_non_treatment\n",
    "\n",
    "black_treatment = len(data[(data.treat == 1) & (data.black == 1)])\n",
    "hispan_treatment = len(data[(data.treat == 1) & (data.hispan == 1)])\n",
    "white_treatment = treatment_count - black_treatment - hispan_treatment"
   ]
  },
  {
   "cell_type": "code",
   "execution_count": null,
   "metadata": {},
   "outputs": [],
   "source": [
    "width = 1/4 \n",
    "colors = ['#b2182b','#d6604d','#f0b572']\n",
    "fig, ax = plt.subplots(figsize=(20,7))\n",
    "pos = list(range(2))\n",
    "\n",
    "plt.bar(pos, [black_non_treatment / non_treatment_count, black_treatment / treatment_count], width, color=colors[0])\n",
    "plt.bar([p + width for p in pos], [hispan_non_treatment / non_treatment_count, hispan_treatment / treatment_count], width, color=colors[1])\n",
    "plt.bar([p + 2 * width for p in pos], [white_non_treatment / non_treatment_count, white_treatment / treatment_count], width, color=colors[2])\n",
    "\n",
    "ax.set_ylabel('Race (%)')\n",
    "\n",
    "ax.set_title('Race of participants')\n",
    "\n",
    "ax.set_xticks([p + width for p in pos])\n",
    "\n",
    "plt.legend(['Black', 'Hispanic', 'White'], loc='upper left')\n",
    "\n",
    "ax.set_xticklabels(['Non-treatment', 'Treatment'])\n",
    "\n",
    "plt.grid(axis='y')\n",
    "plt.show()"
   ]
  },
  {
   "cell_type": "markdown",
   "metadata": {},
   "source": [
    "We can see here that there is a huge difference in terms of races in the two groups. The majority of the non-treatment is white, whereas the overwhelming majority of the treatment group is black. This can influence the study as the race in the US has a significant correlation with the socio-economic conditions of the person."
   ]
  },
  {
   "cell_type": "code",
   "execution_count": null,
   "metadata": {},
   "outputs": [],
   "source": [
    "married_non_treatment = len(data[(data.treat == 0) & (data.married == 1)])\n",
    "not_married_non_treatment = non_treatment_count - married_non_treatment\n",
    "\n",
    "married_treatment = len(data[(data.treat == 1) & (data.married == 1)])\n",
    "not_married_treatment = treatment_count - married_treatment"
   ]
  },
  {
   "cell_type": "code",
   "execution_count": null,
   "metadata": {
    "scrolled": true
   },
   "outputs": [],
   "source": [
    "width = 1/3 \n",
    "colors = ['#b2182b','#d6604d']\n",
    "fig, ax = plt.subplots(figsize=(20,7))\n",
    "pos = list(range(2))\n",
    "\n",
    "plt.bar(pos, [married_non_treatment / non_treatment_count, married_treatment / treatment_count], width, color=colors[0])\n",
    "plt.bar([p + width for p in pos], [not_married_non_treatment / non_treatment_count, not_married_treatment / treatment_count], width, color=colors[1])\n",
    "\n",
    "ax.set_ylabel('Married (%)')\n",
    "\n",
    "ax.set_title('Marital status of participants')\n",
    "\n",
    "ax.set_xticks([p + width/2 for p in pos])\n",
    "\n",
    "plt.legend(['Married', 'Not Married'], loc='upper left')\n",
    "\n",
    "ax.set_xticklabels(['Non-treatment', 'Treatment'])\n",
    "\n",
    "plt.grid(axis='y')\n",
    "plt.show()"
   ]
  },
  {
   "cell_type": "markdown",
   "metadata": {},
   "source": [
    "There is a much bigger share of the treated group which is not married, which can partly be explained by the fact that the treated group is younger."
   ]
  },
  {
   "cell_type": "code",
   "execution_count": null,
   "metadata": {},
   "outputs": [],
   "source": [
    "degree_non_treatment = len(data[(data.treat == 0) & (data.nodegree == 0)])\n",
    "nodegree_non_treatment = non_treatment_count - degree_non_treatment\n",
    "\n",
    "degree_treatment = len(data[(data.treat == 1) & (data.nodegree == 0)])\n",
    "nodegree_treatment = treatment_count - degree_treatment"
   ]
  },
  {
   "cell_type": "code",
   "execution_count": null,
   "metadata": {},
   "outputs": [],
   "source": [
    "width = 1/3 \n",
    "colors = ['#b2182b','#d6604d']\n",
    "fig, ax = plt.subplots(figsize=(20,7))\n",
    "pos = list(range(2))\n",
    "\n",
    "plt.bar(pos, [degree_non_treatment / non_treatment_count, degree_treatment / treatment_count], width, color=colors[0])\n",
    "plt.bar([p + width for p in pos], [nodegree_non_treatment / non_treatment_count, nodegree_treatment / treatment_count], width, color=colors[1])\n",
    "\n",
    "ax.set_ylabel('Degree (%)')\n",
    "\n",
    "ax.set_title('Share of participants who have a degree')\n",
    "\n",
    "ax.set_xticks([p + width/2 for p in pos])\n",
    "\n",
    "plt.legend(['Degree', 'No Degree'], loc='upper left')\n",
    "\n",
    "ax.set_xticklabels(['Non-treatment', 'Treatment'])\n",
    "\n",
    "plt.grid(axis='y')\n",
    "plt.show()"
   ]
  },
  {
   "cell_type": "markdown",
   "metadata": {},
   "source": [
    "There is a small difference between the two groups. There is 10% more people in the treatment group who don't have a degree."
   ]
  },
  {
   "cell_type": "code",
   "execution_count": null,
   "metadata": {
    "scrolled": true
   },
   "outputs": [],
   "source": [
    "re74_non_treatment = data[data.treat == 0][['re74']].values\n",
    "re74_treatment = data[data.treat == 1][['re74']].values\n",
    "\n",
    "plt.boxplot([re74_non_treatment, re74_treatment])\n",
    "plt.xticks([1, 2], ['non-treatment', 'treatment'])\n",
    "plt.show()"
   ]
  },
  {
   "cell_type": "markdown",
   "metadata": {},
   "source": [
    "For the revenue in 1974, a large share of the participants seem to have an income of $0, which seems to indicate that there is missing data."
   ]
  },
  {
   "cell_type": "code",
   "execution_count": null,
   "metadata": {
    "scrolled": true
   },
   "outputs": [],
   "source": [
    "re75_non_treatment = data[data.treat == 0][['re75']].values\n",
    "re75_treatment = data[data.treat == 1][['re75']].values\n",
    "\n",
    "plt.boxplot([re75_non_treatment, re75_treatment])\n",
    "plt.xticks([1, 2], ['non-treatment', 'treatment'])\n",
    "plt.show()"
   ]
  },
  {
   "cell_type": "markdown",
   "metadata": {},
   "source": [
    "The results are similar to the ones for 1974."
   ]
  },
  {
   "cell_type": "code",
   "execution_count": null,
   "metadata": {},
   "outputs": [],
   "source": [
    "from sklearn import linear_model\n",
    "logistic = linear_model.LogisticRegression(max_iter=100, tol=1e-9)"
   ]
  },
  {
   "cell_type": "code",
   "execution_count": null,
   "metadata": {},
   "outputs": [],
   "source": [
    "y = data.treat.values\n",
    "X = data.drop(['id', 'treat', 're78'], axis=1).values\n",
    "X"
   ]
  },
  {
   "cell_type": "code",
   "execution_count": null,
   "metadata": {},
   "outputs": [],
   "source": [
    "logistic.fit(X, y)"
   ]
  },
  {
   "cell_type": "code",
   "execution_count": null,
   "metadata": {},
   "outputs": [],
   "source": [
    "probas = logistic.predict_proba(X)"
   ]
  },
  {
   "cell_type": "code",
   "execution_count": null,
   "metadata": {},
   "outputs": [],
   "source": [
    "score_dfs = pd.concat((pd.DataFrame(probas)[1], data.treat), axis=1).sort_values([1], ascending = False)\n",
    "score_dfs"
   ]
  },
  {
   "cell_type": "code",
   "execution_count": null,
   "metadata": {},
   "outputs": [],
   "source": [
    "matching = []\n",
    "last_matched = False\n",
    "i = 0\n",
    "for index, row in score_dfs.iterrows():\n",
    "    if i != 0:\n",
    "        if not last_matched:\n",
    "            last = score_dfs.iloc[i - 1]\n",
    "            if row.treat != last.treat:\n",
    "                #matching[row.index] = last.index\n",
    "                matching.append((row.name, last.name))\n",
    "                last_matched = True\n",
    "        else:\n",
    "            last_matched = False\n",
    "    i += 1\n",
    "pd.concat((data.loc[pd.DataFrame(matching)[0]]['re78'], data.loc[pd.DataFrame(matching)[1]]['re78']), axis=1)"
   ]
  },
  {
   "cell_type": "code",
   "execution_count": null,
   "metadata": {},
   "outputs": [],
   "source": []
  }
 ],
 "metadata": {
  "kernelspec": {
   "display_name": "Python 3",
   "language": "python",
   "name": "python3"
  },
  "language_info": {
   "codemirror_mode": {
    "name": "ipython",
    "version": 3
   },
   "file_extension": ".py",
   "mimetype": "text/x-python",
   "name": "python",
   "nbconvert_exporter": "python",
   "pygments_lexer": "ipython3",
   "version": "3.6.3"
  }
 },
 "nbformat": 4,
 "nbformat_minor": 2
}
