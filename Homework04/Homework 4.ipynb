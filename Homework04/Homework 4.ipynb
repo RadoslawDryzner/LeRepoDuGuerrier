{
 "cells": [
  {
   "cell_type": "code",
   "execution_count": null,
   "metadata": {},
   "outputs": [],
   "source": [
    "#As always, we import everything\n",
    "import pandas as pd\n",
    "%matplotlib inline\n",
    "import matplotlib.pyplot as plt"
   ]
  },
  {
   "cell_type": "markdown",
   "metadata": {},
   "source": [
    "# Question 1: Propensity score matching"
   ]
  },
  {
   "cell_type": "markdown",
   "metadata": {},
   "source": [
    "First, we define the functions that will help us plot our data later."
   ]
  },
  {
   "cell_type": "code",
   "execution_count": null,
   "metadata": {},
   "outputs": [],
   "source": [
    "def show_hist(data, title, xlabel, ylabel):\n",
    "    plt.hist(data, range=[0, 40000])\n",
    "    plt.title(title)\n",
    "    plt.xlabel(xlabel)\n",
    "    plt.ylabel(ylabel)\n",
    "    plt.show()"
   ]
  },
  {
   "cell_type": "code",
   "execution_count": null,
   "metadata": {},
   "outputs": [],
   "source": [
    "def show_box_plot(data1, data2, legend1, legend2):\n",
    "    plt.boxplot([data1, data2])\n",
    "    plt.xticks([1, 2], [legend1, legend2])\n",
    "    plt.show()"
   ]
  },
  {
   "cell_type": "code",
   "execution_count": null,
   "metadata": {},
   "outputs": [],
   "source": [
    "def show_bar_plots(counts1, total1, counts2, total2, colors, title, ylabel, xlabels, xticklabels):\n",
    "    width = 1/(len(counts1) + 1)\n",
    "    fig, ax = plt.subplots(figsize=(20,7))\n",
    "    pos = list(range(2))\n",
    "\n",
    "    plt.bar(pos, [counts1[0] / total1, counts2[0] / total2], width, color=colors[0])\n",
    "    plt.bar([p + width for p in pos], [counts1[1] / total1, counts2[1] / total2], width, color=colors[1])\n",
    "    if len(counts1) > 2:\n",
    "        plt.bar([p + 2 * width for p in pos], [counts1[2] / total1, counts2[2] / total2], width, color=colors[2])\n",
    "\n",
    "    ax.set_ylabel(ylabel)\n",
    "\n",
    "    ax.set_title(title)\n",
    "\n",
    "    denom = 1 if len(counts1) == 3 else 2\n",
    "    ax.set_xticks([p + width/denom for p in pos])\n",
    "\n",
    "    plt.legend(xlabels, loc='upper left')\n",
    "\n",
    "    ax.set_xticklabels(xticklabels)\n",
    "\n",
    "    plt.grid(axis='y')\n",
    "    plt.show()"
   ]
  },
  {
   "cell_type": "markdown",
   "metadata": {},
   "source": [
    "### 1. A naive analysis"
   ]
  },
  {
   "cell_type": "markdown",
   "metadata": {},
   "source": [
    "We import the LaLonde dataset."
   ]
  },
  {
   "cell_type": "code",
   "execution_count": null,
   "metadata": {
    "scrolled": false
   },
   "outputs": [],
   "source": [
    "data = pd.read_csv('lalonde.csv')\n",
    "data.head()"
   ]
  },
  {
   "cell_type": "code",
   "execution_count": null,
   "metadata": {},
   "outputs": [],
   "source": [
    "data_non_treatment = data[data.treat == 0][['re78']].values\n",
    "data_treatment = data[data.treat == 1][['re78']].values\n",
    "\n",
    "non_treatment_count = len(data_non_treatment)\n",
    "treatment_count = len(data_treatment)"
   ]
  },
  {
   "cell_type": "code",
   "execution_count": null,
   "metadata": {
    "scrolled": true
   },
   "outputs": [],
   "source": [
    "show_hist(data_non_treatment, \"Histogram of revenue for non-treatment\", \"Revenue in 1978\", \"Frequency\")"
   ]
  },
  {
   "cell_type": "code",
   "execution_count": null,
   "metadata": {
    "scrolled": true
   },
   "outputs": [],
   "source": [
    "show_hist(data_treatment, \"Histogram of revenue for treatment\", \"Revenue in 1978\", \"Frequency\")"
   ]
  },
  {
   "cell_type": "code",
   "execution_count": null,
   "metadata": {
    "scrolled": true
   },
   "outputs": [],
   "source": [
    "show_box_plot(data_non_treatment, data_treatment, 'non-treatment', 'treatment')"
   ]
  },
  {
   "cell_type": "markdown",
   "metadata": {},
   "source": [
    "As we can see from those basic histograms and the box plot, the 'treatment' population has a lower income (except for a few outliers).\n",
    "A naïve researcher could conclude that the treatment is not only inneficient, but also diminishes the potential income of the participant."
   ]
  },
  {
   "cell_type": "markdown",
   "metadata": {},
   "source": [
    "### 2. A closer look at the data"
   ]
  },
  {
   "cell_type": "markdown",
   "metadata": {},
   "source": [
    "Now, let's look at each variable to see if there is differences between the two groups."
   ]
  },
  {
   "cell_type": "code",
   "execution_count": null,
   "metadata": {
    "scrolled": true
   },
   "outputs": [],
   "source": [
    "age_non_treatment = data[data.treat == 0][['age']].values\n",
    "age_treatment = data[data.treat == 1][['age']].values\n",
    "\n",
    "show_box_plot(age_non_treatment, age_treatment, 'non-treatment', 'treatment')"
   ]
  },
  {
   "cell_type": "markdown",
   "metadata": {},
   "source": [
    "First, we can see that the treated group is generally younger."
   ]
  },
  {
   "cell_type": "code",
   "execution_count": null,
   "metadata": {
    "scrolled": true
   },
   "outputs": [],
   "source": [
    "educ_non_treatment = data[data.treat == 0][['educ']].values\n",
    "educ_treatment = data[data.treat == 1][['educ']].values\n",
    "\n",
    "show_box_plot(educ_non_treatment, educ_treatment, 'non-treatment', 'treatment')"
   ]
  },
  {
   "cell_type": "markdown",
   "metadata": {},
   "source": [
    "For the education, the two groups are very similar, except for a few outliers."
   ]
  },
  {
   "cell_type": "code",
   "execution_count": null,
   "metadata": {},
   "outputs": [],
   "source": [
    "black_non_treatment = len(data[(data.treat == 0) & (data.black == 1)])\n",
    "hispan_non_treatment = len(data[(data.treat == 0) & (data.hispan == 1)])\n",
    "white_non_treatment = non_treatment_count - black_non_treatment - hispan_non_treatment\n",
    "\n",
    "black_treatment = len(data[(data.treat == 1) & (data.black == 1)])\n",
    "hispan_treatment = len(data[(data.treat == 1) & (data.hispan == 1)])\n",
    "white_treatment = treatment_count - black_treatment - hispan_treatment"
   ]
  },
  {
   "cell_type": "code",
   "execution_count": null,
   "metadata": {},
   "outputs": [],
   "source": [
    "show_bar_plots([black_non_treatment, hispan_non_treatment, white_non_treatment], \n",
    "               non_treatment_count, \n",
    "               [black_treatment, hispan_treatment, white_treatment],\n",
    "               treatment_count,\n",
    "               ['#b2182b','#d6604d','#f0b572'],\n",
    "               'Race of participants',\n",
    "               'Race (%)',\n",
    "               ['Black', 'Hispanic', 'White'],\n",
    "               ['Non-treatment', 'Treatment'])"
   ]
  },
  {
   "cell_type": "markdown",
   "metadata": {},
   "source": [
    "We can see here that there is a huge difference in terms of races in the two groups. The majority of the non-treatment is white, whereas the overwhelming majority of the treatment group is black. This can influence the study as the race in the US has a significant correlation with the socio-economic conditions of the person."
   ]
  },
  {
   "cell_type": "code",
   "execution_count": null,
   "metadata": {},
   "outputs": [],
   "source": [
    "married_non_treatment = len(data[(data.treat == 0) & (data.married == 1)])\n",
    "not_married_non_treatment = non_treatment_count - married_non_treatment\n",
    "\n",
    "married_treatment = len(data[(data.treat == 1) & (data.married == 1)])\n",
    "not_married_treatment = treatment_count - married_treatment"
   ]
  },
  {
   "cell_type": "code",
   "execution_count": null,
   "metadata": {
    "scrolled": false
   },
   "outputs": [],
   "source": [
    "show_bar_plots([married_non_treatment, not_married_non_treatment], \n",
    "               non_treatment_count, \n",
    "               [married_treatment, not_married_treatment],\n",
    "               treatment_count,\n",
    "               ['#b2182b','#d6604d'],\n",
    "               'Marital status of participants',\n",
    "               'Married (%)',\n",
    "               ['Married', 'Not Married'],\n",
    "               ['Non-treatment', 'Treatment'])"
   ]
  },
  {
   "cell_type": "markdown",
   "metadata": {},
   "source": [
    "There is a much bigger share of the treated group which is not married, which can partly be explained by the fact that the treated group is younger."
   ]
  },
  {
   "cell_type": "code",
   "execution_count": null,
   "metadata": {},
   "outputs": [],
   "source": [
    "degree_non_treatment = len(data[(data.treat == 0) & (data.nodegree == 0)])\n",
    "nodegree_non_treatment = non_treatment_count - degree_non_treatment\n",
    "\n",
    "degree_treatment = len(data[(data.treat == 1) & (data.nodegree == 0)])\n",
    "nodegree_treatment = treatment_count - degree_treatment"
   ]
  },
  {
   "cell_type": "code",
   "execution_count": null,
   "metadata": {},
   "outputs": [],
   "source": [
    "show_bar_plots([degree_non_treatment, nodegree_non_treatment], \n",
    "               non_treatment_count, \n",
    "               [degree_treatment, nodegree_treatment],\n",
    "               treatment_count,\n",
    "               ['#b2182b','#d6604d'],\n",
    "               'Share of participants who have a degree',\n",
    "               'Degree (%)',\n",
    "               ['Degree', 'No Degree'],\n",
    "               ['Non-treatment', 'Treatment'])"
   ]
  },
  {
   "cell_type": "markdown",
   "metadata": {},
   "source": [
    "There is a small difference between the two groups. There is 10% more people in the treatment group who don't have a degree."
   ]
  },
  {
   "cell_type": "code",
   "execution_count": null,
   "metadata": {
    "scrolled": true
   },
   "outputs": [],
   "source": [
    "re74_non_treatment = data[data.treat == 0][['re74']].values\n",
    "re74_treatment = data[data.treat == 1][['re74']].values\n",
    "\n",
    "show_box_plot(re74_non_treatment, re74_treatment, 'non-treatment', 'treatment')"
   ]
  },
  {
   "cell_type": "markdown",
   "metadata": {},
   "source": [
    "For the revenue in 1974, a large share of the participants seem to have an income of $0, which indicates that they had no revenue in this year."
   ]
  },
  {
   "cell_type": "code",
   "execution_count": null,
   "metadata": {
    "scrolled": true
   },
   "outputs": [],
   "source": [
    "re75_non_treatment = data[data.treat == 0][['re75']].values\n",
    "re75_treatment = data[data.treat == 1][['re75']].values\n",
    "\n",
    "show_box_plot(re75_non_treatment, re75_treatment, 'non-treatment', 'treatment')"
   ]
  },
  {
   "cell_type": "markdown",
   "metadata": {},
   "source": [
    "The results are similar to the ones for 1974."
   ]
  },
  {
   "cell_type": "markdown",
   "metadata": {},
   "source": [
    "### 3. A propensity score model"
   ]
  },
  {
   "cell_type": "markdown",
   "metadata": {},
   "source": [
    "Lets start by importing `sklearn` and making preparing for logistic regression. We decrese the tolerance threshold for better convergence after testing several values."
   ]
  },
  {
   "cell_type": "code",
   "execution_count": null,
   "metadata": {},
   "outputs": [],
   "source": [
    "from sklearn import linear_model\n",
    "logistic = linear_model.LogisticRegression(max_iter=100, tol=1e-9)"
   ]
  },
  {
   "cell_type": "markdown",
   "metadata": {},
   "source": [
    "To obtain the propensity scores, we need to fit our data with logistic regression. For this, we obtain the samples of our model directly from the data but remove the unnecessary columns such as the treatment, the ID and the revenue in 1978. The ID is useless while the treatment is the prediction and we actually use it as our prediction and 1978 is post experience data that we don't want to have in our fitting."
   ]
  },
  {
   "cell_type": "code",
   "execution_count": null,
   "metadata": {},
   "outputs": [],
   "source": [
    "y = data.treat.values\n",
    "X = data.drop(['id', 'treat', 're78'], axis=1).values"
   ]
  },
  {
   "cell_type": "markdown",
   "metadata": {},
   "source": [
    "Now we simply fit a model with our data and logistic regression."
   ]
  },
  {
   "cell_type": "code",
   "execution_count": null,
   "metadata": {},
   "outputs": [],
   "source": [
    "logistic.fit(X, y)"
   ]
  },
  {
   "cell_type": "markdown",
   "metadata": {},
   "source": [
    "We define the propensity score as the probabilty that a sample is predicted to be in the treated group and obtain these probabilities with the following call."
   ]
  },
  {
   "cell_type": "code",
   "execution_count": null,
   "metadata": {},
   "outputs": [],
   "source": [
    "probas = logistic.predict_proba(X)"
   ]
  },
  {
   "cell_type": "markdown",
   "metadata": {},
   "source": [
    "Now we prepare a dataframe that will hold relevant information for later. The index is the same as in the original data and we have the probabilities obtained above. We keep the treatment information to separate them later. We also add the race information for the last part of the exercise."
   ]
  },
  {
   "cell_type": "code",
   "execution_count": null,
   "metadata": {},
   "outputs": [],
   "source": [
    "score_dfs = pd.concat((pd.DataFrame(probas)[1], data.treat, data.black, data.hispan), axis=1).sort_values([1], ascending = False)"
   ]
  },
  {
   "cell_type": "markdown",
   "metadata": {},
   "source": [
    "### 4. Balancing the dataset via matching"
   ]
  },
  {
   "cell_type": "markdown",
   "metadata": {},
   "source": [
    "Now we will match data points according to the propensity scores. For this we use `networkx` python package. We construct a bipartite graph where each node represents a data point. Each node that represents a treated person has an edge to all the nodes that represent non-treated people."
   ]
  },
  {
   "cell_type": "code",
   "execution_count": null,
   "metadata": {},
   "outputs": [],
   "source": [
    "import networkx as nx\n",
    "\n",
    "g = nx.Graph()\n",
    "score_dfs_treated = score_dfs[score_dfs.treat == 1]\n",
    "scode_dfs_non_treated = score_dfs[score_dfs.treat == 0]\n",
    "\n",
    "for i, r in score_dfs_treated.iterrows():\n",
    "    for j, q in scode_dfs_non_treated.iterrows():\n",
    "        g.add_edge(r.name, q.name, weight=1 - abs(r[1] - q[1]))"
   ]
  },
  {
   "cell_type": "markdown",
   "metadata": {},
   "source": [
    "Now we do a max weight matching. The weights of edges are defined as 1 minus the absolute value of the difference of the two propensity scores of the edges. This way, max weight matching will find a matching of pairs between the two categories that minimizes the sum of the differences between the propensity scores of each pair."
   ]
  },
  {
   "cell_type": "code",
   "execution_count": null,
   "metadata": {},
   "outputs": [],
   "source": [
    "matching = nx.max_weight_matching(g)"
   ]
  },
  {
   "cell_type": "markdown",
   "metadata": {},
   "source": [
    "After obtaining the matching, we simply get the data that corresponds to it."
   ]
  },
  {
   "cell_type": "code",
   "execution_count": null,
   "metadata": {},
   "outputs": [],
   "source": [
    "matched = data.loc[list(matching.keys())]\n",
    "non_treat_matched = matched[matched.treat == 0]\n",
    "treat_matched = matched[matched.treat == 1]"
   ]
  },
  {
   "cell_type": "markdown",
   "metadata": {},
   "source": [
    "Now let's look at the data for revenues after the experiment."
   ]
  },
  {
   "cell_type": "code",
   "execution_count": null,
   "metadata": {},
   "outputs": [],
   "source": [
    "matched_non_treatment = non_treat_matched[['re78']].values\n",
    "matched_data_treatment = treat_matched[['re78']].values\n",
    "\n",
    "non_treatment_count = len(matched_non_treatment)\n",
    "treatment_count = len(matched_data_treatment)"
   ]
  },
  {
   "cell_type": "code",
   "execution_count": null,
   "metadata": {
    "scrolled": true
   },
   "outputs": [],
   "source": [
    "show_hist(matched_non_treatment, \"Histogram of revenue for non-treatment\", \"Revenue in 1978\", \"Frequency\")"
   ]
  },
  {
   "cell_type": "code",
   "execution_count": null,
   "metadata": {
    "scrolled": true
   },
   "outputs": [],
   "source": [
    "show_hist(matched_data_treatment, \"Histogram of revenue for non-treatment\", \"Revenue in 1978\", \"Frequency\")"
   ]
  },
  {
   "cell_type": "code",
   "execution_count": null,
   "metadata": {},
   "outputs": [],
   "source": [
    "show_box_plot(matched_non_treatment, matched_data_treatment, 'non-treatment', 'treatment')"
   ]
  },
  {
   "cell_type": "markdown",
   "metadata": {},
   "source": [
    "Looking at these plots, we see that the \"treatment\" population has a very slightly higher income than the non-treatment population. The conclusion now would be that the treatment is slighly efficient at increasing income of the treated people."
   ]
  },
  {
   "cell_type": "markdown",
   "metadata": {},
   "source": [
    "Now lets look at each feature again to see if our matching is good. Ideally, no or very little difference between the two population should be present."
   ]
  },
  {
   "cell_type": "code",
   "execution_count": null,
   "metadata": {},
   "outputs": [],
   "source": [
    "age_non_treatment = non_treat_matched[['age']].values\n",
    "age_treatment = treat_matched[['age']].values\n",
    "\n",
    "show_box_plot(age_non_treatment, age_treatment, 'non-treatment', 'treatment')"
   ]
  },
  {
   "cell_type": "markdown",
   "metadata": {},
   "source": [
    "This time, we can see that the two population have generally a much more similar age than before, although there is still a slight difference that is the opposite from before: treated population seem to be generally slighlty older."
   ]
  },
  {
   "cell_type": "code",
   "execution_count": null,
   "metadata": {},
   "outputs": [],
   "source": [
    "educ_non_treatment = non_treat_matched[['educ']].values\n",
    "educ_treatment = treat_matched[['educ']].values\n",
    "\n",
    "show_box_plot(educ_non_treatment, educ_treatment, 'non-treatment', 'treatment')"
   ]
  },
  {
   "cell_type": "markdown",
   "metadata": {},
   "source": [
    "When it comes to the education, we can see that the two groups are still very similiar just like before and that a few outliers from before are removed."
   ]
  },
  {
   "cell_type": "code",
   "execution_count": null,
   "metadata": {},
   "outputs": [],
   "source": [
    "black_non_treatment = len(non_treat_matched[non_treat_matched.black == 1])\n",
    "hispan_non_treatment = len(non_treat_matched[non_treat_matched.hispan == 1])\n",
    "white_non_treatment = non_treatment_count - black_non_treatment - hispan_non_treatment\n",
    "\n",
    "black_treatment = len(treat_matched[treat_matched.black == 1])\n",
    "hispan_treatment = len(treat_matched[treat_matched.hispan == 1])\n",
    "white_treatment = treatment_count - black_treatment - hispan_treatment"
   ]
  },
  {
   "cell_type": "code",
   "execution_count": null,
   "metadata": {},
   "outputs": [],
   "source": [
    "show_bar_plots([black_non_treatment, hispan_non_treatment, white_non_treatment], \n",
    "               non_treatment_count, \n",
    "               [black_treatment, hispan_treatment, white_treatment],\n",
    "               treatment_count,\n",
    "               ['#b2182b','#d6604d','#f0b572'],\n",
    "               'Race of participants',\n",
    "               'Race (%)',\n",
    "               ['Black', 'Hispanic', 'White'],\n",
    "               ['Non-treatment', 'Treatment'])"
   ]
  },
  {
   "cell_type": "markdown",
   "metadata": {},
   "source": [
    "For the race feature, we can still see a very large difference. The treated population looks just like before and while the non-treated group is a bit more similar with less while people and more black people, the difference is still very large."
   ]
  },
  {
   "cell_type": "code",
   "execution_count": null,
   "metadata": {},
   "outputs": [],
   "source": [
    "married_non_treatment = len(non_treat_matched[non_treat_matched.married == 1])\n",
    "not_married_non_treatment = non_treatment_count - married_non_treatment\n",
    "\n",
    "married_treatment = len(treat_matched[treat_matched.married == 1])\n",
    "not_married_treatment = treatment_count - married_treatment"
   ]
  },
  {
   "cell_type": "code",
   "execution_count": null,
   "metadata": {
    "scrolled": true
   },
   "outputs": [],
   "source": [
    "show_bar_plots([married_non_treatment, not_married_non_treatment], \n",
    "               non_treatment_count, \n",
    "               [married_treatment, not_married_treatment],\n",
    "               treatment_count,\n",
    "               ['#b2182b','#d6604d'],\n",
    "               'Marital status of participants',\n",
    "               'Married (%)',\n",
    "               ['Married', 'Not Married'],\n",
    "               ['Non-treatment', 'Treatment'])"
   ]
  },
  {
   "cell_type": "markdown",
   "metadata": {},
   "source": [
    "For the martial status, we see a clear improvement from before with the two population being roughly the same now."
   ]
  },
  {
   "cell_type": "code",
   "execution_count": null,
   "metadata": {},
   "outputs": [],
   "source": [
    "degree_non_treatment = len(non_treat_matched[non_treat_matched.nodegree == 0])\n",
    "nodegree_non_treatment = non_treatment_count - degree_non_treatment\n",
    "\n",
    "degree_treatment = len(treat_matched[treat_matched.nodegree == 0])\n",
    "nodegree_treatment = treatment_count - degree_treatment"
   ]
  },
  {
   "cell_type": "code",
   "execution_count": null,
   "metadata": {},
   "outputs": [],
   "source": [
    "show_bar_plots([degree_non_treatment, nodegree_non_treatment], \n",
    "               non_treatment_count, \n",
    "               [degree_treatment, nodegree_treatment],\n",
    "               treatment_count,\n",
    "               ['#b2182b','#d6604d'],\n",
    "               'Share of participants who have a degree',\n",
    "               'Degree (%)',\n",
    "               ['Degree', 'No Degree'],\n",
    "               ['Non-treatment', 'Treatment'])"
   ]
  },
  {
   "cell_type": "markdown",
   "metadata": {},
   "source": [
    "For the share of people with a degree, there is a slight improvement over the already rather good matching from before."
   ]
  },
  {
   "cell_type": "code",
   "execution_count": null,
   "metadata": {},
   "outputs": [],
   "source": [
    "re74_non_treatment = non_treat_matched[['re74']].values\n",
    "re74_treatment = treat_matched[['re74']].values\n",
    "\n",
    "show_box_plot(re74_non_treatment, re74_treatment, 'non-treatment', 'treatment')"
   ]
  },
  {
   "cell_type": "markdown",
   "metadata": {},
   "source": [
    "The improvement for the revenue in 1974 is also present and now, the two populations seem to be very well matched in terms of this feature."
   ]
  },
  {
   "cell_type": "code",
   "execution_count": null,
   "metadata": {},
   "outputs": [],
   "source": [
    "re75_non_treatment = non_treat_matched[['re75']].values\n",
    "re75_treatment = treat_matched[['re75']].values\n",
    "\n",
    "show_box_plot(re75_non_treatment, re75_treatment, 'non-treatment', 'treatment')"
   ]
  },
  {
   "cell_type": "markdown",
   "metadata": {},
   "source": [
    "Just like for 1974, a large improvement can be observed."
   ]
  },
  {
   "cell_type": "markdown",
   "metadata": {},
   "source": [
    "We can see that in general, we have a much better matching now and the conclusions we can take from the data will be much more accurate now. While  each feature doesn't match exactly between the two populations, it does so much better than before for all features except the race."
   ]
  },
  {
   "cell_type": "markdown",
   "metadata": {},
   "source": [
    "### 5. Balancing the groups further"
   ]
  },
  {
   "cell_type": "markdown",
   "metadata": {},
   "source": [
    "Unfortunately, the race feature, still having a very large difference between the two populations, makes this matching not satisfying enough. To make the dataset more balanced, we would need to match this feature better than before. If we could obtain a much better matching for the race feature, the balanced dataset could give us the best insights as to the effectiveness of the treatment."
   ]
  },
  {
   "cell_type": "markdown",
   "metadata": {},
   "source": [
    "For this reason, we will match the populations again but now explicitly match individuals with the same race, but otherwise using the same graph technique as before."
   ]
  },
  {
   "cell_type": "code",
   "execution_count": null,
   "metadata": {},
   "outputs": [],
   "source": [
    "g = nx.Graph()\n",
    "score_dfs_treated = score_dfs[score_dfs.treat == 1]\n",
    "scode_dfs_non_treated = score_dfs[score_dfs.treat == 0]\n",
    "\n",
    "for i, r in score_dfs_treated.iterrows():\n",
    "    for j, q in scode_dfs_non_treated.iterrows():\n",
    "        if r.black == q.black and r.hispan == q.hispan:\n",
    "            g.add_edge(r.name, q.name, weight=1 - abs(r[1] - q[1]))"
   ]
  },
  {
   "cell_type": "code",
   "execution_count": null,
   "metadata": {},
   "outputs": [],
   "source": [
    "matching = nx.max_weight_matching(g)"
   ]
  },
  {
   "cell_type": "code",
   "execution_count": null,
   "metadata": {},
   "outputs": [],
   "source": [
    "matched = data.loc[list(matching.keys())]\n",
    "non_treat_rematched = matched[matched.treat == 0]\n",
    "treat_rematched = matched[matched.treat == 1]"
   ]
  },
  {
   "cell_type": "markdown",
   "metadata": {},
   "source": [
    "We can now verify that the race feature is well balanced."
   ]
  },
  {
   "cell_type": "code",
   "execution_count": null,
   "metadata": {},
   "outputs": [],
   "source": [
    "black_non_treatment = len(non_treat_rematched[non_treat_rematched.black == 1])\n",
    "hispan_non_treatment = len(non_treat_rematched[non_treat_rematched.hispan == 1])\n",
    "white_non_treatment = non_treatment_count - black_non_treatment - hispan_non_treatment\n",
    "\n",
    "black_treatment = len(treat_rematched[treat_rematched.black == 1])\n",
    "hispan_treatment = len(treat_rematched[treat_rematched.hispan == 1])\n",
    "white_treatment = treatment_count - black_treatment - hispan_treatment"
   ]
  },
  {
   "cell_type": "code",
   "execution_count": null,
   "metadata": {},
   "outputs": [],
   "source": [
    "show_bar_plots([black_non_treatment, hispan_non_treatment, white_non_treatment], \n",
    "               non_treatment_count, \n",
    "               [black_treatment, hispan_treatment, white_treatment],\n",
    "               treatment_count,\n",
    "               ['#b2182b','#d6604d','#f0b572'],\n",
    "               'Race of participants',\n",
    "               'Race (%)',\n",
    "               ['Black', 'Hispanic', 'White'],\n",
    "               ['Non-treatment', 'Treatment'])"
   ]
  },
  {
   "cell_type": "markdown",
   "metadata": {},
   "source": [
    "Indeed, since we did the exact matching on the race, the two populations now are exactly the same when it comes to this feature."
   ]
  },
  {
   "cell_type": "markdown",
   "metadata": {},
   "source": [
    "Now to make sure our matching is balanced for the other features as well, let's again see the distributions for each feature."
   ]
  },
  {
   "cell_type": "code",
   "execution_count": null,
   "metadata": {},
   "outputs": [],
   "source": [
    "age_non_treatment = non_treat_rematched[['age']].values\n",
    "age_treatment = treat_rematched[['age']].values\n",
    "\n",
    "show_box_plot(age_non_treatment, age_treatment, 'non-treatment', 'treatment')"
   ]
  },
  {
   "cell_type": "markdown",
   "metadata": {},
   "source": [
    "For the age, we can see a difference from before. In fact, this feature seems to be a bit less balanced now although the numbers are still pretty similar between the two populations."
   ]
  },
  {
   "cell_type": "code",
   "execution_count": null,
   "metadata": {},
   "outputs": [],
   "source": [
    "educ_non_treatment = non_treat_rematched[['educ']].values\n",
    "educ_treatment = treat_rematched[['educ']].values\n",
    "\n",
    "show_box_plot(educ_non_treatment, educ_treatment, 'non-treatment', 'treatment')"
   ]
  },
  {
   "cell_type": "markdown",
   "metadata": {},
   "source": [
    "Education level remains very similar."
   ]
  },
  {
   "cell_type": "code",
   "execution_count": null,
   "metadata": {},
   "outputs": [],
   "source": [
    "married_non_treatment = len(non_treat_rematched[non_treat_rematched.married == 1])\n",
    "not_married_non_treatment = non_treatment_count - married_non_treatment\n",
    "\n",
    "married_treatment = len(treat_rematched[treat_rematched.married == 1])\n",
    "not_married_treatment = treatment_count - married_treatment"
   ]
  },
  {
   "cell_type": "code",
   "execution_count": null,
   "metadata": {
    "scrolled": true
   },
   "outputs": [],
   "source": [
    "show_bar_plots([married_non_treatment, not_married_non_treatment], \n",
    "               non_treatment_count, \n",
    "               [married_treatment, not_married_treatment],\n",
    "               treatment_count,\n",
    "               ['#b2182b','#d6604d'],\n",
    "               'Marital status of participants',\n",
    "               'Married (%)',\n",
    "               ['Married', 'Not Married'],\n",
    "               ['Non-treatment', 'Treatment'])"
   ]
  },
  {
   "cell_type": "markdown",
   "metadata": {},
   "source": [
    "Martial status of the two population is still very well balanced."
   ]
  },
  {
   "cell_type": "code",
   "execution_count": null,
   "metadata": {},
   "outputs": [],
   "source": [
    "degree_non_treatment = len(non_treat_rematched[non_treat_rematched.nodegree == 0])\n",
    "nodegree_non_treatment = non_treatment_count - degree_non_treatment\n",
    "\n",
    "degree_treatment = len(treat_rematched[treat_rematched.nodegree == 0])\n",
    "nodegree_treatment = treatment_count - degree_treatment"
   ]
  },
  {
   "cell_type": "code",
   "execution_count": null,
   "metadata": {},
   "outputs": [],
   "source": [
    "show_bar_plots([degree_non_treatment, nodegree_non_treatment], \n",
    "               non_treatment_count, \n",
    "               [degree_treatment, nodegree_treatment],\n",
    "               treatment_count,\n",
    "               ['#b2182b','#d6604d'],\n",
    "               'Share of participants who have a degree',\n",
    "               'Degree (%)',\n",
    "               ['Degree', 'No Degree'],\n",
    "               ['Non-treatment', 'Treatment'])"
   ]
  },
  {
   "cell_type": "markdown",
   "metadata": {},
   "source": [
    "The share of people with a degree experienced a slight improvement in balance from the last matching."
   ]
  },
  {
   "cell_type": "code",
   "execution_count": null,
   "metadata": {},
   "outputs": [],
   "source": [
    "re74_non_treatment = non_treat_rematched[['re74']].values\n",
    "re74_treatment = treat_rematched[['re74']].values\n",
    "\n",
    "show_box_plot(re74_non_treatment, re74_treatment, 'non-treatment', 'treatment')"
   ]
  },
  {
   "cell_type": "markdown",
   "metadata": {},
   "source": [
    "Revenue in 1974 is very well balanced now just like before."
   ]
  },
  {
   "cell_type": "code",
   "execution_count": null,
   "metadata": {
    "scrolled": true
   },
   "outputs": [],
   "source": [
    "re75_non_treatment = non_treat_rematched[['re75']].values\n",
    "re75_treatment = treat_rematched[['re75']].values\n",
    "\n",
    "show_box_plot(re75_non_treatment, re75_treatment, 'non-treatment', 'treatment')"
   ]
  },
  {
   "cell_type": "markdown",
   "metadata": {},
   "source": [
    "The revenue in 1975 is a bit less balanced than before although the figures are still very similar."
   ]
  },
  {
   "cell_type": "markdown",
   "metadata": {},
   "source": [
    "After looking at the distributions for each variable, we can consider that this matching is well balanced and in fact more so than the first matching. While some of the features such as the age and the revenue in 1974 are slighly less balanced, the huge improvement in the race feature is a very considerable tradeoff. This feature was exetremly different in the first matching and now it is exactly matched. For this reason, we can have much more accurate conclusions from the data than from the first matching and especially than when no matching was applied."
   ]
  },
  {
   "cell_type": "markdown",
   "metadata": {},
   "source": [
    "### 6. A less naive analysis"
   ]
  },
  {
   "cell_type": "code",
   "execution_count": null,
   "metadata": {},
   "outputs": [],
   "source": [
    "matched_non_treatment = non_treat_rematched[['re78']].values\n",
    "matched_data_treatment = treat_rematched[['re78']].values\n",
    "\n",
    "non_treatment_count = len(matched_non_treatment)\n",
    "treatment_count = len(matched_data_treatment)"
   ]
  },
  {
   "cell_type": "code",
   "execution_count": null,
   "metadata": {
    "scrolled": true
   },
   "outputs": [],
   "source": [
    "show_hist(matched_non_treatment, \"Histogram of revenue for non-treatment\", \"Revenue in 1978\", \"Frequency\")"
   ]
  },
  {
   "cell_type": "code",
   "execution_count": null,
   "metadata": {
    "scrolled": true
   },
   "outputs": [],
   "source": [
    "show_hist(matched_data_treatment, \"Histogram of revenue for non-treatment\", \"Revenue in 1978\", \"Frequency\")"
   ]
  },
  {
   "cell_type": "code",
   "execution_count": null,
   "metadata": {},
   "outputs": [],
   "source": [
    "show_box_plot(matched_non_treatment, matched_data_treatment, 'non-treatment', 'treatment')"
   ]
  },
  {
   "cell_type": "markdown",
   "metadata": {},
   "source": [
    "And in fact, we can now see that the difference in the revenue in 1978 is considerable. The treatment population have, in general, a better revenue in that year than the non-treated group. The difference is much larger than when we haven't matched or in the first matching.\n",
    "\n",
    "From this we can conclude that the training program is effective at improving the revenue of people that take the program."
   ]
  },
  {
   "cell_type": "markdown",
   "metadata": {},
   "source": [
    "# Question 2: Applied ML"
   ]
  },
  {
   "cell_type": "code",
   "execution_count": null,
   "metadata": {},
   "outputs": [],
   "source": [
    "from sklearn.feature_extraction.text import TfidfVectorizer\n",
    "from sklearn.datasets import fetch_20newsgroups\n",
    "from sklearn.model_selection import GridSearchCV\n",
    "from sklearn.ensemble import RandomForestClassifier\n",
    "import numpy as np"
   ]
  },
  {
   "cell_type": "markdown",
   "metadata": {},
   "source": [
    "We begin by fetching the 20 NewsGroups data. Since we need to split the data manually into train, test and validation sets, we fetch the whole dataset."
   ]
  },
  {
   "cell_type": "code",
   "execution_count": null,
   "metadata": {},
   "outputs": [],
   "source": [
    "newsgroups_train = fetch_20newsgroups(subset='all')"
   ]
  },
  {
   "cell_type": "markdown",
   "metadata": {},
   "source": [
    "Next we use the `TfidfVectorizer` to vectorize the data."
   ]
  },
  {
   "cell_type": "code",
   "execution_count": null,
   "metadata": {},
   "outputs": [],
   "source": [
    "vectorizer = TfidfVectorizer()\n",
    "vectors = vectorizer.fit_transform(newsgroups_train.data)"
   ]
  },
  {
   "cell_type": "markdown",
   "metadata": {},
   "source": [
    "Since we want to manually split the data into three sets, we generate the row indices of our matrix and shuffle them so that our sets are random. Then we take 10% for testing, 10% for validation and the remaining for training."
   ]
  },
  {
   "cell_type": "code",
   "execution_count": null,
   "metadata": {},
   "outputs": [],
   "source": [
    "randIndex = np.arange(vectors.shape[0])"
   ]
  },
  {
   "cell_type": "code",
   "execution_count": null,
   "metadata": {},
   "outputs": [],
   "source": [
    "np.random.shuffle(randIndex)"
   ]
  },
  {
   "cell_type": "code",
   "execution_count": null,
   "metadata": {},
   "outputs": [],
   "source": [
    "test_indices = randIndex[:int(vectors.shape[0] / 10)]\n",
    "validation_indices = randIndex[int(vectors.shape[0] / 10) : 2 * int(vectors.shape[0] / 10)]\n",
    "train_indices = randIndex[2 * int(vectors.shape[0] / 10):]"
   ]
  },
  {
   "cell_type": "code",
   "execution_count": null,
   "metadata": {},
   "outputs": [],
   "source": [
    "test = vectors[test_indices]\n",
    "validation = vectors[validation_indices]\n",
    "train = vectors[train_indices]"
   ]
  },
  {
   "cell_type": "markdown",
   "metadata": {},
   "source": [
    "We have to keep the information about the labels of the data since we lost it after the vectorization. So in the same way we take the test, validation and training labels from the original date. These vectors are simply indices to the categories array in `newsgroup_train.target_names`."
   ]
  },
  {
   "cell_type": "code",
   "execution_count": null,
   "metadata": {},
   "outputs": [],
   "source": [
    "test_target = newsgroups_train.target[test_indices]\n",
    "validation_target = newsgroups_train.target[validation_indices]\n",
    "train_target = newsgroups_train.target[train_indices]"
   ]
  },
  {
   "cell_type": "markdown",
   "metadata": {},
   "source": [
    "Next we do a grid search over the parameters. The bounds of the ranges of the parameters have been found by manually trying a few values. Moreover we don't recompute this value each time we run the notebook because it takes a very long time but still need to do a single iteration to obtain the best classifier."
   ]
  },
  {
   "cell_type": "code",
   "execution_count": null,
   "metadata": {},
   "outputs": [],
   "source": [
    "#n_estimatorss = list(range(1000, 501, 50))\n",
    "#max_depths = list(range(20, 40))\n",
    "#max_depths.append(None)\n",
    "n_estimatorss = [500]\n",
    "max_depths = [None]"
   ]
  },
  {
   "cell_type": "code",
   "execution_count": null,
   "metadata": {},
   "outputs": [],
   "source": [
    "best_score = 0\n",
    "best_clf = None\n",
    "for n_estimators in n_estimatorss:\n",
    "    for max_depth in max_depths:\n",
    "        clf = RandomForestClassifier(n_estimators=n_estimators, max_depth=max_depth)\n",
    "        clf = clf.fit(train, train_target)\n",
    "        score = clf.score(validation, validation_target)\n",
    "        if score > best_score:\n",
    "            best_score = score\n",
    "            best_clf = clf\n",
    "        print(n_estimators, max_depth, score)"
   ]
  },
  {
   "cell_type": "markdown",
   "metadata": {},
   "source": [
    "As you can see, the best estimator has a score of XX which is the accuracy of the model on the validation set."
   ]
  },
  {
   "cell_type": "markdown",
   "metadata": {},
   "source": [
    "Next we predict the values of the testing set. Now, we have the predicted labels of the testing samples and the actual labels of the testing samples. So we can construct the confusion matrix simply by iterating over the predicted labels and incrementing the values in the matrix depending on the predicted and actual labels."
   ]
  },
  {
   "cell_type": "code",
   "execution_count": null,
   "metadata": {},
   "outputs": [],
   "source": [
    "y_pred = best_clf.predict(test)"
   ]
  },
  {
   "cell_type": "code",
   "execution_count": null,
   "metadata": {},
   "outputs": [],
   "source": [
    "dim = len(newsgroups_train.target_names)\n",
    "confusion_matrix = np.zeros((dim, dim))"
   ]
  },
  {
   "cell_type": "code",
   "execution_count": null,
   "metadata": {},
   "outputs": [],
   "source": [
    "for i in range(y_pred.shape[0]):\n",
    "    predicted = y_pred[i]\n",
    "    actual = test_target[i]\n",
    "    confusion_matrix[predicted, actual] += 1"
   ]
  },
  {
   "cell_type": "markdown",
   "metadata": {},
   "source": [
    "Next we display the resulting confusion matrix."
   ]
  },
  {
   "cell_type": "code",
   "execution_count": null,
   "metadata": {},
   "outputs": [],
   "source": [
    "pd.DataFrame(confusion_matrix, dtype=int, columns=newsgroups_train.target_names, index=newsgroups_train.target_names)"
   ]
  },
  {
   "cell_type": "markdown",
   "metadata": {},
   "source": [
    "We can see that most of the values in the matrix are on the diagonal. This is normal because after all, our classifier had an accuracy of XX which means that it should classify most samples in the correct way. The matrix further confirms it."
   ]
  }
 ],
 "metadata": {
  "kernelspec": {
   "display_name": "Python 3",
   "language": "python",
   "name": "python3"
  },
  "language_info": {
   "codemirror_mode": {
    "name": "ipython",
    "version": 3
   },
   "file_extension": ".py",
   "mimetype": "text/x-python",
   "name": "python",
   "nbconvert_exporter": "python",
   "pygments_lexer": "ipython3",
   "version": "3.5.2"
  }
 },
 "nbformat": 4,
 "nbformat_minor": 2
}
