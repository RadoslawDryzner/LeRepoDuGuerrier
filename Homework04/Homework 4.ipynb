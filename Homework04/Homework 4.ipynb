{
 "cells": [
  {
   "cell_type": "code",
   "execution_count": null,
   "metadata": {},
   "outputs": [],
   "source": [
    "#As always, we import everything\n",
    "import pandas as pd\n",
    "%matplotlib inline\n",
    "import matplotlib.pyplot as plt"
   ]
  },
  {
   "cell_type": "code",
   "execution_count": null,
   "metadata": {},
   "outputs": [],
   "source": [
    "def show_hist(data, title, xlabel, ylabel):\n",
    "    plt.hist(data, range=[0, 40000])\n",
    "    plt.title(title)\n",
    "    plt.xlabel(xlabel)\n",
    "    plt.ylabel(ylabel)\n",
    "    plt.show()"
   ]
  },
  {
   "cell_type": "code",
   "execution_count": null,
   "metadata": {},
   "outputs": [],
   "source": [
    "def show_box_plot(data1, data2, legend1, legend2):\n",
    "    plt.boxplot([data1, data2])\n",
    "    plt.xticks([1, 2], [legend1, legend2])\n",
    "    plt.show()"
   ]
  },
  {
   "cell_type": "code",
   "execution_count": null,
   "metadata": {},
   "outputs": [],
   "source": [
    "def show_bar_plots(counts1, total1, counts2, total2, colors, title, ylabel, xlabels, xticklabels):\n",
    "    width = 1/(len(counts1) + 1)\n",
    "    fig, ax = plt.subplots(figsize=(20,7))\n",
    "    pos = list(range(2))\n",
    "\n",
    "    plt.bar(pos, [counts1[0] / total1, counts2[0] / total2], width, color=colors[0])\n",
    "    plt.bar([p + width for p in pos], [counts1[1] / total1, counts2[1] / total2], width, color=colors[1])\n",
    "    if len(counts1) > 2:\n",
    "        plt.bar([p + 2 * width for p in pos], [counts1[2] / total1, counts2[2] / total2], width, color=colors[2])\n",
    "\n",
    "    ax.set_ylabel(ylabel)\n",
    "\n",
    "    ax.set_title(title)\n",
    "\n",
    "    denom = 1 if len(counts1) == 3 else 2\n",
    "    ax.set_xticks([p + width/denom for p in pos])\n",
    "\n",
    "    plt.legend(xlabels, loc='upper left')\n",
    "\n",
    "    ax.set_xticklabels(xticklabels)\n",
    "\n",
    "    plt.grid(axis='y')\n",
    "    plt.show()"
   ]
  },
  {
   "cell_type": "markdown",
   "metadata": {},
   "source": [
    "### 1. A naive analysis"
   ]
  },
  {
   "cell_type": "code",
   "execution_count": null,
   "metadata": {
    "scrolled": false
   },
   "outputs": [],
   "source": [
    "data = pd.read_csv('lalonde.csv')\n",
    "data"
   ]
  },
  {
   "cell_type": "code",
   "execution_count": null,
   "metadata": {},
   "outputs": [],
   "source": [
    "data_non_treatment = data[data.treat == 0][['re78']].values\n",
    "data_treatment = data[data.treat == 1][['re78']].values\n",
    "\n",
    "non_treatment_count = len(data_non_treatment)\n",
    "treatment_count = len(data_treatment)"
   ]
  },
  {
   "cell_type": "code",
   "execution_count": null,
   "metadata": {
    "scrolled": true
   },
   "outputs": [],
   "source": [
    "show_hist(data_non_treatment, \"Histogram of revenue for non-treatment\", \"Revenue in 1978\", \"Frequency\")"
   ]
  },
  {
   "cell_type": "code",
   "execution_count": null,
   "metadata": {
    "scrolled": true
   },
   "outputs": [],
   "source": [
    "show_hist(data_non_treatment, \"Histogram of revenue for treatment\", \"Revenue in 1978\", \"Frequency\")"
   ]
  },
  {
   "cell_type": "code",
   "execution_count": null,
   "metadata": {
    "scrolled": true
   },
   "outputs": [],
   "source": [
    "show_box_plot(data_non_treatment, data_treatment, 'non-treatment', 'treatment')"
   ]
  },
  {
   "cell_type": "markdown",
   "metadata": {},
   "source": [
    "As we can see from those basic histograms and the box plot, the 'treatment' population has a lower income (except for a few outliers).\n",
    "A naïve researcher could conclude that the treatment is not only inneficient, but also diminishes the potential income of the participant."
   ]
  },
  {
   "cell_type": "markdown",
   "metadata": {},
   "source": [
    "### 2. A closer look at the data"
   ]
  },
  {
   "cell_type": "markdown",
   "metadata": {},
   "source": [
    "Now, let's look at each variable to see if there is differences between the two groups."
   ]
  },
  {
   "cell_type": "code",
   "execution_count": null,
   "metadata": {
    "scrolled": true
   },
   "outputs": [],
   "source": [
    "age_non_treatment = data[data.treat == 0][['age']].values\n",
    "age_treatment = data[data.treat == 1][['age']].values\n",
    "\n",
    "show_box_plot(age_non_treatment, age_treatment, 'non-treatment', 'treatment')"
   ]
  },
  {
   "cell_type": "markdown",
   "metadata": {},
   "source": [
    "First, we can see that the treated group is generally younger."
   ]
  },
  {
   "cell_type": "code",
   "execution_count": null,
   "metadata": {
    "scrolled": true
   },
   "outputs": [],
   "source": [
    "educ_non_treatment = data[data.treat == 0][['educ']].values\n",
    "educ_treatment = data[data.treat == 1][['educ']].values\n",
    "\n",
    "show_box_plot(educ_non_treatment, educ_treatment, 'non-treatment', 'treatment')"
   ]
  },
  {
   "cell_type": "markdown",
   "metadata": {},
   "source": [
    "For the education, the two groups are very similar, except for a few outliers."
   ]
  },
  {
   "cell_type": "code",
   "execution_count": null,
   "metadata": {},
   "outputs": [],
   "source": [
    "black_non_treatment = len(data[(data.treat == 0) & (data.black == 1)])\n",
    "hispan_non_treatment = len(data[(data.treat == 0) & (data.hispan == 1)])\n",
    "white_non_treatment = non_treatment_count - black_non_treatment - hispan_non_treatment\n",
    "\n",
    "black_treatment = len(data[(data.treat == 1) & (data.black == 1)])\n",
    "hispan_treatment = len(data[(data.treat == 1) & (data.hispan == 1)])\n",
    "white_treatment = treatment_count - black_treatment - hispan_treatment"
   ]
  },
  {
   "cell_type": "code",
   "execution_count": null,
   "metadata": {},
   "outputs": [],
   "source": [
    "show_bar_plots([black_non_treatment, hispan_non_treatment, white_non_treatment], \n",
    "               non_treatment_count, \n",
    "               [black_treatment, hispan_treatment, white_treatment],\n",
    "               treatment_count,\n",
    "               ['#b2182b','#d6604d','#f0b572'],\n",
    "               'Race of participants',\n",
    "               'Race (%)',\n",
    "               ['Black', 'Hispanic', 'White'],\n",
    "               ['Non-treatment', 'Treatment'])"
   ]
  },
  {
   "cell_type": "markdown",
   "metadata": {},
   "source": [
    "We can see here that there is a huge difference in terms of races in the two groups. The majority of the non-treatment is white, whereas the overwhelming majority of the treatment group is black. This can influence the study as the race in the US has a significant correlation with the socio-economic conditions of the person."
   ]
  },
  {
   "cell_type": "code",
   "execution_count": null,
   "metadata": {},
   "outputs": [],
   "source": [
    "married_non_treatment = len(data[(data.treat == 0) & (data.married == 1)])\n",
    "not_married_non_treatment = non_treatment_count - married_non_treatment\n",
    "\n",
    "married_treatment = len(data[(data.treat == 1) & (data.married == 1)])\n",
    "not_married_treatment = treatment_count - married_treatment"
   ]
  },
  {
   "cell_type": "code",
   "execution_count": null,
   "metadata": {
    "scrolled": true
   },
   "outputs": [],
   "source": [
    "\"\"\"\n",
    "width = 1/3 \n",
    "colors = ['#b2182b','#d6604d']\n",
    "fig, ax = plt.subplots(figsize=(20,7))\n",
    "pos = list(range(2))\n",
    "\n",
    "plt.bar(pos, [married_non_treatment / non_treatment_count, married_treatment / treatment_count], width, color=colors[0])\n",
    "plt.bar([p + width for p in pos], [not_married_non_treatment / non_treatment_count, not_married_treatment / treatment_count], width, color=colors[1])\n",
    "\n",
    "ax.set_ylabel('Married (%)')\n",
    "\n",
    "ax.set_title('Marital status of participants')\n",
    "\n",
    "ax.set_xticks([p + width/2 for p in pos])\n",
    "\n",
    "plt.legend(['Married', 'Not Married'], loc='upper left')\n",
    "\n",
    "ax.set_xticklabels(['Non-treatment', 'Treatment'])\n",
    "\n",
    "plt.grid(axis='y')\n",
    "plt.show()\n",
    "\"\"\"\n",
    "show_bar_plots([married_non_treatment, not_married_non_treatment], \n",
    "               non_treatment_count, \n",
    "               [married_treatment, not_married_treatment],\n",
    "               treatment_count,\n",
    "               ['#b2182b','#d6604d'],\n",
    "               'Marital status of participants',\n",
    "               'Married (%)',\n",
    "               ['Married', 'Not Married'],\n",
    "               ['Non-treatment', 'Treatment'])"
   ]
  },
  {
   "cell_type": "markdown",
   "metadata": {},
   "source": [
    "There is a much bigger share of the treated group which is not married, which can partly be explained by the fact that the treated group is younger."
   ]
  },
  {
   "cell_type": "code",
   "execution_count": null,
   "metadata": {},
   "outputs": [],
   "source": [
    "degree_non_treatment = len(data[(data.treat == 0) & (data.nodegree == 0)])\n",
    "nodegree_non_treatment = non_treatment_count - degree_non_treatment\n",
    "\n",
    "degree_treatment = len(data[(data.treat == 1) & (data.nodegree == 0)])\n",
    "nodegree_treatment = treatment_count - degree_treatment"
   ]
  },
  {
   "cell_type": "code",
   "execution_count": null,
   "metadata": {},
   "outputs": [],
   "source": [
    "show_bar_plots([degree_non_treatment, nodegree_non_treatment], \n",
    "               non_treatment_count, \n",
    "               [degree_treatment, nodegree_treatment],\n",
    "               treatment_count,\n",
    "               ['#b2182b','#d6604d'],\n",
    "               'Share of participants who have a degree',\n",
    "               'Degree (%)',\n",
    "               ['Degree', 'No Degree'],\n",
    "               ['Non-treatment', 'Treatment'])"
   ]
  },
  {
   "cell_type": "markdown",
   "metadata": {},
   "source": [
    "There is a small difference between the two groups. There is 10% more people in the treatment group who don't have a degree."
   ]
  },
  {
   "cell_type": "code",
   "execution_count": null,
   "metadata": {
    "scrolled": true
   },
   "outputs": [],
   "source": [
    "re74_non_treatment = data[data.treat == 0][['re74']].values\n",
    "re74_treatment = data[data.treat == 1][['re74']].values\n",
    "\n",
    "show_box_plot(re74_non_treatment, re74_treatment, 'non-treatment', 'treatment')"
   ]
  },
  {
   "cell_type": "markdown",
   "metadata": {},
   "source": [
    "For the revenue in 1974, a large share of the participants seem to have an income of $0, which seems to indicate that there is missing data."
   ]
  },
  {
   "cell_type": "code",
   "execution_count": null,
   "metadata": {
    "scrolled": true
   },
   "outputs": [],
   "source": [
    "re75_non_treatment = data[data.treat == 0][['re75']].values\n",
    "re75_treatment = data[data.treat == 1][['re75']].values\n",
    "\n",
    "show_box_plot(re75_non_treatment, re75_treatment, 'non-treatment', 'treatment')"
   ]
  },
  {
   "cell_type": "markdown",
   "metadata": {},
   "source": [
    "The results are similar to the ones for 1974."
   ]
  },
  {
   "cell_type": "code",
   "execution_count": null,
   "metadata": {},
   "outputs": [],
   "source": [
    "from sklearn import linear_model\n",
    "logistic = linear_model.LogisticRegression(max_iter=100, tol=1e-9)"
   ]
  },
  {
   "cell_type": "code",
   "execution_count": null,
   "metadata": {},
   "outputs": [],
   "source": [
    "y = data.treat.values\n",
    "X = data.drop(['id', 'treat', 're78'], axis=1).values\n",
    "X"
   ]
  },
  {
   "cell_type": "code",
   "execution_count": null,
   "metadata": {},
   "outputs": [],
   "source": [
    "logistic.fit(X, y)"
   ]
  },
  {
   "cell_type": "code",
   "execution_count": null,
   "metadata": {},
   "outputs": [],
   "source": [
    "probas = logistic.predict_proba(X)"
   ]
  },
  {
   "cell_type": "code",
   "execution_count": null,
   "metadata": {},
   "outputs": [],
   "source": [
    "score_dfs = pd.concat((pd.DataFrame(probas)[1], data.treat), axis=1).sort_values([1], ascending = False)\n",
    "score_dfs"
   ]
  },
  {
   "cell_type": "code",
   "execution_count": null,
   "metadata": {},
   "outputs": [],
   "source": [
    "matching = []\n",
    "last_matched = False\n",
    "i = 0\n",
    "for index, row in score_dfs.iterrows():\n",
    "    if i != 0:\n",
    "        if not last_matched:\n",
    "            last = score_dfs.iloc[i - 1]\n",
    "            if row.treat != last.treat:\n",
    "                #matching[row.index] = last.index\n",
    "                if row.treat == 0:\n",
    "                    matching.append((row.name, last.name))\n",
    "                else:\n",
    "                    matching.append((last.name, row.name))\n",
    "                last_matched = True\n",
    "        else:\n",
    "            last_matched = False\n",
    "    i += 1\n",
    "non_treat_matched = data.loc[pd.DataFrame(matching)[0]]\n",
    "treat_matched = data.loc[pd.DataFrame(matching)[1]]"
   ]
  },
  {
   "cell_type": "code",
   "execution_count": null,
   "metadata": {},
   "outputs": [],
   "source": [
    "matched_non_treatment = non_treat_matched[['re78']].values\n",
    "matched_data_treatment = treat_matched[['re78']].values\n",
    "\n",
    "non_treatment_count = len(matched_non_treatment)\n",
    "treatment_count = len(matched_data_treatment)"
   ]
  },
  {
   "cell_type": "code",
   "execution_count": null,
   "metadata": {},
   "outputs": [],
   "source": [
    "show_hist(matched_non_treatment, \"Histogram of revenue for non-treatment\", \"Revenue in 1978\", \"Frequency\")"
   ]
  },
  {
   "cell_type": "code",
   "execution_count": null,
   "metadata": {},
   "outputs": [],
   "source": [
    "show_hist(matched_data_treatment, \"Histogram of revenue for non-treatment\", \"Revenue in 1978\", \"Frequency\")"
   ]
  },
  {
   "cell_type": "code",
   "execution_count": null,
   "metadata": {},
   "outputs": [],
   "source": [
    "show_box_plot(matched_non_treatment, matched_data_treatment, 'non-treatment', 'treatment')"
   ]
  },
  {
   "cell_type": "code",
   "execution_count": null,
   "metadata": {},
   "outputs": [],
   "source": [
    "age_non_treatment = non_treat_matched[['age']].values\n",
    "age_treatment = treat_matched[['age']].values\n",
    "\n",
    "show_box_plot(age_non_treatment, age_treatment, 'non-treatment', 'treatment')"
   ]
  },
  {
   "cell_type": "code",
   "execution_count": null,
   "metadata": {},
   "outputs": [],
   "source": [
    "educ_non_treatment = non_treat_matched[['educ']].values\n",
    "educ_treatment = treat_matched[['educ']].values\n",
    "\n",
    "show_box_plot(educ_non_treatment, educ_treatment, 'non-treatment', 'treatment')"
   ]
  },
  {
   "cell_type": "code",
   "execution_count": null,
   "metadata": {},
   "outputs": [],
   "source": [
    "black_non_treatment = len(non_treat_matched[non_treat_matched.black == 1])\n",
    "hispan_non_treatment = len(non_treat_matched[non_treat_matched.hispan == 1])\n",
    "white_non_treatment = non_treatment_count - black_non_treatment - hispan_non_treatment\n",
    "\n",
    "black_treatment = len(treat_matched[treat_matched.black == 1])\n",
    "hispan_treatment = len(treat_matched[treat_matched.hispan == 1])\n",
    "white_treatment = treatment_count - black_treatment - hispan_treatment"
   ]
  },
  {
   "cell_type": "code",
   "execution_count": null,
   "metadata": {},
   "outputs": [],
   "source": [
    "show_bar_plots([black_non_treatment, hispan_non_treatment, white_non_treatment], \n",
    "               non_treatment_count, \n",
    "               [black_treatment, hispan_treatment, white_treatment],\n",
    "               treatment_count,\n",
    "               ['#b2182b','#d6604d','#f0b572'],\n",
    "               'Race of participants',\n",
    "               'Race (%)',\n",
    "               ['Black', 'Hispanic', 'White'],\n",
    "               ['Non-treatment', 'Treatment'])"
   ]
  },
  {
   "cell_type": "code",
   "execution_count": null,
   "metadata": {},
   "outputs": [],
   "source": [
    "married_non_treatment = len(non_treat_matched[non_treat_matched.married == 1])\n",
    "not_married_non_treatment = non_treatment_count - married_non_treatment\n",
    "\n",
    "married_treatment = len(treat_matched[treat_matched.married == 1])\n",
    "not_married_treatment = treatment_count - married_treatment"
   ]
  },
  {
   "cell_type": "code",
   "execution_count": null,
   "metadata": {
    "scrolled": true
   },
   "outputs": [],
   "source": [
    "show_bar_plots([married_non_treatment, not_married_non_treatment], \n",
    "               non_treatment_count, \n",
    "               [married_treatment, not_married_treatment],\n",
    "               treatment_count,\n",
    "               ['#b2182b','#d6604d'],\n",
    "               'Marital status of participants',\n",
    "               'Married (%)',\n",
    "               ['Married', 'Not Married'],\n",
    "               ['Non-treatment', 'Treatment'])"
   ]
  },
  {
   "cell_type": "code",
   "execution_count": null,
   "metadata": {},
   "outputs": [],
   "source": [
    "degree_non_treatment = len(non_treat_matched[non_treat_matched.nodegree == 0])\n",
    "nodegree_non_treatment = non_treatment_count - degree_non_treatment\n",
    "\n",
    "degree_treatment = len(treat_matched[treat_matched.nodegree == 0])\n",
    "nodegree_treatment = treatment_count - degree_treatment"
   ]
  },
  {
   "cell_type": "code",
   "execution_count": null,
   "metadata": {},
   "outputs": [],
   "source": [
    "show_bar_plots([degree_non_treatment, nodegree_non_treatment], \n",
    "               non_treatment_count, \n",
    "               [degree_treatment, nodegree_treatment],\n",
    "               treatment_count,\n",
    "               ['#b2182b','#d6604d'],\n",
    "               'Share of participants who have a degree',\n",
    "               'Degree (%)',\n",
    "               ['Degree', 'No Degree'],\n",
    "               ['Non-treatment', 'Treatment'])"
   ]
  },
  {
   "cell_type": "code",
   "execution_count": null,
   "metadata": {},
   "outputs": [],
   "source": [
    "re74_non_treatment = non_treat_matched[['re74']].values\n",
    "re74_treatment = treat_matched[['re74']].values\n",
    "\n",
    "show_box_plot(re74_non_treatment, re74_treatment, 'non-treatment', 'treatment')"
   ]
  },
  {
   "cell_type": "code",
   "execution_count": null,
   "metadata": {},
   "outputs": [],
   "source": [
    "re75_non_treatment = non_treat_matched[['re75']].values\n",
    "re75_treatment = treat_matched[['re75']].values\n",
    "\n",
    "show_box_plot(re75_non_treatment, re75_treatment, 'non-treatment', 'treatment')"
   ]
  },
  {
   "cell_type": "code",
   "execution_count": null,
   "metadata": {},
   "outputs": [],
   "source": []
  }
 ],
 "metadata": {
  "kernelspec": {
   "display_name": "Python 3",
   "language": "python",
   "name": "python3"
  },
  "language_info": {
   "codemirror_mode": {
    "name": "ipython",
    "version": 3
   },
   "file_extension": ".py",
   "mimetype": "text/x-python",
   "name": "python",
   "nbconvert_exporter": "python",
   "pygments_lexer": "ipython3",
   "version": "3.6.3"
  }
 },
 "nbformat": 4,
 "nbformat_minor": 2
}
