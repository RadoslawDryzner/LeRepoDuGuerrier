{
 "cells": [
  {
   "cell_type": "code",
   "execution_count": null,
   "metadata": {},
   "outputs": [],
   "source": [
    "#As always, we import everything\n",
    "import os\n",
    "import pandas as pd\n",
    "import json\n",
    "import folium\n",
    "import math\n",
    "%matplotlib inline\n",
    "import matplotlib.pyplot as plt\n",
    "from geopy.geocoders import Nominatim\n",
    "import base64"
   ]
  },
  {
   "cell_type": "markdown",
   "metadata": {},
   "source": [
    "First, let's get the data and put it in a dataframe."
   ]
  },
  {
   "cell_type": "code",
   "execution_count": null,
   "metadata": {
    "scrolled": false
   },
   "outputs": [],
   "source": [
    "eu_data = pd.read_table('tsdec450.tsv', na_values=': ')"
   ]
  },
  {
   "cell_type": "markdown",
   "metadata": {},
   "source": [
    "Now, we can process it to get the id for each country."
   ]
  },
  {
   "cell_type": "code",
   "execution_count": null,
   "metadata": {
    "scrolled": true
   },
   "outputs": [],
   "source": [
    "eu_data['info'] = eu_data['info'].apply(lambda x: x.split(\",\")[3])\n",
    "eu_data"
   ]
  },
  {
   "cell_type": "markdown",
   "metadata": {},
   "source": [
    "Now we can define a function that returns the color of a country based on its unemployement rate.\n",
    "For this, we need to choose a palette of colors : we used colorbrewer to get one which is color-blind friendly.\n",
    "To get the color for a country, we simply bin all the unemployement_rate into one of the colors.\n",
    "\n",
    "In this function, we also create a mapping from country id to country name."
   ]
  },
  {
   "cell_type": "code",
   "execution_count": null,
   "metadata": {},
   "outputs": [],
   "source": [
    "#colors_unemployement = ['#fee5d9','#fcbba1','#fc9272','#fb6a4a','#de2d26','#a50f15']\n",
    "colors_unemployement = ['#fef0d9','#fdd49e','#fdbb84','#fc8d59','#e34a33','#b30000']\n",
    "min_unemployement_eu = eu_data['2016'].min()\n",
    "max_unemployement_eu = eu_data['2016'].max()\n",
    "\n",
    "id_country_mapping = {}\n",
    "\n",
    "def get_color_eu(country, properties):\n",
    "    global id_country_mapping\n",
    "    id_country_mapping[country] = properties['NAME']\n",
    "    \n",
    "    values = eu_data.loc[eu_data['info'] == country, '2016'].values\n",
    "    if len(values) == 0:\n",
    "        return '#000000'\n",
    "    \n",
    "    unemployement_rate = values[0]\n",
    "    ratio = (unemployement_rate - min_unemployement_eu) / (max_unemployement_eu - min_unemployement_eu)\n",
    "    index = math.floor(ratio * len(colors_unemployement))\n",
    "    if index == len(colors_unemployement):\n",
    "        index = index - 1\n",
    "    return colors_unemployement[index]\n",
    "\n",
    "#TODO : Check colors + maybe change intervals"
   ]
  },
  {
   "cell_type": "markdown",
   "metadata": {},
   "source": [
    "We also define a function that checks if a country is in the dataframe, and if not, we make its overly transparent."
   ]
  },
  {
   "cell_type": "code",
   "execution_count": null,
   "metadata": {},
   "outputs": [],
   "source": [
    "def get_opacity_eu(country):\n",
    "    values = eu_data.loc[eu_data['info'] == country, '2016'].values\n",
    "    return 1 if len(values) > 0 else 0"
   ]
  },
  {
   "cell_type": "markdown",
   "metadata": {},
   "source": [
    "Now we can create the Europe map, and add the overlay, using the previous functions."
   ]
  },
  {
   "cell_type": "markdown",
   "metadata": {},
   "source": [
    "The second map is only used to display the legend.\n",
    "We used to following website to convert the topojson file to gejson\n",
    "https://jeffpaine.github.io/geojson-topojson/"
   ]
  },
  {
   "cell_type": "code",
   "execution_count": null,
   "metadata": {
    "scrolled": false
   },
   "outputs": [],
   "source": [
    "map_eu = folium.Map([51,15], tiles='cartodbpositron', zoom_start=4)\n",
    "\n",
    "\n",
    "# Color of the country\n",
    "folium.TopoJson(\n",
    "    open('topojson/europe.topojson.json'),\n",
    "    object_path='objects.europe',\n",
    "    style_function=lambda feature: {\n",
    "        'fillOpacity' : get_opacity_eu(feature['id']), #opacity for the fill color\n",
    "        'opacity' : get_opacity_eu(feature['id']), #opacity for the borders\n",
    "        'fillColor': get_color_eu(feature['id'], feature['properties']),\n",
    "        'color' : 'black',\n",
    "        'weight' : 1\n",
    "        }\n",
    ").add_to(map_eu)\n",
    "\n",
    "# \n",
    "\"\"\"map_eu.choropleth(geo_data='topojson/europe.geojson.json',data=eu_data,\n",
    "             columns=['info', '2016'],\n",
    "             key_on='feature.id',\n",
    "             fill_color='OrRd',\n",
    "             #fill_color='RdGy',\n",
    "             fill_opacity=0, \n",
    "             line_opacity=0.0,\n",
    "             legend_name='Percentage of unemployement in country')\"\"\""
   ]
  },
  {
   "cell_type": "markdown",
   "metadata": {},
   "source": [
    "We used the geopy library to get the position of the center of each country. This position is then used to place a marker with the graph of unemployement."
   ]
  },
  {
   "cell_type": "code",
   "execution_count": null,
   "metadata": {},
   "outputs": [],
   "source": [
    "\"\"\"position_mapping = {}\n",
    "geolocator = Nominatim()\n",
    "for country_id in eu_data['info']:\n",
    "    if country_id in id_country_mapping:\n",
    "        location = geolocator.geocode(id_country_mapping[country_id])\n",
    "        if (location):\n",
    "            position_mapping[country_id] = [location.latitude,location.longitude]\n",
    "\n",
    "with open('position_mapping.json', 'w') as outfile:\n",
    "    json.dump(position_mapping, outfile)\n",
    "    \n",
    "with open('id_country_mapping.json', 'w') as outfile:\n",
    "    json.dump(id_country_mapping, outfile)\"\"\"\n",
    "\n",
    "with open('position_mapping.json', 'r') as infile:\n",
    "    position_mapping = json.load(infile)\n",
    "    \n",
    "with open('id_country_mapping.json', 'r') as infile:\n",
    "    id_country_mapping = json.load(infile)"
   ]
  },
  {
   "cell_type": "markdown",
   "metadata": {},
   "source": [
    "For each country we create a graph and save it."
   ]
  },
  {
   "cell_type": "code",
   "execution_count": null,
   "metadata": {},
   "outputs": [],
   "source": [
    "for index, row in eu_data.iterrows():\n",
    "    global id_country_mapping\n",
    "    \n",
    "    if row.values[0] in id_country_mapping:\n",
    "        row_values = row.iloc[1:].astype(float)\n",
    "        plot = row_values.transpose().plot()\n",
    "        plt.ylim(0,30)\n",
    "        plt.xlabel('Year')\n",
    "        plt.ylabel('% of unemployed')\n",
    "        plt.title('Graph of unemployment in ' + id_country_mapping[row.values[0]])\n",
    "        plt.savefig('eu_graphs/graph' + row.values[0] + '.png')\n",
    "        plt.close()"
   ]
  },
  {
   "cell_type": "markdown",
   "metadata": {},
   "source": [
    "For each country we place a custom marker (a black disk) that displays the graph when clicked. "
   ]
  },
  {
   "cell_type": "code",
   "execution_count": null,
   "metadata": {},
   "outputs": [],
   "source": [
    "all_markers = folium.FeatureGroup(\"Markers\")\n",
    "for country_id in eu_data['info']:\n",
    "    if country_id in position_mapping:\n",
    "        location = position_mapping[country_id]\n",
    "        if location:\n",
    "            encoded = base64.b64encode(open('eu_graphs/graph' + country_id + '.png', 'rb').read()).decode()\n",
    "            html = '<img src=\"data:image/png;base64,{}\" width=450 height=300>'.format\n",
    "            iframe = folium.IFrame(html(encoded), width=470, height=320)\n",
    "            popup = folium.Popup(iframe, max_width=2650)\n",
    "\n",
    "            custom_icon = folium.features.CustomIcon(\"http://www.i2symbol.com/images/symbols/geometry/black_circle_u25CF_icon_256x256.png\", icon_size=(25, 25))\n",
    "            all_markers.add_child(folium.Marker(location, popup=popup, icon=custom_icon))\n",
    "\n",
    "\n",
    "map_eu.add_child(all_markers)\n",
    "map_eu"
   ]
  },
  {
   "cell_type": "code",
   "execution_count": null,
   "metadata": {},
   "outputs": [],
   "source": [
    "ch_data_raw = pd.read_csv('data/unemployed_switzerland.csv')"
   ]
  },
  {
   "cell_type": "code",
   "execution_count": null,
   "metadata": {},
   "outputs": [],
   "source": [
    "groups = ch_data_raw[['Year', 'Canton', 'Unemployment Rate']].groupby(['Canton'])\n",
    "cantons = ch_data_raw['Canton'].unique()\n",
    "years = ch_data_raw['Year'].unique()\n",
    "ch_data = pd.DataFrame(index = cantons, columns=years)\n",
    "\n",
    "for group, data in groups:\n",
    "    ch_data.loc[group] = data['Unemployment Rate'].values\n",
    "\n",
    "ch_data"
   ]
  },
  {
   "cell_type": "code",
   "execution_count": null,
   "metadata": {},
   "outputs": [],
   "source": [
    "colors_unemployement = ['#fef0d9','#fdd49e','#fdbb84','#fc8d59','#e34a33','#b30000']\n",
    "min_unemployement_ch = ch_data[2016].min()\n",
    "max_unemployement_ch = ch_data[2016].max()\n",
    "\n",
    "id_canton_mapping = {}\n",
    "\n",
    "def get_color_ch(canton, properties):\n",
    "    global id_canton_mapping\n",
    "    id_canton_mapping[canton] = properties['name']\n",
    "    \n",
    "    #values = ch_data.loc[canton][2016]\n",
    "    #if len(values) == 0:\n",
    "    #    return '#000000'\n",
    "    \n",
    "    unemployement_rate = ch_data.loc[canton][2016]\n",
    "    ratio = (unemployement_rate - min_unemployement_ch) / (max_unemployement_ch - min_unemployement_ch)\n",
    "    index = math.floor(ratio * len(colors_unemployement))\n",
    "    if index == len(colors_unemployement):\n",
    "        index = index - 1\n",
    "    return colors_unemployement[index]"
   ]
  },
  {
   "cell_type": "code",
   "execution_count": null,
   "metadata": {},
   "outputs": [],
   "source": [
    "map_ch = folium.Map([46.8,8.3], tiles='cartodbpositron', zoom_start=8)\n",
    "\n",
    "\n",
    "# Color of the country\n",
    "folium.TopoJson(\n",
    "    open('topojson/ch-cantons.topojson.json'),\n",
    "    object_path='objects.cantons',\n",
    "    style_function=lambda feature: {\n",
    "        'fillOpacity' : 1,#get_opacity_eu(feature['id']), #opacity for the fill color\n",
    "        'opacity' : 1,#get_opacity_eu(feature['id']), #opacity for the borders\n",
    "        'fillColor': get_color_ch(feature['id'], feature['properties']),\n",
    "        'color' : 'black',\n",
    "        'weight' : 1\n",
    "        }\n",
    ").add_to(map_ch)"
   ]
  },
  {
   "cell_type": "code",
   "execution_count": null,
   "metadata": {},
   "outputs": [],
   "source": [
    "\"\"\"position_canton_mapping = {}\n",
    "geolocator = Nominatim()\n",
    "for canton_id in id_canton_mapping:\n",
    "    location = geolocator.geocode(id_canton_mapping[canton_id])\n",
    "    if (location):\n",
    "        position_canton_mapping[canton_id] = [location.latitude,location.longitude]\n",
    "\n",
    "with open('position_canton_mapping.json', 'w') as outfile:\n",
    "    json.dump(position_canton_mapping, outfile)\n",
    "    \n",
    "with open('id_canton_mapping.json', 'w') as outfile:\n",
    "    json.dump(id_canton_mapping, outfile)\"\"\"\n",
    "\n",
    "with open('position_canton_mapping.json', 'r') as infile:\n",
    "    position_canton_mapping = json.load(infile)\n",
    "    \n",
    "with open('id_canton_mapping.json', 'r') as infile:\n",
    "    id_canton_mapping = json.load(infile)"
   ]
  },
  {
   "cell_type": "code",
   "execution_count": null,
   "metadata": {},
   "outputs": [],
   "source": [
    "for index, row in ch_data.iterrows():\n",
    "    global id_canton_mapping\n",
    "    \n",
    "    if row.values[0] in id_canton_mapping:\n",
    "        row_values = row.iloc[1:].astype(float)\n",
    "        plot = row_values.transpose().plot()\n",
    "        plt.ylim(0,30)\n",
    "        plt.xlabel('Year')\n",
    "        plt.ylabel('% of unemployed')\n",
    "        plt.title('Graph of unemployment in ' + id_canton_mapping[row.values[0]])\n",
    "        plt.savefig('ch_graphs/graph' + row.values[0] + '.png')\n",
    "        plt.close()"
   ]
  },
  {
   "cell_type": "code",
   "execution_count": null,
   "metadata": {},
   "outputs": [],
   "source": [
    "all_markers = folium.FeatureGroup(\"Markers\")\n",
    "for canton_id in id_canton_mapping:\n",
    "    location = position_canton_mapping[canton_id]\n",
    "    \n",
    "    encoded = base64.b64encode(open('ch_graphs/graph' + canton_id + '.png', 'rb').read()).decode()\n",
    "    html = '<img src=\"data:image/png;base64,{}\" width=450 height=300>'.format\n",
    "    iframe = folium.IFrame(html(encoded), width=470, height=320)\n",
    "    #iframe = folium.IFrame(\"<p>\" + id_canton_mapping[canton_id] + \"</p>\", width=470, height=320)\n",
    "    popup = folium.Popup(iframe, max_width=2650)\n",
    "\n",
    "    custom_icon = folium.features.CustomIcon(\"http://www.i2symbol.com/images/symbols/geometry/black_circle_u25CF_icon_256x256.png\", icon_size=(25, 25))\n",
    "    all_markers.add_child(folium.Marker(location, popup=popup, icon=custom_icon))\n",
    "        \n",
    "\n",
    "\n",
    "map_ch.add_child(all_markers)\n",
    "map_ch"
   ]
  },
  {
   "cell_type": "code",
   "execution_count": null,
   "metadata": {},
   "outputs": [],
   "source": []
  }
 ],
 "metadata": {
  "kernelspec": {
   "display_name": "Python 3",
   "language": "python",
   "name": "python3"
  },
  "language_info": {
   "codemirror_mode": {
    "name": "ipython",
    "version": 3
   },
   "file_extension": ".py",
   "mimetype": "text/x-python",
   "name": "python",
   "nbconvert_exporter": "python",
   "pygments_lexer": "ipython3",
   "version": "3.6.3"
  }
 },
 "nbformat": 4,
 "nbformat_minor": 2
}
