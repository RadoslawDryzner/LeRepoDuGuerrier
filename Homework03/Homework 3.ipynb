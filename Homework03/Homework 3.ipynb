{
 "cells": [
  {
   "cell_type": "code",
   "execution_count": null,
   "metadata": {},
   "outputs": [],
   "source": [
    "#As always, we import everything\n",
    "import os\n",
    "import pandas as pd\n",
    "import json\n",
    "import folium\n",
    "import math\n",
    "%matplotlib inline\n",
    "import matplotlib.pyplot as plt\n",
    "from geopy.geocoders import Nominatim\n",
    "import base64"
   ]
  },
  {
   "cell_type": "markdown",
   "metadata": {},
   "source": [
    "We define a RESET constant, that allows the recreation of all graphs and all mappings. We will detail later in the notebook its use."
   ]
  },
  {
   "cell_type": "code",
   "execution_count": null,
   "metadata": {},
   "outputs": [],
   "source": [
    "RESET = False"
   ]
  },
  {
   "cell_type": "markdown",
   "metadata": {},
   "source": [
    "First, let's get the data and put it in a dataframe.\n",
    "The .tsv file was found on the eurostat website. We modified it RADEK EXPLIQUE"
   ]
  },
  {
   "cell_type": "code",
   "execution_count": null,
   "metadata": {
    "scrolled": false
   },
   "outputs": [],
   "source": [
    "eu_data = pd.read_table('tsdec450.tsv', na_values=': ')"
   ]
  },
  {
   "cell_type": "markdown",
   "metadata": {},
   "source": [
    "Now, we can process it to get the id for each country."
   ]
  },
  {
   "cell_type": "code",
   "execution_count": null,
   "metadata": {
    "scrolled": true
   },
   "outputs": [],
   "source": [
    "eu_data['info'] = eu_data['info'].apply(lambda x: x.split(\",\")[3])\n",
    "eu_data"
   ]
  },
  {
   "cell_type": "markdown",
   "metadata": {},
   "source": [
    "Now we can define a function that returns the color of a country based on its unemployement rate.\n",
    "For this, we need to choose a palette of colors : we used colorbrewer to get one which is color-blind friendly.\n",
    "To get the color for a country, we simply bin all the unemployement_rate into one of the colors.\n",
    "\n",
    "We decided to use a linear scale from the lowest unemployement value to the highest in our data.\n",
    "\n",
    "Later on, we will need to get the full name for each country. We chose to create the mapping from country id to country name, as both the id and the name are available in the topoJSON values. This mapping is only recreated if the RESET constant is set to True. Otherwise, we will load it from a JSON file."
   ]
  },
  {
   "cell_type": "code",
   "execution_count": null,
   "metadata": {},
   "outputs": [],
   "source": [
    "colors_unemployement = ['#fef0d9','#fdd49e','#fdbb84','#fc8d59','#e34a33','#b30000']\n",
    "min_unemployement_eu = eu_data['2016'].min()\n",
    "max_unemployement_eu = eu_data['2016'].max()\n",
    "\n",
    "id_country_mapping = {}\n",
    "\n",
    "def get_color_eu(country, properties):\n",
    "    if RESET:\n",
    "        global id_country_mapping\n",
    "        id_country_mapping[country] = properties['NAME']\n",
    "    \n",
    "    values = eu_data.loc[eu_data['info'] == country, '2016'].values\n",
    "    if len(values) == 0:\n",
    "        return '#000000'\n",
    "    \n",
    "    unemployement_rate = values[0]\n",
    "    ratio = (unemployement_rate - min_unemployement_eu) / (max_unemployement_eu - min_unemployement_eu)\n",
    "    index = math.floor(ratio * len(colors_unemployement))\n",
    "    if index == len(colors_unemployement):\n",
    "        index = index - 1\n",
    "    return colors_unemployement[index]"
   ]
  },
  {
   "cell_type": "markdown",
   "metadata": {},
   "source": [
    "We also define a function that checks if a country is in the dataframe, and if not, we make its overly transparent."
   ]
  },
  {
   "cell_type": "code",
   "execution_count": null,
   "metadata": {},
   "outputs": [],
   "source": [
    "def get_opacity_eu(country):\n",
    "    values = eu_data.loc[eu_data['info'] == country, '2016'].values\n",
    "    return 1 if len(values) > 0 else 0"
   ]
  },
  {
   "cell_type": "markdown",
   "metadata": {},
   "source": [
    "Now we can create the Europe map, and add the overlay, using the previous functions."
   ]
  },
  {
   "cell_type": "markdown",
   "metadata": {},
   "source": [
    "The second map is only used to display the legend.\n",
    "We used to following website to convert the topojson file to gejson\n",
    "https://jeffpaine.github.io/geojson-topojson/"
   ]
  },
  {
   "cell_type": "code",
   "execution_count": null,
   "metadata": {
    "scrolled": false
   },
   "outputs": [],
   "source": [
    "map_eu = folium.Map([51,15], tiles='cartodbpositron', zoom_start=4)\n",
    "\n",
    "\n",
    "# Color of the country\n",
    "folium.TopoJson(\n",
    "    open('topojson/europe.topojson.json'),\n",
    "    object_path='objects.europe',\n",
    "    style_function=lambda feature: {\n",
    "        'fillOpacity' : get_opacity_eu(feature['id']), #opacity for the fill color\n",
    "        'opacity' : get_opacity_eu(feature['id']), #opacity for the borders\n",
    "        'fillColor': get_color_eu(feature['id'], feature['properties']),\n",
    "        'color' : 'black',\n",
    "        'weight' : 1\n",
    "        }\n",
    ").add_to(map_eu)\n",
    "\n",
    "# \n",
    "\"\"\"map_eu.choropleth(geo_data='topojson/europe.geojson.json',data=eu_data,\n",
    "             columns=['info', '2016'],\n",
    "             key_on='feature.id',\n",
    "             fill_color='OrRd',\n",
    "             #fill_color='RdGy',\n",
    "             fill_opacity=0, \n",
    "             line_opacity=0.0,\n",
    "             legend_name='Percentage of unemployement in country')\"\"\""
   ]
  },
  {
   "cell_type": "markdown",
   "metadata": {},
   "source": [
    "For interactivity, we decided to place, for each country a popup displaying the graph of unemployement from 1990 to 2016. Folium provides a way to add a marker, that when clicked on, displays a popup.\n",
    "\n",
    "Thus, we first need to get, for each country its center to place the marker at the right coordinates.\n",
    "We used the geopy library to do this.\n",
    "\n",
    "As this operation is quite slow, and not 100% accurate for each country, we decided to create a mapping using the library, then save it to a JSON, and finally to manually edit this JSON if the coordinates were not accurate.\n",
    "When this was done, we only need to reload this JSON, not recreate it each time the notebook is run."
   ]
  },
  {
   "cell_type": "code",
   "execution_count": null,
   "metadata": {},
   "outputs": [],
   "source": [
    "if RESET:\n",
    "    position_mapping = {}\n",
    "    geolocator = Nominatim()\n",
    "    for country_id in eu_data['info']:\n",
    "        if country_id in id_country_mapping:\n",
    "            location = geolocator.geocode(id_country_mapping[country_id])\n",
    "            if (location):\n",
    "                position_mapping[country_id] = [location.latitude,location.longitude]\n",
    "\n",
    "    with open('position_mapping.json', 'w') as outfile:\n",
    "        json.dump(position_mapping, outfile)\n",
    "\n",
    "    with open('id_country_mapping.json', 'w') as outfile:\n",
    "        json.dump(id_country_mapping, outfile)\n",
    "else:\n",
    "    with open('position_mapping.json', 'r') as infile:\n",
    "        position_mapping = json.load(infile)\n",
    "\n",
    "    with open('id_country_mapping.json', 'r') as infile:\n",
    "        id_country_mapping = json.load(infile)"
   ]
  },
  {
   "cell_type": "markdown",
   "metadata": {},
   "source": [
    "Now that we have the positions, for each country we create a graph and save it. We used the previously defined id_country_mapping to get the full name of each country."
   ]
  },
  {
   "cell_type": "code",
   "execution_count": null,
   "metadata": {},
   "outputs": [],
   "source": [
    "for index, row in eu_data.iterrows():\n",
    "    global id_country_mapping\n",
    "    \n",
    "    if row.values[0] in id_country_mapping:\n",
    "        row_values = row.iloc[1:].astype(float)\n",
    "        plot = row_values.transpose().plot()\n",
    "        plt.ylim(0,30)\n",
    "        plt.xlabel('Year')\n",
    "        plt.ylabel('% of unemployed')\n",
    "        plt.title('Graph of unemployment in ' + id_country_mapping[row.values[0]])\n",
    "        plt.savefig('eu_graphs/graph_' + row.values[0] + '.png')\n",
    "        plt.close()"
   ]
  },
  {
   "cell_type": "markdown",
   "metadata": {},
   "source": [
    "We decided to host all the graphs on our personal server, in order to keep the maps at a low size.\n",
    "\n",
    "Now that we have both the graphs and the positions, we can, for each country, place a custom marker (a black disk) that displays the corresponding graph when clicked. "
   ]
  },
  {
   "cell_type": "code",
   "execution_count": null,
   "metadata": {},
   "outputs": [],
   "source": [
    "all_markers = folium.FeatureGroup(\"Markers\")\n",
    "for country_id in eu_data['info']:\n",
    "    if country_id in position_mapping:\n",
    "        location = position_mapping[country_id]\n",
    "        if location:\n",
    "            html = '<img src=\"http://feudal-ambitions.com/ADA/HW3/eu_graphs/graph_' + country_id + '\" width=450 height=300>'\n",
    "            iframe = folium.IFrame(html, width=470, height=320)\n",
    "            popup = folium.Popup(iframe, max_width=2650)\n",
    "\n",
    "            custom_icon = folium.features.CustomIcon(\"http://www.i2symbol.com/images/symbols/geometry/black_circle_u25CF_icon_256x256.png\", icon_size=(25, 25))\n",
    "            all_markers.add_child(folium.Marker(location, popup=popup, icon=custom_icon))\n",
    "\n",
    "\n",
    "map_eu.add_child(all_markers)\n",
    "map_eu"
   ]
  },
  {
   "cell_type": "code",
   "execution_count": null,
   "metadata": {},
   "outputs": [],
   "source": [
    "#ch_data_raw = pd.read_csv('data/unemployed_switzerland.csv')\n",
    "ch_data = pd.read_csv('data/unemployed_switzerland.csv')"
   ]
  },
  {
   "cell_type": "code",
   "execution_count": null,
   "metadata": {},
   "outputs": [],
   "source": [
    "\"\"\"groups = ch_data_raw[['Year', 'Canton', 'Unemployment Rate']].groupby(['Canton'])\n",
    "cantons = ch_data_raw['Canton'].unique()\n",
    "years = ch_data_raw['Year'].unique()\n",
    "ch_data = pd.DataFrame(index = cantons, columns=years)\n",
    "\n",
    "for group, data in groups:\n",
    "    ch_data.loc[group] = data['Unemployment Rate'].values\n",
    "\"\"\"\n",
    "ch_data"
   ]
  },
  {
   "cell_type": "code",
   "execution_count": null,
   "metadata": {},
   "outputs": [],
   "source": [
    "colors_unemployement = ['#fef0d9','#fdd49e','#fdbb84','#fc8d59','#e34a33','#b30000']\n",
    "min_unemployement_ch = ch_data['2017'].min()\n",
    "max_unemployement_ch = ch_data['2017'].max()\n",
    "\n",
    "id_canton_mapping = {}\n",
    "\n",
    "def get_color_ch(canton, properties):\n",
    "    global id_canton_mapping\n",
    "    id_canton_mapping[canton] = properties['name']\n",
    "    \n",
    "    values = ch_data.loc[ch_data['Canton'] == canton, '2017'].values\n",
    "    if len(values) == 0:\n",
    "        return '#000000'\n",
    "    \n",
    "    unemployement_rate = values[0]\n",
    "    ratio = (unemployement_rate - min_unemployement_ch) / (max_unemployement_ch - min_unemployement_ch)\n",
    "    index = math.floor(ratio * len(colors_unemployement))\n",
    "    if index == len(colors_unemployement):\n",
    "        index = index - 1\n",
    "    return colors_unemployement[index]"
   ]
  },
  {
   "cell_type": "code",
   "execution_count": null,
   "metadata": {},
   "outputs": [],
   "source": [
    "map_ch = folium.Map([46.8,8.3], tiles='cartodbpositron', zoom_start=8)\n",
    "\n",
    "\n",
    "# Color of the country\n",
    "folium.TopoJson(\n",
    "    open('topojson/ch-cantons.topojson.json'),\n",
    "    object_path='objects.cantons',\n",
    "    style_function=lambda feature: {\n",
    "        'fillOpacity' : 1,#get_opacity_eu(feature['id']), #opacity for the fill color\n",
    "        'opacity' : 1,#get_opacity_eu(feature['id']), #opacity for the borders\n",
    "        'fillColor': get_color_ch(feature['id'], feature['properties']),\n",
    "        'color' : 'black',\n",
    "        'weight' : 1\n",
    "        }\n",
    ").add_to(map_ch)"
   ]
  },
  {
   "cell_type": "code",
   "execution_count": null,
   "metadata": {},
   "outputs": [],
   "source": [
    "\"\"\"position_canton_mapping = {}\n",
    "geolocator = Nominatim()\n",
    "for canton_id in id_canton_mapping:\n",
    "    location = geolocator.geocode(id_canton_mapping[canton_id])\n",
    "    if (location):\n",
    "        position_canton_mapping[canton_id] = [location.latitude,location.longitude]\n",
    "\n",
    "with open('position_canton_mapping.json', 'w') as outfile:\n",
    "    json.dump(position_canton_mapping, outfile)\n",
    "    \n",
    "with open('id_canton_mapping.json', 'w') as outfile:\n",
    "    json.dump(id_canton_mapping, outfile)\"\"\"\n",
    "\n",
    "with open('position_canton_mapping.json', 'r') as infile:\n",
    "    position_canton_mapping = json.load(infile)\n",
    "    \n",
    "with open('id_canton_mapping.json', 'r') as infile:\n",
    "    id_canton_mapping = json.load(infile)"
   ]
  },
  {
   "cell_type": "code",
   "execution_count": null,
   "metadata": {},
   "outputs": [],
   "source": [
    "for index, row in ch_data.iterrows():\n",
    "    global id_canton_mapping\n",
    "    \n",
    "    if row.values[0] in id_canton_mapping:\n",
    "        row_values = row.iloc[1:].astype(float)\n",
    "        plot = row_values.transpose().plot()\n",
    "        plt.ylim(0,30)\n",
    "        plt.xlabel('Year')\n",
    "        plt.ylabel('% of unemployed')\n",
    "        plt.title('Graph of unemployment in ' + id_canton_mapping[row.values[0]])\n",
    "        plt.savefig('ch_graphs/graph_' + row.values[0] + '.png')\n",
    "        plt.close()"
   ]
  },
  {
   "cell_type": "code",
   "execution_count": null,
   "metadata": {},
   "outputs": [],
   "source": [
    "all_markers = folium.FeatureGroup(\"Markers\")\n",
    "for canton_id in id_canton_mapping:\n",
    "    location = position_canton_mapping[canton_id]\n",
    "    \n",
    "    html = '<img src=\"http://feudal-ambitions.com/ADA/HW3/ch_graphs/graph_' + canton_id + '\" width=450 height=300>'\n",
    "    iframe = folium.IFrame(html, width=470, height=320)\n",
    "    popup = folium.Popup(iframe, max_width=2650)\n",
    "\n",
    "    custom_icon = folium.features.CustomIcon(\"http://www.i2symbol.com/images/symbols/geometry/black_circle_u25CF_icon_256x256.png\", icon_size=(25, 25))\n",
    "    all_markers.add_child(folium.Marker(location, popup=popup, icon=custom_icon))\n",
    "        \n",
    "\n",
    "\n",
    "map_ch.add_child(all_markers)\n",
    "map_ch"
   ]
  },
  {
   "cell_type": "code",
   "execution_count": null,
   "metadata": {},
   "outputs": [],
   "source": [
    "ch_data2 = pd.read_csv('data/unemployed_num_switzerland.csv', thousands=\"'\")\n",
    "ch_data3 = pd.read_csv('data/jobseekers_switzerland.csv', thousands=\"'\")\n",
    "ch_data4 = pd.read_csv('data/unemployed_foreigner_swiss.csv', thousands=\"'\")"
   ]
  },
  {
   "cell_type": "code",
   "execution_count": null,
   "metadata": {},
   "outputs": [],
   "source": [
    "active_pop = ((ch_data2.iloc[:, 1:] * 100) / ch_data.iloc[:, 1:])\n",
    "ch_jobseeker_rate = (ch_data3.iloc[:, 1:] * 100) / active_pop\n",
    "ch_jobseeker_rate = pd.concat((ch_data['Canton'], ch_jobseeker_rate), axis=1)"
   ]
  },
  {
   "cell_type": "code",
   "execution_count": null,
   "metadata": {},
   "outputs": [],
   "source": [
    "active_pop.to_csv('data/pop_canton.csv')"
   ]
  },
  {
   "cell_type": "code",
   "execution_count": null,
   "metadata": {},
   "outputs": [],
   "source": [
    "colors_unemployement = ['#fef0d9','#fdd49e','#fdbb84','#fc8d59','#e34a33','#b30000']\n",
    "min_jobseeker_ch = ch_jobseeker_rate['2017'].min()\n",
    "max_jobseeker_ch = ch_jobseeker_rate['2017'].max()\n",
    "\n",
    "def get_color_ch_j(canton, properties):\n",
    "    values = ch_jobseeker_rate.loc[ch_jobseeker_rate['Canton'] == canton, '2017'].values\n",
    "    if len(values) == 0:\n",
    "        return '#000000'\n",
    "    \n",
    "    jobseeker_rate = values[0]\n",
    "    ratio = (jobseeker_rate - min_jobseeker_ch) / (max_jobseeker_ch - min_jobseeker_ch)\n",
    "    index = math.floor(ratio * len(colors_unemployement))\n",
    "    if index == len(colors_unemployement):\n",
    "        index = index - 1\n",
    "    return colors_unemployement[index]"
   ]
  },
  {
   "cell_type": "code",
   "execution_count": null,
   "metadata": {},
   "outputs": [],
   "source": [
    "map_ch_j = folium.Map([46.8,8.3], tiles='cartodbpositron', zoom_start=8)\n",
    "\n",
    "\n",
    "# Color of the country\n",
    "folium.TopoJson(\n",
    "    open('topojson/ch-cantons.topojson.json'),\n",
    "    object_path='objects.cantons',\n",
    "    style_function=lambda feature: {\n",
    "        'fillOpacity' : 1,#get_opacity_eu(feature['id']), #opacity for the fill color\n",
    "        'opacity' : 1,#get_opacity_eu(feature['id']), #opacity for the borders\n",
    "        'fillColor': get_color_ch_j(feature['id'], feature['properties']),\n",
    "        'color' : 'black',\n",
    "        'weight' : 1\n",
    "        }\n",
    ").add_to(map_ch_j)"
   ]
  },
  {
   "cell_type": "code",
   "execution_count": null,
   "metadata": {},
   "outputs": [],
   "source": [
    "for index, row in ch_jobseeker_rate.iterrows():\n",
    "    global id_canton_mapping\n",
    "    row_values = row.iloc[1:].astype(float)\n",
    "    plot = row_values.transpose().plot()\n",
    "    plt.ylim(0,30)\n",
    "    plt.xlabel('Year')\n",
    "    plt.ylabel('% of unemployed')\n",
    "    plt.title('Graph of unemployment in ' + id_canton_mapping[row.values[0]])\n",
    "    plt.savefig('ch_graphs/graph_j_' + row.values[0] + '.png')\n",
    "    plt.close()\n",
    "ch_jobseeker_rate"
   ]
  },
  {
   "cell_type": "code",
   "execution_count": null,
   "metadata": {},
   "outputs": [],
   "source": [
    "all_markersj = folium.FeatureGroup(\"Markers\")\n",
    "for canton_id in id_canton_mapping:\n",
    "    location = position_canton_mapping[canton_id]\n",
    "    \n",
    "    html = '<img src=\"http://feudal-ambitions.com/ADA/HW3/ch_graphs/graph_j_' + canton_id + '\" width=450 height=300>'\n",
    "    iframe = folium.IFrame(html, width=470, height=320)\n",
    "    popup = folium.Popup(iframe, max_width=2650)\n",
    "\n",
    "    custom_icon = folium.features.CustomIcon(\"http://www.i2symbol.com/images/symbols/geometry/black_circle_u25CF_icon_256x256.png\", icon_size=(25, 25))\n",
    "    all_markersj.add_child(folium.Marker(location, popup=popup, icon=custom_icon))\n",
    "\n",
    "map_ch_j.add_child(all_markersj)\n",
    "map_ch_j"
   ]
  },
  {
   "cell_type": "code",
   "execution_count": null,
   "metadata": {},
   "outputs": [],
   "source": [
    "ch_data4\n",
    "ch_foreigner = ch_data4[ch_data4.Nationalité == 'Etrangers']\n",
    "ch_foreigner.index = range(0,len(ch_foreigner))\n",
    "ch_foreigner = ch_foreigner.drop('Nationalité', axis=1)\n",
    "ch_swiss = ch_data4[ch_data4.Nationalité == 'Suisses']\n",
    "ch_swiss.index = range(0,len(ch_swiss))\n",
    "ch_swiss = ch_swiss.drop('Nationalité', axis=1)\n",
    "\n"
   ]
  },
  {
   "cell_type": "code",
   "execution_count": null,
   "metadata": {},
   "outputs": [],
   "source": [
    "ch_swiss_rate = (ch_swiss.iloc[:, 1:] * 100) / active_pop\n",
    "ch_swiss_rate = pd.concat((ch_data['Canton'], ch_swiss_rate), axis=1)\n",
    "ch_foreigner_rate = (ch_foreigner.iloc[:, 1:] * 100) / active_pop\n",
    "ch_foreigner_rate = pd.concat((ch_data['Canton'], ch_foreigner_rate), axis=1)\n",
    "\n"
   ]
  },
  {
   "cell_type": "code",
   "execution_count": null,
   "metadata": {
    "scrolled": true
   },
   "outputs": [],
   "source": [
    "ch_swiss"
   ]
  },
  {
   "cell_type": "markdown",
   "metadata": {},
   "source": [
    "As always, we decided to show the graphs of unemployement, this time, for both Swiss and foreigners."
   ]
  },
  {
   "cell_type": "code",
   "execution_count": null,
   "metadata": {},
   "outputs": [],
   "source": [
    "for index, row in ch_swiss_rate.iterrows():\n",
    "    global id_canton_mapping\n",
    "    row_values = row.iloc[2:].astype(float)\n",
    "    plot = row_values.transpose().plot()\n",
    "    row_values = ch_foreigner_rate.iloc[index][2:].astype(float)\n",
    "    plot = row_values.transpose().plot()\n",
    "    plt.ylim(0,10)\n",
    "    plt.legend(['Swiss', 'Foreigners'])\n",
    "    plt.xlabel('Year')\n",
    "    plt.ylabel('% of unemployed')\n",
    "    plt.title('Graph of unemployment in ' + id_canton_mapping[row.values[0]])\n",
    "    plt.savefig('ch_graphs/graph_s_f_' + row.values[0] + '.png')\n",
    "    plt.close()\n",
    "    \n"
   ]
  },
  {
   "cell_type": "markdown",
   "metadata": {},
   "source": [
    "In order to display the most informations in a single map, we decided to show small bar plots for each canton, showing the Swiss and the foreigners unemployement rates, as well as a color for each canton, indicating the difference.\n",
    "\n",
    "First, we need to create these small bar plots, and save them. The produced graphs are then hosted on our personal server."
   ]
  },
  {
   "cell_type": "code",
   "execution_count": null,
   "metadata": {},
   "outputs": [],
   "source": [
    "for index, row in ch_swiss_rate.iterrows():\n",
    "    global id_canton_mapping\n",
    "    row_values = [row.iloc[-1], ch_foreigner_rate.iloc[index][-1]]\n",
    "    plot = plt.bar([0,1], row_values, edgecolor='black',linewidth=10)\n",
    "    plot[0].set_color('b')\n",
    "    plot[0].set_linewidth(30)\n",
    "    plot[1].set_color('orange')\n",
    "    \n",
    "    plt.ylim(0,6)\n",
    "    plt.axis('off')\n",
    "    plt.savefig('icon_ch/icon_' + row.values[0] + '.png')\n",
    "    plt.close()"
   ]
  },
  {
   "cell_type": "markdown",
   "metadata": {},
   "source": [
    "Now, we can write the function that outputs a color based on the difference between the two unemployement rates. We decided to use two linear scale, on for the negative values, and one for the positive ones. This is done to ensure that white values correspond to a small difference, and colorful ones for large difference either positive of negative."
   ]
  },
  {
   "cell_type": "code",
   "execution_count": null,
   "metadata": {},
   "outputs": [],
   "source": [
    "colors_s_f_neg = ['#b2182b','#d6604d','#f0b572','#fddbc7']\n",
    "colors_s_f_pos = ['#d1e5f0','#92c5de','#4393c3','#2166ac']\n",
    "\n",
    "diff_ch_for = ch_swiss_rate.drop('Canton', axis=1).subtract(ch_foreigner_rate.drop('Canton', axis=1))\n",
    "diff_ch_for = pd.concat((ch_data['Canton'], diff_ch_for), axis=1)\n",
    "\n",
    "\n",
    "min_s_f_ch = diff_ch_for['2017'].min()\n",
    "max_s_f_ch = diff_ch_for['2017'].max()\n",
    "\n",
    "def get_color_ch_s_f(canton, properties):\n",
    "    diff_ch_s_f = diff_ch_for.loc[diff_ch_for['Canton'] == canton, '2017'].values\n",
    "    if (diff_ch_s_f < 0):\n",
    "        ratio = (diff_ch_s_f - min_s_f_ch) / (-min_s_f_ch)\n",
    "        colors = colors_s_f_neg\n",
    "    else:\n",
    "        ratio = (diff_ch_s_f) / (max_s_f_ch)\n",
    "        colors = colors_s_f_pos\n",
    "\n",
    "        \n",
    "    index = math.floor(ratio * len(colors))\n",
    "    if index == len(colors):\n",
    "        index = index - 1\n",
    "    return colors[index]"
   ]
  },
  {
   "cell_type": "markdown",
   "metadata": {},
   "source": [
    "As always, we can now create the map."
   ]
  },
  {
   "cell_type": "code",
   "execution_count": null,
   "metadata": {
    "scrolled": true
   },
   "outputs": [],
   "source": [
    "map_ch_s_f = folium.Map([46.8,8.3], tiles='cartodbpositron', zoom_start=8)\n",
    "\n",
    "\n",
    "# Color of the country\n",
    "folium.TopoJson(\n",
    "    open('topojson/ch-cantons.topojson.json'),\n",
    "    object_path='objects.cantons',\n",
    "    style_function=lambda feature: {\n",
    "        'fillOpacity' : 1\n",
    "        'opacity' : 1\n",
    "        'fillColor': get_color_ch_s_f(feature['id'], feature['properties']),\n",
    "        'color' : 'black',\n",
    "        'weight' : 1\n",
    "        }\n",
    ").add_to(map_ch_s_f)"
   ]
  },
  {
   "cell_type": "markdown",
   "metadata": {},
   "source": [
    "And add the 'markers' (that are the small bar plots), that display the graphs."
   ]
  },
  {
   "cell_type": "code",
   "execution_count": null,
   "metadata": {},
   "outputs": [],
   "source": [
    "all_markers_s_f = folium.FeatureGroup(\"Markers\")\n",
    "for canton_id in id_canton_mapping:\n",
    "    location = position_canton_mapping[canton_id]\n",
    "    \n",
    "    html = '<img src=\"http://feudal-ambitions.com/ADA/HW3/ch_graphs/graph_s_f_' + canton_id + '\" width=450 height=300>'\n",
    "    iframe = folium.IFrame(html, width=470, height=320)\n",
    "    popup = folium.Popup(iframe, max_width=2650)\n",
    "\n",
    "    custom_icon = folium.features.CustomIcon(\"http://feudal-ambitions.com/ADA/HW3/icon_ch/icon_\"+ canton_id +\".png\", icon_size=(30, 60))\n",
    "    all_markers_s_f.add_child(folium.Marker(location, popup=popup, icon=custom_icon))\n",
    "\n",
    "map_ch_s_f.add_child(all_markers_s_f)\n",
    "map_ch_s_f"
   ]
  },
  {
   "cell_type": "code",
   "execution_count": null,
   "metadata": {},
   "outputs": [],
   "source": []
  }
 ],
 "metadata": {
  "kernelspec": {
   "display_name": "Python 3",
   "language": "python",
   "name": "python3"
  },
  "language_info": {
   "codemirror_mode": {
    "name": "ipython",
    "version": 3
   },
   "file_extension": ".py",
   "mimetype": "text/x-python",
   "name": "python",
   "nbconvert_exporter": "python",
   "pygments_lexer": "ipython3",
   "version": "3.5.2"
  }
 },
 "nbformat": 4,
 "nbformat_minor": 2
}
