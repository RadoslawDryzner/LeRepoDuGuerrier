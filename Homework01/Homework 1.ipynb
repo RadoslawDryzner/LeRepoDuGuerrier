{
 "cells": [
  {
   "cell_type": "markdown",
   "metadata": {},
   "source": [
    "# Table of Contents\n",
    " <p><div class=\"lev1\"><a href=\"#Task-1.-Compiling-Ebola-Data\"><span class=\"toc-item-num\">Task 1.&nbsp;&nbsp;</span>Compiling Ebola Data</a></div>\n",
    " <div class=\"lev1\"><a href=\"#Task-2.-RNA-Sequences\"><span class=\"toc-item-num\">Task 2.&nbsp;&nbsp;</span>RNA Sequences</a></div>\n",
    " <div class=\"lev1\"><a href=\"#Task-3.-Class-War-in-Titanic\"><span class=\"toc-item-num\">Task 3.&nbsp;&nbsp;</span>Class War in Titanic</a></div></p>"
   ]
  },
  {
   "cell_type": "code",
   "execution_count": 38,
   "metadata": {},
   "outputs": [],
   "source": [
    "DATA_FOLDER = '../../ADA2017-Tutorials/02 - Intro to Pandas/Data' # Use the data folder provided in Tutorial 02 - Intro to Pandas."
   ]
  },
  {
   "cell_type": "markdown",
   "metadata": {},
   "source": [
    "## Task 1. Compiling Ebola Data\n",
    "\n",
    "The `DATA_FOLDER/ebola` folder contains summarized reports of Ebola cases from three countries (Guinea, Liberia and Sierra Leone) during the recent outbreak of the disease in West Africa. For each country, there are daily reports that contain various information about the outbreak in several cities in each country.\n",
    "\n",
    "Use pandas to import these data files into a single `Dataframe`.\n",
    "Using this `DataFrame`, calculate for *each country*, the *daily average per month* of *new cases* and *deaths*.\n",
    "Make sure you handle all the different expressions for *new cases* and *deaths* that are used in the reports."
   ]
  },
  {
   "cell_type": "code",
   "execution_count": 51,
   "metadata": {},
   "outputs": [],
   "source": [
    "#imports\n",
    "import pandas as pd\n",
    "import datetime\n",
    "from dateutil.parser import parse\n",
    "from os import listdir\n",
    "from os.path import isfile, join"
   ]
  },
  {
   "cell_type": "code",
   "execution_count": 52,
   "metadata": {
    "scrolled": false
   },
   "outputs": [],
   "source": [
    "def get_files(country):\n",
    "    path = DATA_FOLDER + \"/ebola/\" + country + \"_data/\"\n",
    "    return [f for f in listdir(path) if isfile(join(path, f))]\n"
   ]
  },
  {
   "cell_type": "code",
   "execution_count": 53,
   "metadata": {
    "scrolled": false
   },
   "outputs": [],
   "source": [
    "def get_row_guinea(country, file):\n",
    "    date = file[:10]\n",
    "    raw = pd.read_csv(DATA_FOLDER + \"/ebola/\" + country + \"_data/\" + file)\n",
    "    interesting = raw[['Description', 'Totals']].fillna(0)\n",
    "    new_cases = float(interesting[interesting.Description == \"Total new cases registered so far\"]['Totals'].values[0])\n",
    "    new_deaths = float(interesting[(interesting.Description == \"New deaths registered today\") | (interesting.Description == \"New deaths registered\")]['Totals'].values[0])\n",
    "    \n",
    "    return {'Country' : country, 'Date' : parse(date), 'NewCases' : new_cases, 'NewDeaths' : new_deaths}"
   ]
  },
  {
   "cell_type": "code",
   "execution_count": 54,
   "metadata": {},
   "outputs": [],
   "source": [
    "def get_row_liberia(country, file):\n",
    "    date = file[:10]\n",
    "    raw = pd.read_csv(DATA_FOLDER + \"/ebola/\" + country + \"_data/\" + file)\n",
    "    interesting = raw[['Variable', 'National']].fillna(0)\n",
    "    new_cases = float(sum(interesting[[v.lower().startswith(\"new case/s\") for v in interesting.Variable]]['National'].values))\n",
    "    new_deaths = float(interesting[interesting.Variable == \"Newly reported deaths\"]['National'].values[0])\n",
    "    \n",
    "    return {'Country' : country, 'Date' : parse(date), 'NewCases' : new_cases, 'NewDeaths' : new_deaths}"
   ]
  },
  {
   "cell_type": "code",
   "execution_count": 55,
   "metadata": {},
   "outputs": [],
   "source": [
    "def get_row_sl(country, file):\n",
    "    date = file[:10]\n",
    "    raw = pd.read_csv(DATA_FOLDER + \"/ebola/\" + country + \"_data/\" + file)\n",
    "    interesting = raw[['variable', 'National']].fillna(0)\n",
    "    new_cases_array = interesting[(interesting.variable == \"new_suspected\") | (interesting.variable == \"new_probable\") | (interesting.variable == \"new_confirmed\")]['National'].values\n",
    "    new_cases = sum([float(val_str) for val_str in new_cases_array])\n",
    "    total_deaths_array = interesting[(interesting.variable == \"death_suspected\") | (interesting.variable == \"death_probable\") | (interesting.variable == \"death_confirmed\")]['National'].values\n",
    "    total_deaths = sum([float(val_str) for val_str in total_deaths_array])\n",
    "    \n",
    "    return {'Country' : country, 'Date' : parse(date), 'NewCases' : new_cases, 'TotalDeaths' : total_deaths}"
   ]
  },
  {
   "cell_type": "code",
   "execution_count": 56,
   "metadata": {},
   "outputs": [],
   "source": [
    "rows_guinea = [get_row_guinea(\"guinea\", file) for file in get_files(\"guinea\")]"
   ]
  },
  {
   "cell_type": "code",
   "execution_count": 57,
   "metadata": {},
   "outputs": [],
   "source": [
    "rows_liberia = [get_row_liberia(\"liberia\", file) for file in get_files(\"liberia\")]"
   ]
  },
  {
   "cell_type": "code",
   "execution_count": 58,
   "metadata": {},
   "outputs": [],
   "source": [
    "rows_sl_total_deaths = [get_row_sl(\"sl\", file) for file in get_files(\"sl\")]\n",
    "dic_sl_total_deaths = {}\n",
    "for row in rows_sl_total_deaths:\n",
    "    dic_sl_total_deaths[row['Date']] = row\n",
    "    \n",
    "rows_sl = []\n",
    "for date, entry in dic_sl_total_deaths.items():\n",
    "    date_before = date - datetime.timedelta(days=1)\n",
    "    if date_before in dic_sl_total_deaths:\n",
    "        copy = dict(entry)\n",
    "        del copy['TotalDeaths']\n",
    "        copy['NewDeaths'] = entry['TotalDeaths'] - dic_sl_total_deaths[date_before]['TotalDeaths']\n",
    "        rows_sl.append(copy)"
   ]
  },
  {
   "cell_type": "code",
   "execution_count": 59,
   "metadata": {},
   "outputs": [],
   "source": [
    "raw_dataframe = pd.DataFrame(columns=['Country', 'Date', 'NewCases', 'NewDeaths'])\n",
    "for row in rows_guinea, rows_sl:\n",
    "    raw_dataframe = raw_dataframe.append(row, ignore_index = True)\n",
    "for row in rows_liberia:\n",
    "    if row['Date'].month != 12: #December data is erroneous\n",
    "        raw_dataframe = raw_dataframe.append(row, ignore_index = True)"
   ]
  },
  {
   "cell_type": "code",
   "execution_count": 60,
   "metadata": {},
   "outputs": [],
   "source": [
    "dataframe = raw_dataframe.set_index(['Country', 'Date'])"
   ]
  },
  {
   "cell_type": "code",
   "execution_count": 61,
   "metadata": {
    "scrolled": true
   },
   "outputs": [
    {
     "data": {
      "text/html": [
       "<div>\n",
       "<style>\n",
       "    .dataframe thead tr:only-child th {\n",
       "        text-align: right;\n",
       "    }\n",
       "\n",
       "    .dataframe thead th {\n",
       "        text-align: left;\n",
       "    }\n",
       "\n",
       "    .dataframe tbody tr th {\n",
       "        vertical-align: top;\n",
       "    }\n",
       "</style>\n",
       "<table border=\"1\" class=\"dataframe\">\n",
       "  <thead>\n",
       "    <tr style=\"text-align: right;\">\n",
       "      <th></th>\n",
       "      <th></th>\n",
       "      <th></th>\n",
       "      <th>NewCases</th>\n",
       "      <th>NewDeaths</th>\n",
       "    </tr>\n",
       "    <tr>\n",
       "      <th>Country</th>\n",
       "      <th>Year</th>\n",
       "      <th>Month</th>\n",
       "      <th></th>\n",
       "      <th></th>\n",
       "    </tr>\n",
       "  </thead>\n",
       "  <tbody>\n",
       "    <tr>\n",
       "      <th rowspan=\"3\" valign=\"top\">guinea</th>\n",
       "      <th rowspan=\"3\" valign=\"top\">2014</th>\n",
       "      <th>8</th>\n",
       "      <td>25.800000</td>\n",
       "      <td>3.400000</td>\n",
       "    </tr>\n",
       "    <tr>\n",
       "      <th>9</th>\n",
       "      <td>19.625000</td>\n",
       "      <td>3.562500</td>\n",
       "    </tr>\n",
       "    <tr>\n",
       "      <th>10</th>\n",
       "      <td>34.000000</td>\n",
       "      <td>15.000000</td>\n",
       "    </tr>\n",
       "    <tr>\n",
       "      <th rowspan=\"6\" valign=\"top\">liberia</th>\n",
       "      <th rowspan=\"6\" valign=\"top\">2014</th>\n",
       "      <th>6</th>\n",
       "      <td>5.714286</td>\n",
       "      <td>2.000000</td>\n",
       "    </tr>\n",
       "    <tr>\n",
       "      <th>7</th>\n",
       "      <td>8.545455</td>\n",
       "      <td>4.272727</td>\n",
       "    </tr>\n",
       "    <tr>\n",
       "      <th>8</th>\n",
       "      <td>37.222222</td>\n",
       "      <td>23.222222</td>\n",
       "    </tr>\n",
       "    <tr>\n",
       "      <th>9</th>\n",
       "      <td>63.833333</td>\n",
       "      <td>36.041667</td>\n",
       "    </tr>\n",
       "    <tr>\n",
       "      <th>10</th>\n",
       "      <td>45.560000</td>\n",
       "      <td>28.040000</td>\n",
       "    </tr>\n",
       "    <tr>\n",
       "      <th>11</th>\n",
       "      <td>26.466667</td>\n",
       "      <td>13.466667</td>\n",
       "    </tr>\n",
       "    <tr>\n",
       "      <th rowspan=\"5\" valign=\"top\">sl</th>\n",
       "      <th rowspan=\"5\" valign=\"top\">2014</th>\n",
       "      <th>8</th>\n",
       "      <td>25.315789</td>\n",
       "      <td>6.947368</td>\n",
       "    </tr>\n",
       "    <tr>\n",
       "      <th>9</th>\n",
       "      <td>42.142857</td>\n",
       "      <td>21.964286</td>\n",
       "    </tr>\n",
       "    <tr>\n",
       "      <th>10</th>\n",
       "      <td>73.652174</td>\n",
       "      <td>23.391304</td>\n",
       "    </tr>\n",
       "    <tr>\n",
       "      <th>11</th>\n",
       "      <td>70.588235</td>\n",
       "      <td>16.352941</td>\n",
       "    </tr>\n",
       "    <tr>\n",
       "      <th>12</th>\n",
       "      <td>39.000000</td>\n",
       "      <td>30.000000</td>\n",
       "    </tr>\n",
       "  </tbody>\n",
       "</table>\n",
       "</div>"
      ],
      "text/plain": [
       "                     NewCases  NewDeaths\n",
       "Country Year Month                      \n",
       "guinea  2014 8      25.800000   3.400000\n",
       "             9      19.625000   3.562500\n",
       "             10     34.000000  15.000000\n",
       "liberia 2014 6       5.714286   2.000000\n",
       "             7       8.545455   4.272727\n",
       "             8      37.222222  23.222222\n",
       "             9      63.833333  36.041667\n",
       "             10     45.560000  28.040000\n",
       "             11     26.466667  13.466667\n",
       "sl      2014 8      25.315789   6.947368\n",
       "             9      42.142857  21.964286\n",
       "             10     73.652174  23.391304\n",
       "             11     70.588235  16.352941\n",
       "             12     39.000000  30.000000"
      ]
     },
     "execution_count": 61,
     "metadata": {},
     "output_type": "execute_result"
    }
   ],
   "source": [
    "dataframe_no_day = raw_dataframe\n",
    "dataframe_no_day['Year'] = raw_dataframe['Date'].apply(lambda x: x.year)\n",
    "dataframe_no_day['Month'] = raw_dataframe['Date'].apply(lambda x: x.month)\n",
    "dataframe_no_day[['Country', 'Year', 'Month', 'NewCases', 'NewDeaths']].groupby(['Country', 'Year', 'Month']).mean()"
   ]
  },
  {
   "cell_type": "code",
   "execution_count": 10,
   "metadata": {},
   "outputs": [],
   "source": [
    "# Write your answer here"
   ]
  },
  {
   "cell_type": "markdown",
   "metadata": {},
   "source": [
    "## Task 2. RNA Sequences\n",
    "\n",
    "In the `DATA_FOLDER/microbiome` subdirectory, there are 9 spreadsheets of microbiome data that was acquired from high-throughput RNA sequencing procedures, along with a 10<sup>th</sup> file that describes the content of each. \n",
    "\n",
    "Use pandas to import the first 9 spreadsheets into a single `DataFrame`.\n",
    "Then, add the metadata information from the 10<sup>th</sup> spreadsheet as columns in the combined `DataFrame`.\n",
    "Make sure that the final `DataFrame` has a unique index and all the `NaN` values have been replaced by the tag `unknown`."
   ]
  },
  {
   "cell_type": "code",
   "execution_count": null,
   "metadata": {
    "collapsed": true
   },
   "outputs": [],
   "source": [
    "# Write your answer here"
   ]
  },
  {
   "cell_type": "markdown",
   "metadata": {},
   "source": [
    "## Task 3. Class War in Titanic\n",
    "\n",
    "Use pandas to import the data file `Data/titanic.xls`. It contains data on all the passengers that travelled on the Titanic."
   ]
  },
  {
   "cell_type": "code",
   "execution_count": null,
   "metadata": {},
   "outputs": [],
   "source": [
    "from IPython.core.display import HTML\n",
    "HTML(filename=DATA_FOLDER+'/titanic.html')"
   ]
  },
  {
   "cell_type": "markdown",
   "metadata": {},
   "source": [
    "For each of the following questions state clearly your assumptions and discuss your findings:\n",
    "1. Describe the *type* and the *value range* of each attribute. Indicate and transform the attributes that can be `Categorical`. \n",
    "2. Plot histograms for the *travel class*, *embarkation port*, *sex* and *age* attributes. For the latter one, use *discrete decade intervals*. \n",
    "3. Calculate the proportion of passengers by *cabin floor*. Present your results in a *pie chart*.\n",
    "4. For each *travel class*, calculate the proportion of the passengers that survived. Present your results in *pie charts*.\n",
    "5. Calculate the proportion of the passengers that survived by *travel class* and *sex*. Present your results in *a single histogram*.\n",
    "6. Create 2 equally populated *age categories* and calculate survival proportions by *age category*, *travel class* and *sex*. Present your results in a `DataFrame` with unique index."
   ]
  },
  {
   "cell_type": "code",
   "execution_count": null,
   "metadata": {
    "collapsed": true
   },
   "outputs": [],
   "source": [
    "# Write your answer here"
   ]
  }
 ],
 "metadata": {
  "kernelspec": {
   "display_name": "Python 3",
   "language": "python",
   "name": "python3"
  },
  "language_info": {
   "codemirror_mode": {
    "name": "ipython",
    "version": 3
   },
   "file_extension": ".py",
   "mimetype": "text/x-python",
   "name": "python",
   "nbconvert_exporter": "python",
   "pygments_lexer": "ipython3",
   "version": "3.5.2"
  }
 },
 "nbformat": 4,
 "nbformat_minor": 2
}
